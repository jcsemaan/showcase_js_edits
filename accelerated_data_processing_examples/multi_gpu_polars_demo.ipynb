{
 "cells": [
  {
   "cell_type": "markdown",
   "id": "93d51e2e-0450-40f0-810a-329bdd393845",
   "metadata": {},
   "source": [
    "# Introduction to Multi GPU Polars, powered by cuDF"
   ]
  },
  {
   "cell_type": "markdown",
   "id": "1351c9bf-24ed-4a5f-8322-de12b6d8629f",
   "metadata": {},
   "source": [
    "Polars is a popular DataFrame library for manipulating structured data. Previously, NVIDIA and Polars [collaborated](https://developer.nvidia.com/blog/polars-gpu-engine-powered-by-rapids-cudf-now-available-in-open-beta/) to release a GPU engine powered by RAPIDS cuDF, allowing users to leverage NVIDIA GPUs for even greater performance.\n",
    "\n",
    "With the 25.06 release of RAPIDS, cuDF now provides support for streaming execution, enabling you to process even larger datasets than before. Further, this new streaming executor allows users to scale up to multiple GPUs on a single node for maximum performance throughput.\n",
    "\n",
    "This notebook is a short introduction to the new streaming GPU engine -- powered by cuDF -- running on multiple NVIDIA GPUs.\n",
    "\n",
    "**NOTE:** This demo was originally performed on a 8xA100 (80GB) node, with a 96 core AMD EPYC 7642 CPU. Running this demo on a different system may lead to different results due to CPU and GPU configuration. Multi GPU Polars is still in an experimental stage, so if you run into problems please [file an issue](https://github.com/rapidsai/cudf/issues/new/choose)."
   ]
  },
  {
   "cell_type": "markdown",
   "id": "a547c9c4-7e55-4cdf-bb82-61cc30e02efa",
   "metadata": {},
   "source": [
    "## Set-up"
   ]
  },
  {
   "cell_type": "markdown",
   "id": "e434a7e4-de1d-482e-b1b0-6f0e51892bab",
   "metadata": {},
   "source": [
    "First, let's see how many NVIDIA GPUs are available to us. Note that even on a single GPU, users can take advantage of the streaming executor for increased performance and scalability. This demo will utilize multiple GPUs."
   ]
  },
  {
   "cell_type": "code",
   "execution_count": 1,
   "id": "3f328da2-a7ae-4adf-89aa-c323a11d0f03",
   "metadata": {},
   "outputs": [
    {
     "name": "stdout",
     "output_type": "stream",
     "text": [
      "Fri Jun  6 16:11:53 2025       \n",
      "+-----------------------------------------------------------------------------------------+\n",
      "| NVIDIA-SMI 570.133.20             Driver Version: 570.133.20     CUDA Version: 12.8     |\n",
      "|-----------------------------------------+------------------------+----------------------+\n",
      "| GPU  Name                 Persistence-M | Bus-Id          Disp.A | Volatile Uncorr. ECC |\n",
      "| Fan  Temp   Perf          Pwr:Usage/Cap |           Memory-Usage | GPU-Util  Compute M. |\n",
      "|                                         |                        |               MIG M. |\n",
      "|=========================================+========================+======================|\n",
      "|   0  NVIDIA A100 80GB PCIe          On  |   00000000:01:00.0 Off |                    0 |\n",
      "| N/A   44C    P0             74W /  300W |   14357MiB /  81920MiB |      0%      Default |\n",
      "|                                         |                        |             Disabled |\n",
      "+-----------------------------------------+------------------------+----------------------+\n",
      "|   1  NVIDIA A100 80GB PCIe          On  |   00000000:23:00.0 Off |                    0 |\n",
      "| N/A   44C    P0             56W /  300W |       0MiB /  81920MiB |      0%      Default |\n",
      "|                                         |                        |             Disabled |\n",
      "+-----------------------------------------+------------------------+----------------------+\n",
      "|   2  NVIDIA A100 80GB PCIe          On  |   00000000:41:00.0 Off |                    0 |\n",
      "| N/A   41C    P0             54W /  300W |       0MiB /  81920MiB |      0%      Default |\n",
      "|                                         |                        |             Disabled |\n",
      "+-----------------------------------------+------------------------+----------------------+\n",
      "|   3  NVIDIA A100 80GB PCIe          On  |   00000000:61:00.0 Off |                    0 |\n",
      "| N/A   41C    P0             53W /  300W |       0MiB /  81920MiB |      0%      Default |\n",
      "|                                         |                        |             Disabled |\n",
      "+-----------------------------------------+------------------------+----------------------+\n",
      "|   4  NVIDIA A100 80GB PCIe          On  |   00000000:81:00.0 Off |                    0 |\n",
      "| N/A   43C    P0             56W /  300W |       0MiB /  81920MiB |      0%      Default |\n",
      "|                                         |                        |             Disabled |\n",
      "+-----------------------------------------+------------------------+----------------------+\n",
      "|   5  NVIDIA A100 80GB PCIe          On  |   00000000:A1:00.0 Off |                    0 |\n",
      "| N/A   50C    P0             61W /  300W |       0MiB /  81920MiB |      0%      Default |\n",
      "|                                         |                        |             Disabled |\n",
      "+-----------------------------------------+------------------------+----------------------+\n",
      "|   6  NVIDIA A100 80GB PCIe          On  |   00000000:C1:00.0 Off |                    0 |\n",
      "| N/A   44C    P0             56W /  300W |       0MiB /  81920MiB |      0%      Default |\n",
      "|                                         |                        |             Disabled |\n",
      "+-----------------------------------------+------------------------+----------------------+\n",
      "|   7  NVIDIA A100 80GB PCIe          On  |   00000000:E1:00.0 Off |                    0 |\n",
      "| N/A   41C    P0             54W /  300W |       0MiB /  81920MiB |      0%      Default |\n",
      "|                                         |                        |             Disabled |\n",
      "+-----------------------------------------+------------------------+----------------------+\n",
      "                                                                                         \n",
      "+-----------------------------------------------------------------------------------------+\n",
      "| Processes:                                                                              |\n",
      "|  GPU   GI   CI              PID   Type   Process name                        GPU Memory |\n",
      "|        ID   ID                                                               Usage      |\n",
      "|=========================================================================================|\n",
      "|    0   N/A  N/A         1737732      C   tritonserver                            478MiB |\n",
      "|    0   N/A  N/A         1739454      C   tritonserver                           3564MiB |\n",
      "|    0   N/A  N/A         1741110      C   tritonserver                           3224MiB |\n",
      "|    0   N/A  N/A         1742363      C   tritonserver                           3220MiB |\n",
      "|    0   N/A  N/A         1743259      C   ...on/triton_python_backend_stub        594MiB |\n",
      "|    0   N/A  N/A         1744836      C   tritonserver                           3236MiB |\n",
      "+-----------------------------------------------------------------------------------------+\n"
     ]
    }
   ],
   "source": [
    "!nvidia-smi"
   ]
  },
  {
   "cell_type": "markdown",
   "id": "39802c60-358d-4c07-a43f-f941e5ee31dc",
   "metadata": {},
   "source": [
    "Let's import the Polars library and confirm which version we're working with. We'll also import a utility to compare the outputs of the different engines we're testing."
   ]
  },
  {
   "cell_type": "code",
   "execution_count": 2,
   "id": "4240df41-cb19-4c3d-b2ea-653b6f66d5f1",
   "metadata": {},
   "outputs": [
    {
     "name": "stdout",
     "output_type": "stream",
     "text": [
      "1.26.0\n"
     ]
    }
   ],
   "source": [
    "import polars as pl\n",
    "from polars.testing import assert_frame_equal\n",
    "print(pl.__version__)"
   ]
  },
  {
   "cell_type": "markdown",
   "id": "3e481961-07b6-4cd8-bab4-e012d8a00df3",
   "metadata": {},
   "source": [
    "## Loading a Dataset"
   ]
  },
  {
   "cell_type": "markdown",
   "id": "6144c104-bcca-422b-983a-fd1285f3d41d",
   "metadata": {},
   "source": [
    "To start, we'll load a fairly large dataset which we can use to show the power of running Polars on multiple GPUs. For this demo, we'll use a Kaggle dataset containing [simulated financial transactions](https://www.kaggle.com/datasets/conorsully1/simulated-transactions). We're downloading a copy of this dataset from a GCS bucket hosted by NVIDIA to provide faster download speeds. We'll start by downloading the data. This should take about 30 seconds.\n",
    "\n",
    "\n",
    "\n",
    "\n"
   ]
  },
  {
   "cell_type": "code",
   "execution_count": 3,
   "id": "61f116b1-fc43-49b7-bd60-b7da7f9a7675",
   "metadata": {},
   "outputs": [
    {
     "name": "stdout",
     "output_type": "stream",
     "text": [
      "--2025-06-06 16:11:56--  https://storage.googleapis.com/rapidsai/polars-demo/transactions.parquet\n",
      "Resolving storage.googleapis.com (storage.googleapis.com)... 142.250.191.59, 142.250.191.91, 142.251.46.187, ...\n",
      "Connecting to storage.googleapis.com (storage.googleapis.com)|142.250.191.59|:443... connected.\n",
      "HTTP request sent, awaiting response... 200 OK\n",
      "Length: 4274457161 (4.0G) [application/octet-stream]\n",
      "Saving to: ‘transactions.parquet’\n",
      "\n",
      "transactions.parque 100%[===================>]   3.98G  75.2MB/s    in 60s     \n",
      "\n",
      "2025-06-06 16:12:56 (67.8 MB/s) - ‘transactions.parquet’ saved [4274457161/4274457161]\n",
      "\n"
     ]
    }
   ],
   "source": [
    "!wget https://storage.googleapis.com/rapidsai/polars-demo/transactions.parquet -O transactions.parquet"
   ]
  },
  {
   "cell_type": "markdown",
   "id": "ebdf7463-9551-4418-b1e1-83dbc2977c7b",
   "metadata": {},
   "source": [
    "## Data License and Terms\n",
    "As this dataset originates from Kaggle, it's governed by a Kaggle dataset-specific license and terms of use.\n",
    "\n",
    "> ### CC0 1.0 Universal\n",
    "> **No Copyright**\n",
    "\n",
    ">The person who associated a work with this deed has dedicated the work to the public domain by waiving all of his or her rights to the work worldwide under copyright law, including all related and neighboring rights, to the extent allowed by law.\n",
    "You can copy, modify, distribute and perform the work, even for commercial purposes, all without asking permission. See Other Information below.\n",
    "\n",
    "> **Other Information**\n",
    "\n",
    ">In no way are the patent or trademark rights of any person affected by CC0, nor are the rights that other persons may have in the work or in how the work is used, such as publicity or privacy rights.\n",
    "Unless expressly stated otherwise, the person who associated a work with this deed makes no warranties about the work, and disclaims liability for all uses of the work, to the fullest extent permitted by applicable law.\n",
    "When using or citing the work, you should not imply endorsement by the author or the affirmer.\n"
   ]
  },
  {
   "cell_type": "code",
   "execution_count": 4,
   "id": "e49c33b8-440c-467f-8dd1-319a1ce4c36f",
   "metadata": {},
   "outputs": [],
   "source": [
    "transactions_df = pl.scan_parquet(\"transactions.parquet\")"
   ]
  },
  {
   "cell_type": "markdown",
   "id": "1a63e3d6-582d-485e-8794-3cd065ad4626",
   "metadata": {},
   "source": [
    "To better understand the dataset we're working with, let's take a quick look at the schema and a few sample records from our large crypto trade history dataset. Note that if I run `collect()` without anything passed in, we will just be using the Polars CPU engine."
   ]
  },
  {
   "cell_type": "code",
   "execution_count": 5,
   "id": "5b8bab98-1b80-4d2f-a95b-95fe29f02021",
   "metadata": {},
   "outputs": [
    {
     "data": {
      "text/plain": [
       "Schema([('CUST_ID', String),\n",
       "        ('START_DATE', Date),\n",
       "        ('END_DATE', Date),\n",
       "        ('TRANS_ID', String),\n",
       "        ('DATE', Date),\n",
       "        ('YEAR', Int64),\n",
       "        ('MONTH', Int64),\n",
       "        ('DAY', Int64),\n",
       "        ('EXP_TYPE', String),\n",
       "        ('AMOUNT', Float64)])"
      ]
     },
     "execution_count": 5,
     "metadata": {},
     "output_type": "execute_result"
    }
   ],
   "source": [
    "transactions_df.collect_schema()"
   ]
  },
  {
   "cell_type": "code",
   "execution_count": 6,
   "id": "6539543c-2de5-4791-9e43-acd1b181b7bf",
   "metadata": {},
   "outputs": [
    {
     "data": {
      "text/html": [
       "<div><style>\n",
       ".dataframe > thead > tr,\n",
       ".dataframe > tbody > tr {\n",
       "  text-align: right;\n",
       "  white-space: pre-wrap;\n",
       "}\n",
       "</style>\n",
       "<small>shape: (5, 10)</small><table border=\"1\" class=\"dataframe\"><thead><tr><th>CUST_ID</th><th>START_DATE</th><th>END_DATE</th><th>TRANS_ID</th><th>DATE</th><th>YEAR</th><th>MONTH</th><th>DAY</th><th>EXP_TYPE</th><th>AMOUNT</th></tr><tr><td>str</td><td>date</td><td>date</td><td>str</td><td>date</td><td>i64</td><td>i64</td><td>i64</td><td>str</td><td>f64</td></tr></thead><tbody><tr><td>&quot;CI6XLYUMQK&quot;</td><td>2015-05-01</td><td>null</td><td>&quot;T8I9ZB5A6X90UG8&quot;</td><td>2015-09-11</td><td>2015</td><td>9</td><td>11</td><td>&quot;Motor/Travel&quot;</td><td>20.27</td></tr><tr><td>&quot;CI6XLYUMQK&quot;</td><td>2015-05-01</td><td>null</td><td>&quot;TZ4JSLS7SC7FO9H&quot;</td><td>2017-02-08</td><td>2017</td><td>2</td><td>8</td><td>&quot;Motor/Travel&quot;</td><td>12.85</td></tr><tr><td>&quot;CI6XLYUMQK&quot;</td><td>2015-05-01</td><td>null</td><td>&quot;TTUKRDDJ6B6F42H&quot;</td><td>2015-08-01</td><td>2015</td><td>8</td><td>1</td><td>&quot;Housing&quot;</td><td>383.8</td></tr><tr><td>&quot;CI6XLYUMQK&quot;</td><td>2015-05-01</td><td>null</td><td>&quot;TDUHFRUKGPPI6HD&quot;</td><td>2019-03-16</td><td>2019</td><td>3</td><td>16</td><td>&quot;Entertainment&quot;</td><td>5.72</td></tr><tr><td>&quot;CI6XLYUMQK&quot;</td><td>2015-05-01</td><td>null</td><td>&quot;T0JBZHBMSVRFMMD&quot;</td><td>2015-05-15</td><td>2015</td><td>5</td><td>15</td><td>&quot;Entertainment&quot;</td><td>11.06</td></tr></tbody></table></div>"
      ],
      "text/plain": [
       "shape: (5, 10)\n",
       "┌────────────┬────────────┬──────────┬─────────────────┬───┬───────┬─────┬───────────────┬────────┐\n",
       "│ CUST_ID    ┆ START_DATE ┆ END_DATE ┆ TRANS_ID        ┆ … ┆ MONTH ┆ DAY ┆ EXP_TYPE      ┆ AMOUNT │\n",
       "│ ---        ┆ ---        ┆ ---      ┆ ---             ┆   ┆ ---   ┆ --- ┆ ---           ┆ ---    │\n",
       "│ str        ┆ date       ┆ date     ┆ str             ┆   ┆ i64   ┆ i64 ┆ str           ┆ f64    │\n",
       "╞════════════╪════════════╪══════════╪═════════════════╪═══╪═══════╪═════╪═══════════════╪════════╡\n",
       "│ CI6XLYUMQK ┆ 2015-05-01 ┆ null     ┆ T8I9ZB5A6X90UG8 ┆ … ┆ 9     ┆ 11  ┆ Motor/Travel  ┆ 20.27  │\n",
       "│ CI6XLYUMQK ┆ 2015-05-01 ┆ null     ┆ TZ4JSLS7SC7FO9H ┆ … ┆ 2     ┆ 8   ┆ Motor/Travel  ┆ 12.85  │\n",
       "│ CI6XLYUMQK ┆ 2015-05-01 ┆ null     ┆ TTUKRDDJ6B6F42H ┆ … ┆ 8     ┆ 1   ┆ Housing       ┆ 383.8  │\n",
       "│ CI6XLYUMQK ┆ 2015-05-01 ┆ null     ┆ TDUHFRUKGPPI6HD ┆ … ┆ 3     ┆ 16  ┆ Entertainment ┆ 5.72   │\n",
       "│ CI6XLYUMQK ┆ 2015-05-01 ┆ null     ┆ T0JBZHBMSVRFMMD ┆ … ┆ 5     ┆ 15  ┆ Entertainment ┆ 11.06  │\n",
       "└────────────┴────────────┴──────────┴─────────────────┴───┴───────┴─────┴───────────────┴────────┘"
      ]
     },
     "execution_count": 6,
     "metadata": {},
     "output_type": "execute_result"
    }
   ],
   "source": [
    "transactions_df.head(5).collect()"
   ]
  },
  {
   "cell_type": "markdown",
   "id": "19305e46-f1f0-4a32-845f-43b9f7a33e6b",
   "metadata": {},
   "source": [
    "## Multi-GPU Engine Setup"
   ]
  },
  {
   "cell_type": "markdown",
   "id": "8425aa02-0515-4e7b-b620-bdfd31569421",
   "metadata": {},
   "source": [
    "For this demo, we are going to be comparing Polars' [CPU streaming engine](https://docs.pola.rs/user-guide/concepts/_streaming/) to the new multi GPU streaming engine. To use the CPU streaming engine, all I have to do is pass `engine=\"streaming\"` into my `collect` calls.\n",
    "\n",
    "To set up our multi GPU engine, let's configure our system to take advantage of the multiple GPUs we have available. The first thing we'll do is set up a `LocalCUDACluster` using `dask_cuda`. By default, we'll be using all of the GPUs that are present on our system, but this is configurable."
   ]
  },
  {
   "cell_type": "code",
   "execution_count": 7,
   "id": "64b682b6-12d8-440d-baca-7c823c0270c5",
   "metadata": {},
   "outputs": [],
   "source": [
    "# This will use all GPUs on the local host by default\n",
    "from dask_cuda import LocalCUDACluster\n",
    "from dask.distributed import Client, wait\n",
    "\n",
    "client = Client(LocalCUDACluster())\n",
    "# client = Client(LocalCUDACluster(n_workers=2))  # to specify a specific number of workers\n"
   ]
  },
  {
   "cell_type": "markdown",
   "id": "6bcc7dfa-3ff7-414d-a851-763de7194f84",
   "metadata": {},
   "source": [
    "Now let's set up my `GPUEngine` using the new streaming executor from cuDF."
   ]
  },
  {
   "cell_type": "code",
   "execution_count": 8,
   "id": "6d02266a-275b-4afe-a862-efe3e3e531b8",
   "metadata": {},
   "outputs": [],
   "source": [
    "executor_options = {\"scheduler\": \"distributed\"}  # Use \"synchronous\" for single GPU streaming execution\n",
    "executor = \"streaming\"\n",
    "\n",
    "engine_multi = pl.GPUEngine(\n",
    "    executor=executor,\n",
    "    executor_options=executor_options,\n",
    ")"
   ]
  },
  {
   "cell_type": "markdown",
   "id": "0d444aec-da19-43d8-bbbf-3414e2925c02",
   "metadata": {},
   "source": [
    "With those few lines, we have our multi GPU cluster initialized and our `GPUEngine` configured to use streaming all ready to go. Now let's take a look at how this performs on some real queries, compared to the CPU streaming engine."
   ]
  },
  {
   "cell_type": "markdown",
   "id": "7259e1c2-e1bd-4b69-af0a-4b283b946b1f",
   "metadata": {},
   "source": [
    "# Running Queries"
   ]
  },
  {
   "cell_type": "markdown",
   "id": "6e976642-487f-415a-8c84-441611b5e128",
   "metadata": {},
   "source": [
    "Let's explore the dataset. We'll take a look at which customers are spending the most money across the entire dataset and grab a number of other supporting stats that may help us understand customer patterns."
   ]
  },
  {
   "cell_type": "code",
   "execution_count": 9,
   "id": "dae5bbb3-5cf1-434a-94cd-52b57eeb11cc",
   "metadata": {},
   "outputs": [
    {
     "name": "stdout",
     "output_type": "stream",
     "text": [
      "CPU times: user 5min 32s, sys: 8min 48s, total: 14min 21s\n",
      "Wall time: 21.9 s\n"
     ]
    },
    {
     "data": {
      "text/html": [
       "<div><style>\n",
       ".dataframe > thead > tr,\n",
       ".dataframe > tbody > tr {\n",
       "  text-align: right;\n",
       "  white-space: pre-wrap;\n",
       "}\n",
       "</style>\n",
       "<small>shape: (75_000, 10)</small><table border=\"1\" class=\"dataframe\"><thead><tr><th>CUST_ID</th><th>total_amount</th><th>avg_amount</th><th>min_amount</th><th>max_amount</th><th>median_amount</th><th>stddev_amount</th><th>q25_amount</th><th>q75_amount</th><th>iqr_amount</th></tr><tr><td>str</td><td>f64</td><td>f64</td><td>f64</td><td>f64</td><td>f64</td><td>f64</td><td>f64</td><td>f64</td><td>f64</td></tr></thead><tbody><tr><td>&quot;CZZYMEA7MJ&quot;</td><td>18617.42</td><td>8.27</td><td>0.29</td><td>156.63</td><td>2.89</td><td>16.53</td><td>1.46</td><td>6.77</td><td>5.31</td></tr><tr><td>&quot;CZZYEH2PF6&quot;</td><td>143326.3</td><td>53.54</td><td>2.19</td><td>439.73</td><td>8.0</td><td>78.03</td><td>3.94</td><td>85.73</td><td>81.79</td></tr><tr><td>&quot;CZZXQ5ULG7&quot;</td><td>166066.68</td><td>30.62</td><td>2.41</td><td>680.86</td><td>9.38</td><td>78.68</td><td>4.65</td><td>26.76</td><td>22.11</td></tr><tr><td>&quot;CZZW4TZZ3H&quot;</td><td>86072.87</td><td>106.66</td><td>18.44</td><td>1406.41</td><td>47.66</td><td>171.82</td><td>32.49</td><td>106.62</td><td>74.13</td></tr><tr><td>&quot;CZZUM94ZSD&quot;</td><td>104694.09</td><td>17.3</td><td>1.31</td><td>407.51</td><td>5.4</td><td>44.73</td><td>2.69</td><td>14.74</td><td>12.05</td></tr><tr><td>&hellip;</td><td>&hellip;</td><td>&hellip;</td><td>&hellip;</td><td>&hellip;</td><td>&hellip;</td><td>&hellip;</td><td>&hellip;</td><td>&hellip;</td><td>&hellip;</td></tr><tr><td>&quot;C002LR5U74&quot;</td><td>8796.49</td><td>11.09</td><td>1.58</td><td>59.14</td><td>4.57</td><td>12.02</td><td>2.82</td><td>16.03</td><td>13.21</td></tr><tr><td>&quot;C0026REM1Q&quot;</td><td>35598.73</td><td>8.55</td><td>1.21</td><td>79.03</td><td>6.795</td><td>7.32</td><td>4.76</td><td>9.97</td><td>5.21</td></tr><tr><td>&quot;C001F6USSU&quot;</td><td>415635.71</td><td>103.11</td><td>12.64</td><td>1633.94</td><td>46.3</td><td>203.56</td><td>26.21</td><td>83.85</td><td>57.64</td></tr><tr><td>&quot;C000TDGP4R&quot;</td><td>766480.7</td><td>249.75</td><td>20.91</td><td>3409.74</td><td>88.04</td><td>439.9</td><td>44.9</td><td>288.19</td><td>243.29</td></tr><tr><td>&quot;C000BK8N2S&quot;</td><td>226846.81</td><td>32.64</td><td>4.13</td><td>646.87</td><td>17.32</td><td>51.57</td><td>8.61</td><td>36.44</td><td>27.83</td></tr></tbody></table></div>"
      ],
      "text/plain": [
       "shape: (75_000, 10)\n",
       "┌───────────┬───────────┬───────────┬───────────┬───┬───────────┬───────────┬───────────┬──────────┐\n",
       "│ CUST_ID   ┆ total_amo ┆ avg_amoun ┆ min_amoun ┆ … ┆ stddev_am ┆ q25_amoun ┆ q75_amoun ┆ iqr_amou │\n",
       "│ ---       ┆ unt       ┆ t         ┆ t         ┆   ┆ ount      ┆ t         ┆ t         ┆ nt       │\n",
       "│ str       ┆ ---       ┆ ---       ┆ ---       ┆   ┆ ---       ┆ ---       ┆ ---       ┆ ---      │\n",
       "│           ┆ f64       ┆ f64       ┆ f64       ┆   ┆ f64       ┆ f64       ┆ f64       ┆ f64      │\n",
       "╞═══════════╪═══════════╪═══════════╪═══════════╪═══╪═══════════╪═══════════╪═══════════╪══════════╡\n",
       "│ CZZYMEA7M ┆ 18617.42  ┆ 8.27      ┆ 0.29      ┆ … ┆ 16.53     ┆ 1.46      ┆ 6.77      ┆ 5.31     │\n",
       "│ J         ┆           ┆           ┆           ┆   ┆           ┆           ┆           ┆          │\n",
       "│ CZZYEH2PF ┆ 143326.3  ┆ 53.54     ┆ 2.19      ┆ … ┆ 78.03     ┆ 3.94      ┆ 85.73     ┆ 81.79    │\n",
       "│ 6         ┆           ┆           ┆           ┆   ┆           ┆           ┆           ┆          │\n",
       "│ CZZXQ5ULG ┆ 166066.68 ┆ 30.62     ┆ 2.41      ┆ … ┆ 78.68     ┆ 4.65      ┆ 26.76     ┆ 22.11    │\n",
       "│ 7         ┆           ┆           ┆           ┆   ┆           ┆           ┆           ┆          │\n",
       "│ CZZW4TZZ3 ┆ 86072.87  ┆ 106.66    ┆ 18.44     ┆ … ┆ 171.82    ┆ 32.49     ┆ 106.62    ┆ 74.13    │\n",
       "│ H         ┆           ┆           ┆           ┆   ┆           ┆           ┆           ┆          │\n",
       "│ CZZUM94ZS ┆ 104694.09 ┆ 17.3      ┆ 1.31      ┆ … ┆ 44.73     ┆ 2.69      ┆ 14.74     ┆ 12.05    │\n",
       "│ D         ┆           ┆           ┆           ┆   ┆           ┆           ┆           ┆          │\n",
       "│ …         ┆ …         ┆ …         ┆ …         ┆ … ┆ …         ┆ …         ┆ …         ┆ …        │\n",
       "│ C002LR5U7 ┆ 8796.49   ┆ 11.09     ┆ 1.58      ┆ … ┆ 12.02     ┆ 2.82      ┆ 16.03     ┆ 13.21    │\n",
       "│ 4         ┆           ┆           ┆           ┆   ┆           ┆           ┆           ┆          │\n",
       "│ C0026REM1 ┆ 35598.73  ┆ 8.55      ┆ 1.21      ┆ … ┆ 7.32      ┆ 4.76      ┆ 9.97      ┆ 5.21     │\n",
       "│ Q         ┆           ┆           ┆           ┆   ┆           ┆           ┆           ┆          │\n",
       "│ C001F6USS ┆ 415635.71 ┆ 103.11    ┆ 12.64     ┆ … ┆ 203.56    ┆ 26.21     ┆ 83.85     ┆ 57.64    │\n",
       "│ U         ┆           ┆           ┆           ┆   ┆           ┆           ┆           ┆          │\n",
       "│ C000TDGP4 ┆ 766480.7  ┆ 249.75    ┆ 20.91     ┆ … ┆ 439.9     ┆ 44.9      ┆ 288.19    ┆ 243.29   │\n",
       "│ R         ┆           ┆           ┆           ┆   ┆           ┆           ┆           ┆          │\n",
       "│ C000BK8N2 ┆ 226846.81 ┆ 32.64     ┆ 4.13      ┆ … ┆ 51.57     ┆ 8.61      ┆ 36.44     ┆ 27.83    │\n",
       "│ S         ┆           ┆           ┆           ┆   ┆           ┆           ┆           ┆          │\n",
       "└───────────┴───────────┴───────────┴───────────┴───┴───────────┴───────────┴───────────┴──────────┘"
      ]
     },
     "execution_count": 9,
     "metadata": {},
     "output_type": "execute_result"
    }
   ],
   "source": [
    "%%time\n",
    "\n",
    "q1_cpu = (\n",
    "    transactions_df\n",
    "    .group_by(\"CUST_ID\")\n",
    "    .agg(\n",
    "        pl.sum(\"AMOUNT\").alias(\"total_amount\"),\n",
    "        pl.mean(\"AMOUNT\").round(2).alias(\"avg_amount\"),\n",
    "        pl.min(\"AMOUNT\").alias(\"min_amount\"),\n",
    "        pl.max(\"AMOUNT\").alias(\"max_amount\"),\n",
    "        pl.median(\"AMOUNT\").alias(\"median_amount\"),\n",
    "        pl.std(\"AMOUNT\").round(2).alias(\"stddev_amount\"),\n",
    "        pl.col(\"AMOUNT\").quantile(0.25).alias(\"q25_amount\"),\n",
    "        pl.col(\"AMOUNT\").quantile(0.75).alias(\"q75_amount\"),\n",
    "        (pl.col(\"AMOUNT\").quantile(0.75) - pl.col(\"AMOUNT\").quantile(0.25)).alias(\"iqr_amount\"),\n",
    "\n",
    "    )\n",
    "    .sort(\"CUST_ID\", descending=True)\n",
    "    .collect(engine=\"streaming\")\n",
    ")\n",
    "q1_cpu"
   ]
  },
  {
   "cell_type": "markdown",
   "id": "e6418b6f-9781-4d1e-b501-f62b694fd1d5",
   "metadata": {},
   "source": [
    "That was pretty quick! We can see the power of the CPU streaming engine allowing these tasks to be performed in parallel and taking advantage of all of the available CPU cores.\n",
    "\n",
    "Now let's run the same query using the multi GPU engine we set up."
   ]
  },
  {
   "cell_type": "code",
   "execution_count": 10,
   "id": "d8f2795b-a36a-4894-9304-e38de3f47312",
   "metadata": {},
   "outputs": [
    {
     "name": "stdout",
     "output_type": "stream",
     "text": [
      "CPU times: user 818 ms, sys: 3.91 s, total: 4.73 s\n",
      "Wall time: 6.63 s\n"
     ]
    },
    {
     "data": {
      "text/html": [
       "<div><style>\n",
       ".dataframe > thead > tr,\n",
       ".dataframe > tbody > tr {\n",
       "  text-align: right;\n",
       "  white-space: pre-wrap;\n",
       "}\n",
       "</style>\n",
       "<small>shape: (75_000, 10)</small><table border=\"1\" class=\"dataframe\"><thead><tr><th>CUST_ID</th><th>total_amount</th><th>avg_amount</th><th>min_amount</th><th>max_amount</th><th>median_amount</th><th>stddev_amount</th><th>q25_amount</th><th>q75_amount</th><th>iqr_amount</th></tr><tr><td>str</td><td>f64</td><td>f64</td><td>f64</td><td>f64</td><td>f64</td><td>f64</td><td>f64</td><td>f64</td><td>f64</td></tr></thead><tbody><tr><td>&quot;CZZYMEA7MJ&quot;</td><td>18617.42</td><td>8.27</td><td>0.29</td><td>156.63</td><td>2.89</td><td>16.53</td><td>1.46</td><td>6.77</td><td>5.31</td></tr><tr><td>&quot;CZZYEH2PF6&quot;</td><td>143326.3</td><td>53.54</td><td>2.19</td><td>439.73</td><td>8.0</td><td>78.03</td><td>3.94</td><td>85.73</td><td>81.79</td></tr><tr><td>&quot;CZZXQ5ULG7&quot;</td><td>166066.68</td><td>30.62</td><td>2.41</td><td>680.86</td><td>9.38</td><td>78.68</td><td>4.65</td><td>26.76</td><td>22.11</td></tr><tr><td>&quot;CZZW4TZZ3H&quot;</td><td>86072.87</td><td>106.66</td><td>18.44</td><td>1406.41</td><td>47.66</td><td>171.82</td><td>32.49</td><td>106.6</td><td>74.11</td></tr><tr><td>&quot;CZZUM94ZSD&quot;</td><td>104694.09</td><td>17.3</td><td>1.31</td><td>407.51</td><td>5.4</td><td>44.73</td><td>2.69</td><td>14.74</td><td>12.05</td></tr><tr><td>&hellip;</td><td>&hellip;</td><td>&hellip;</td><td>&hellip;</td><td>&hellip;</td><td>&hellip;</td><td>&hellip;</td><td>&hellip;</td><td>&hellip;</td><td>&hellip;</td></tr><tr><td>&quot;C002LR5U74&quot;</td><td>8796.49</td><td>11.09</td><td>1.58</td><td>59.14</td><td>4.57</td><td>12.02</td><td>2.82</td><td>16.03</td><td>13.21</td></tr><tr><td>&quot;C0026REM1Q&quot;</td><td>35598.73</td><td>8.55</td><td>1.21</td><td>79.03</td><td>6.795</td><td>7.32</td><td>4.76</td><td>9.97</td><td>5.21</td></tr><tr><td>&quot;C001F6USSU&quot;</td><td>415635.71</td><td>103.11</td><td>12.64</td><td>1633.94</td><td>46.3</td><td>203.56</td><td>26.21</td><td>83.82</td><td>57.61</td></tr><tr><td>&quot;C000TDGP4R&quot;</td><td>766480.7</td><td>249.75</td><td>20.91</td><td>3409.74</td><td>88.04</td><td>439.9</td><td>44.9</td><td>288.19</td><td>243.29</td></tr><tr><td>&quot;C000BK8N2S&quot;</td><td>226846.81</td><td>32.64</td><td>4.13</td><td>646.87</td><td>17.32</td><td>51.57</td><td>8.61</td><td>36.44</td><td>27.83</td></tr></tbody></table></div>"
      ],
      "text/plain": [
       "shape: (75_000, 10)\n",
       "┌───────────┬───────────┬───────────┬───────────┬───┬───────────┬───────────┬───────────┬──────────┐\n",
       "│ CUST_ID   ┆ total_amo ┆ avg_amoun ┆ min_amoun ┆ … ┆ stddev_am ┆ q25_amoun ┆ q75_amoun ┆ iqr_amou │\n",
       "│ ---       ┆ unt       ┆ t         ┆ t         ┆   ┆ ount      ┆ t         ┆ t         ┆ nt       │\n",
       "│ str       ┆ ---       ┆ ---       ┆ ---       ┆   ┆ ---       ┆ ---       ┆ ---       ┆ ---      │\n",
       "│           ┆ f64       ┆ f64       ┆ f64       ┆   ┆ f64       ┆ f64       ┆ f64       ┆ f64      │\n",
       "╞═══════════╪═══════════╪═══════════╪═══════════╪═══╪═══════════╪═══════════╪═══════════╪══════════╡\n",
       "│ CZZYMEA7M ┆ 18617.42  ┆ 8.27      ┆ 0.29      ┆ … ┆ 16.53     ┆ 1.46      ┆ 6.77      ┆ 5.31     │\n",
       "│ J         ┆           ┆           ┆           ┆   ┆           ┆           ┆           ┆          │\n",
       "│ CZZYEH2PF ┆ 143326.3  ┆ 53.54     ┆ 2.19      ┆ … ┆ 78.03     ┆ 3.94      ┆ 85.73     ┆ 81.79    │\n",
       "│ 6         ┆           ┆           ┆           ┆   ┆           ┆           ┆           ┆          │\n",
       "│ CZZXQ5ULG ┆ 166066.68 ┆ 30.62     ┆ 2.41      ┆ … ┆ 78.68     ┆ 4.65      ┆ 26.76     ┆ 22.11    │\n",
       "│ 7         ┆           ┆           ┆           ┆   ┆           ┆           ┆           ┆          │\n",
       "│ CZZW4TZZ3 ┆ 86072.87  ┆ 106.66    ┆ 18.44     ┆ … ┆ 171.82    ┆ 32.49     ┆ 106.6     ┆ 74.11    │\n",
       "│ H         ┆           ┆           ┆           ┆   ┆           ┆           ┆           ┆          │\n",
       "│ CZZUM94ZS ┆ 104694.09 ┆ 17.3      ┆ 1.31      ┆ … ┆ 44.73     ┆ 2.69      ┆ 14.74     ┆ 12.05    │\n",
       "│ D         ┆           ┆           ┆           ┆   ┆           ┆           ┆           ┆          │\n",
       "│ …         ┆ …         ┆ …         ┆ …         ┆ … ┆ …         ┆ …         ┆ …         ┆ …        │\n",
       "│ C002LR5U7 ┆ 8796.49   ┆ 11.09     ┆ 1.58      ┆ … ┆ 12.02     ┆ 2.82      ┆ 16.03     ┆ 13.21    │\n",
       "│ 4         ┆           ┆           ┆           ┆   ┆           ┆           ┆           ┆          │\n",
       "│ C0026REM1 ┆ 35598.73  ┆ 8.55      ┆ 1.21      ┆ … ┆ 7.32      ┆ 4.76      ┆ 9.97      ┆ 5.21     │\n",
       "│ Q         ┆           ┆           ┆           ┆   ┆           ┆           ┆           ┆          │\n",
       "│ C001F6USS ┆ 415635.71 ┆ 103.11    ┆ 12.64     ┆ … ┆ 203.56    ┆ 26.21     ┆ 83.82     ┆ 57.61    │\n",
       "│ U         ┆           ┆           ┆           ┆   ┆           ┆           ┆           ┆          │\n",
       "│ C000TDGP4 ┆ 766480.7  ┆ 249.75    ┆ 20.91     ┆ … ┆ 439.9     ┆ 44.9      ┆ 288.19    ┆ 243.29   │\n",
       "│ R         ┆           ┆           ┆           ┆   ┆           ┆           ┆           ┆          │\n",
       "│ C000BK8N2 ┆ 226846.81 ┆ 32.64     ┆ 4.13      ┆ … ┆ 51.57     ┆ 8.61      ┆ 36.44     ┆ 27.83    │\n",
       "│ S         ┆           ┆           ┆           ┆   ┆           ┆           ┆           ┆          │\n",
       "└───────────┴───────────┴───────────┴───────────┴───┴───────────┴───────────┴───────────┴──────────┘"
      ]
     },
     "execution_count": 10,
     "metadata": {},
     "output_type": "execute_result"
    }
   ],
   "source": [
    "%%time\n",
    "q1_gpu = (\n",
    "    transactions_df\n",
    "    .group_by(\"CUST_ID\")\n",
    "    .agg(\n",
    "        pl.sum(\"AMOUNT\").alias(\"total_amount\"),\n",
    "        pl.mean(\"AMOUNT\").round(2).alias(\"avg_amount\"),\n",
    "        pl.min(\"AMOUNT\").alias(\"min_amount\"),\n",
    "        pl.max(\"AMOUNT\").alias(\"max_amount\"),\n",
    "        pl.median(\"AMOUNT\").alias(\"median_amount\"),\n",
    "        pl.std(\"AMOUNT\").round(2).alias(\"stddev_amount\"),\n",
    "        pl.col(\"AMOUNT\").quantile(0.25).alias(\"q25_amount\"),\n",
    "        pl.col(\"AMOUNT\").quantile(0.75).alias(\"q75_amount\"),\n",
    "        (pl.col(\"AMOUNT\").quantile(0.75) - pl.col(\"AMOUNT\").quantile(0.25)).alias(\"iqr_amount\"),\n",
    "\n",
    "    )\n",
    "    .sort(\"CUST_ID\", descending=True)\n",
    "    .collect(engine=engine_multi)\n",
    ")\n",
    "q1_gpu\n"
   ]
  },
  {
   "cell_type": "markdown",
   "id": "36edea6e-3567-49bc-954f-d3ccdb40b576",
   "metadata": {},
   "source": [
    "Even on a relatively simple query with just a single dataset, we see a nice speedup from using our multi-GPU engine. We're able to utilize the 8 GPUs on our cluster to run this query about 3.5x faster than we could on CPUs.\n",
    "\n",
    "Let's look at a little more complex query next. We'll just look at transaction IDs that contain certain characters, and perform a few aggregations to understand the number of unique customers, the number of large and small transactions, and how many unique customers we have for various expense types."
   ]
  },
  {
   "cell_type": "code",
   "execution_count": 11,
   "id": "f2a9c050-122e-4db1-99d0-b0b91e55b6d7",
   "metadata": {},
   "outputs": [
    {
     "name": "stdout",
     "output_type": "stream",
     "text": [
      "CPU times: user 4min 30s, sys: 2min 51s, total: 7min 22s\n",
      "Wall time: 1min\n"
     ]
    },
    {
     "data": {
      "text/html": [
       "<div><style>\n",
       ".dataframe > thead > tr,\n",
       ".dataframe > tbody > tr {\n",
       "  text-align: right;\n",
       "  white-space: pre-wrap;\n",
       "}\n",
       "</style>\n",
       "<small>shape: (12, 6)</small><table border=\"1\" class=\"dataframe\"><thead><tr><th>EXP_TYPE</th><th>distinct_ab_ids</th><th>distinct_customers</th><th>customer_diversity_ratio</th><th>num_large_txns</th><th>num_micro_txns</th></tr><tr><td>str</td><td>u32</td><td>u32</td><td>f64</td><td>u32</td><td>u32</td></tr></thead><tbody><tr><td>&quot;Housing&quot;</td><td>950172</td><td>35501</td><td>0.037363</td><td>950172</td><td>950172</td></tr><tr><td>&quot;Entertainment&quot;</td><td>81694858</td><td>71250</td><td>0.000872</td><td>81694858</td><td>81694858</td></tr><tr><td>&quot;Gambling&quot;</td><td>2594431</td><td>14398</td><td>0.00555</td><td>2594431</td><td>2594431</td></tr><tr><td>&quot;Groceries&quot;</td><td>24994970</td><td>75000</td><td>0.003001</td><td>24994970</td><td>24994970</td></tr><tr><td>&quot;Tax&quot;</td><td>1622190</td><td>60748</td><td>0.037448</td><td>1622190</td><td>1622190</td></tr><tr><td>&hellip;</td><td>&hellip;</td><td>&hellip;</td><td>&hellip;</td><td>&hellip;</td><td>&hellip;</td></tr><tr><td>&quot;Education&quot;</td><td>1877951</td><td>28334</td><td>0.015088</td><td>1877951</td><td>1877951</td></tr><tr><td>&quot;Health&quot;</td><td>4276463</td><td>71237</td><td>0.016658</td><td>4276463</td><td>4276463</td></tr><tr><td>&quot;Fines&quot;</td><td>27785</td><td>6244</td><td>0.224726</td><td>27785</td><td>27785</td></tr><tr><td>&quot;Clothing&quot;</td><td>4275270</td><td>71219</td><td>0.016658</td><td>4275270</td><td>4275270</td></tr><tr><td>&quot;Motor/Travel&quot;</td><td>16022948</td><td>60166</td><td>0.003755</td><td>16022948</td><td>16022948</td></tr></tbody></table></div>"
      ],
      "text/plain": [
       "shape: (12, 6)\n",
       "┌───────────────┬────────────────┬────────────────┬────────────────┬───────────────┬───────────────┐\n",
       "│ EXP_TYPE      ┆ distinct_ab_id ┆ distinct_custo ┆ customer_diver ┆ num_large_txn ┆ num_micro_txn │\n",
       "│ ---           ┆ s              ┆ mers           ┆ sity_ratio     ┆ s             ┆ s             │\n",
       "│ str           ┆ ---            ┆ ---            ┆ ---            ┆ ---           ┆ ---           │\n",
       "│               ┆ u32            ┆ u32            ┆ f64            ┆ u32           ┆ u32           │\n",
       "╞═══════════════╪════════════════╪════════════════╪════════════════╪═══════════════╪═══════════════╡\n",
       "│ Housing       ┆ 950172         ┆ 35501          ┆ 0.037363       ┆ 950172        ┆ 950172        │\n",
       "│ Entertainment ┆ 81694858       ┆ 71250          ┆ 0.000872       ┆ 81694858      ┆ 81694858      │\n",
       "│ Gambling      ┆ 2594431        ┆ 14398          ┆ 0.00555        ┆ 2594431       ┆ 2594431       │\n",
       "│ Groceries     ┆ 24994970       ┆ 75000          ┆ 0.003001       ┆ 24994970      ┆ 24994970      │\n",
       "│ Tax           ┆ 1622190        ┆ 60748          ┆ 0.037448       ┆ 1622190       ┆ 1622190       │\n",
       "│ …             ┆ …              ┆ …              ┆ …              ┆ …             ┆ …             │\n",
       "│ Education     ┆ 1877951        ┆ 28334          ┆ 0.015088       ┆ 1877951       ┆ 1877951       │\n",
       "│ Health        ┆ 4276463        ┆ 71237          ┆ 0.016658       ┆ 4276463       ┆ 4276463       │\n",
       "│ Fines         ┆ 27785          ┆ 6244           ┆ 0.224726       ┆ 27785         ┆ 27785         │\n",
       "│ Clothing      ┆ 4275270        ┆ 71219          ┆ 0.016658       ┆ 4275270       ┆ 4275270       │\n",
       "│ Motor/Travel  ┆ 16022948       ┆ 60166          ┆ 0.003755       ┆ 16022948      ┆ 16022948      │\n",
       "└───────────────┴────────────────┴────────────────┴────────────────┴───────────────┴───────────────┘"
      ]
     },
     "execution_count": 11,
     "metadata": {},
     "output_type": "execute_result"
    }
   ],
   "source": [
    "%%time\n",
    "q2_cpu = (\n",
    "    transactions_df\n",
    "    .filter(\n",
    "        pl.col(\"TRANS_ID\").str.contains(\"A\") | pl.col(\"TRANS_ID\").str.contains(\"B\")\n",
    "    )\n",
    "    .group_by(\"EXP_TYPE\")\n",
    "    .agg([\n",
    "        pl.n_unique(\"TRANS_ID\").alias(\"distinct_ab_ids\"),\n",
    "        pl.n_unique(\"CUST_ID\").alias(\"distinct_customers\"),\n",
    "        (pl.col(\"CUST_ID\").n_unique() / pl.len()).alias(\"customer_diversity_ratio\"),\n",
    "        (pl.col(\"AMOUNT\") > 1000).len().alias(\"num_large_txns\"),\n",
    "        (pl.col(\"AMOUNT\") < 10).len().alias(\"num_micro_txns\"),\n",
    "    ])\n",
    "    .collect(engine=\"streaming\")\n",
    ")\n",
    "q2_cpu "
   ]
  },
  {
   "cell_type": "markdown",
   "id": "c1619b61-097b-490c-8858-582176bc6273",
   "metadata": {},
   "source": [
    "Again, we see that the CPU streaming engine allows us to run this pretty quickly, though with a bit more complexity added to the query we do have to wait a bit for results now. Let's see what kind of speed-ups we can get from running this on our multi GPU engine again."
   ]
  },
  {
   "cell_type": "code",
   "execution_count": 12,
   "id": "0d566f74-2aa8-4033-bcb6-468ba2068e4b",
   "metadata": {},
   "outputs": [
    {
     "name": "stdout",
     "output_type": "stream",
     "text": [
      "CPU times: user 693 ms, sys: 658 ms, total: 1.35 s\n",
      "Wall time: 7.87 s\n"
     ]
    },
    {
     "data": {
      "text/html": [
       "<div><style>\n",
       ".dataframe > thead > tr,\n",
       ".dataframe > tbody > tr {\n",
       "  text-align: right;\n",
       "  white-space: pre-wrap;\n",
       "}\n",
       "</style>\n",
       "<small>shape: (12, 6)</small><table border=\"1\" class=\"dataframe\"><thead><tr><th>EXP_TYPE</th><th>distinct_ab_ids</th><th>distinct_customers</th><th>customer_diversity_ratio</th><th>num_large_txns</th><th>num_micro_txns</th></tr><tr><td>str</td><td>i64</td><td>i64</td><td>f64</td><td>u32</td><td>u32</td></tr></thead><tbody><tr><td>&quot;Bills and Utilities&quot;</td><td>4748360</td><td>71252</td><td>0.015006</td><td>303677</td><td>816824</td></tr><tr><td>&quot;Gambling&quot;</td><td>2594431</td><td>14398</td><td>0.00555</td><td>0</td><td>279641</td></tr><tr><td>&quot;Groceries&quot;</td><td>24994970</td><td>75003</td><td>0.003001</td><td>12565</td><td>3909102</td></tr><tr><td>&quot;Fines&quot;</td><td>27785</td><td>6244</td><td>0.224726</td><td>0</td><td>2921</td></tr><tr><td>&quot;Clothing&quot;</td><td>4275270</td><td>71222</td><td>0.016659</td><td>59810</td><td>360004</td></tr><tr><td>&hellip;</td><td>&hellip;</td><td>&hellip;</td><td>&hellip;</td><td>&hellip;</td><td>&hellip;</td></tr><tr><td>&quot;Entertainment&quot;</td><td>81694858</td><td>71253</td><td>0.000872</td><td>2</td><td>33232960</td></tr><tr><td>&quot;Tax&quot;</td><td>1622190</td><td>60748</td><td>0.037448</td><td>182763</td><td>19227</td></tr><tr><td>&quot;Savings&quot;</td><td>1196982</td><td>28079</td><td>0.023458</td><td>25526</td><td>104570</td></tr><tr><td>&quot;Education&quot;</td><td>1877951</td><td>28336</td><td>0.015089</td><td>120081</td><td>104589</td></tr><tr><td>&quot;Housing&quot;</td><td>950172</td><td>35501</td><td>0.037363</td><td>567479</td><td>0</td></tr></tbody></table></div>"
      ],
      "text/plain": [
       "shape: (12, 6)\n",
       "┌────────────────┬────────────────┬────────────────┬───────────────┬───────────────┬───────────────┐\n",
       "│ EXP_TYPE       ┆ distinct_ab_id ┆ distinct_custo ┆ customer_dive ┆ num_large_txn ┆ num_micro_txn │\n",
       "│ ---            ┆ s              ┆ mers           ┆ rsity_ratio   ┆ s             ┆ s             │\n",
       "│ str            ┆ ---            ┆ ---            ┆ ---           ┆ ---           ┆ ---           │\n",
       "│                ┆ i64            ┆ i64            ┆ f64           ┆ u32           ┆ u32           │\n",
       "╞════════════════╪════════════════╪════════════════╪═══════════════╪═══════════════╪═══════════════╡\n",
       "│ Bills and      ┆ 4748360        ┆ 71252          ┆ 0.015006      ┆ 303677        ┆ 816824        │\n",
       "│ Utilities      ┆                ┆                ┆               ┆               ┆               │\n",
       "│ Gambling       ┆ 2594431        ┆ 14398          ┆ 0.00555       ┆ 0             ┆ 279641        │\n",
       "│ Groceries      ┆ 24994970       ┆ 75003          ┆ 0.003001      ┆ 12565         ┆ 3909102       │\n",
       "│ Fines          ┆ 27785          ┆ 6244           ┆ 0.224726      ┆ 0             ┆ 2921          │\n",
       "│ Clothing       ┆ 4275270        ┆ 71222          ┆ 0.016659      ┆ 59810         ┆ 360004        │\n",
       "│ …              ┆ …              ┆ …              ┆ …             ┆ …             ┆ …             │\n",
       "│ Entertainment  ┆ 81694858       ┆ 71253          ┆ 0.000872      ┆ 2             ┆ 33232960      │\n",
       "│ Tax            ┆ 1622190        ┆ 60748          ┆ 0.037448      ┆ 182763        ┆ 19227         │\n",
       "│ Savings        ┆ 1196982        ┆ 28079          ┆ 0.023458      ┆ 25526         ┆ 104570        │\n",
       "│ Education      ┆ 1877951        ┆ 28336          ┆ 0.015089      ┆ 120081        ┆ 104589        │\n",
       "│ Housing        ┆ 950172         ┆ 35501          ┆ 0.037363      ┆ 567479        ┆ 0             │\n",
       "└────────────────┴────────────────┴────────────────┴───────────────┴───────────────┴───────────────┘"
      ]
     },
     "execution_count": 12,
     "metadata": {},
     "output_type": "execute_result"
    }
   ],
   "source": [
    "%%time\n",
    "q2_gpu = (\n",
    "    transactions_df\n",
    "    .filter(\n",
    "        pl.col(\"TRANS_ID\").str.contains(\"A\") | pl.col(\"TRANS_ID\").str.contains(\"B\")\n",
    "    )\n",
    "    .group_by(\"EXP_TYPE\")\n",
    "    .agg([\n",
    "        pl.n_unique(\"TRANS_ID\").alias(\"distinct_ab_ids\"),\n",
    "        pl.n_unique(\"CUST_ID\").alias(\"distinct_customers\"),\n",
    "        (pl.col(\"CUST_ID\").n_unique() / pl.len()).alias(\"customer_diversity_ratio\"),\n",
    "        (pl.col(\"AMOUNT\") > 1000).sum().alias(\"num_large_txns\"),\n",
    "        (pl.col(\"AMOUNT\") < 10).sum().alias(\"num_micro_txns\"),\n",
    "    ])\n",
    "    .collect(engine=engine_multi)\n",
    ")\n",
    "q2_gpu"
   ]
  },
  {
   "cell_type": "markdown",
   "id": "b5009b75-44dd-417b-a253-31dac34d3c7a",
   "metadata": {},
   "source": [
    "With a bit more complexity, we see that the relative gain from executing on our multi GPU engine grows, as we're now able to finish this query around 8x faster."
   ]
  },
  {
   "cell_type": "markdown",
   "id": "a1c5b49a-b365-415e-bfd2-a922f3a0d67b",
   "metadata": {},
   "source": [
    "Let's take a look at one more example. For this one, we'll load another small dataset containg some simulated weather data that we can use to join on this dataset."
   ]
  },
  {
   "cell_type": "code",
   "execution_count": 13,
   "id": "56ee7845-a663-4142-b71b-28514efb9ff2",
   "metadata": {},
   "outputs": [
    {
     "name": "stdout",
     "output_type": "stream",
     "text": [
      "--2025-06-06 16:15:13--  https://storage.googleapis.com/rapidsai/polars-demo/rainfall_data_2010_2020.csv\n",
      "Resolving storage.googleapis.com (storage.googleapis.com)... 142.251.32.59, 142.250.189.219, 142.250.189.251, ...\n",
      "Connecting to storage.googleapis.com (storage.googleapis.com)|142.251.32.59|:443... connected.\n",
      "HTTP request sent, awaiting response... 200 OK\n",
      "Length: 131421 (128K) [text/csv]\n",
      "Saving to: ‘rainfall_data_2010_2020.csv.9’\n",
      "\n",
      "rainfall_data_2010_ 100%[===================>] 128.34K  --.-KB/s    in 0.02s   \n",
      "\n",
      "2025-06-06 16:15:13 (7.00 MB/s) - ‘rainfall_data_2010_2020.csv.9’ saved [131421/131421]\n",
      "\n"
     ]
    }
   ],
   "source": [
    "!wget https://storage.googleapis.com/rapidsai/polars-demo/rainfall_data_2010_2020.csv"
   ]
  },
  {
   "cell_type": "code",
   "execution_count": 14,
   "id": "e59a5f59-efff-4ce9-bb5f-dc59fcfd3e17",
   "metadata": {},
   "outputs": [
    {
     "data": {
      "text/html": [
       "<div><style>\n",
       ".dataframe > thead > tr,\n",
       ".dataframe > tbody > tr {\n",
       "  text-align: right;\n",
       "  white-space: pre-wrap;\n",
       "}\n",
       "</style>\n",
       "<small>shape: (5, 6)</small><table border=\"1\" class=\"dataframe\"><thead><tr><th>Location</th><th>Rainfall (inches)</th><th>DATE</th><th>YEAR</th><th>MONTH</th><th>DAY</th></tr><tr><td>str</td><td>f64</td><td>date</td><td>i64</td><td>i64</td><td>i64</td></tr></thead><tbody><tr><td>&quot;Tatooine&quot;</td><td>0.33</td><td>2010-01-01</td><td>2010</td><td>1</td><td>1</td></tr><tr><td>&quot;Tatooine&quot;</td><td>0.0</td><td>2010-01-02</td><td>2010</td><td>1</td><td>2</td></tr><tr><td>&quot;Tatooine&quot;</td><td>0.28</td><td>2010-01-03</td><td>2010</td><td>1</td><td>3</td></tr><tr><td>&quot;Tatooine&quot;</td><td>0.26</td><td>2010-01-04</td><td>2010</td><td>1</td><td>4</td></tr><tr><td>&quot;Tatooine&quot;</td><td>0.39</td><td>2010-01-05</td><td>2010</td><td>1</td><td>5</td></tr></tbody></table></div>"
      ],
      "text/plain": [
       "shape: (5, 6)\n",
       "┌──────────┬───────────────────┬────────────┬──────┬───────┬─────┐\n",
       "│ Location ┆ Rainfall (inches) ┆ DATE       ┆ YEAR ┆ MONTH ┆ DAY │\n",
       "│ ---      ┆ ---               ┆ ---        ┆ ---  ┆ ---   ┆ --- │\n",
       "│ str      ┆ f64               ┆ date       ┆ i64  ┆ i64   ┆ i64 │\n",
       "╞══════════╪═══════════════════╪════════════╪══════╪═══════╪═════╡\n",
       "│ Tatooine ┆ 0.33              ┆ 2010-01-01 ┆ 2010 ┆ 1     ┆ 1   │\n",
       "│ Tatooine ┆ 0.0               ┆ 2010-01-02 ┆ 2010 ┆ 1     ┆ 2   │\n",
       "│ Tatooine ┆ 0.28              ┆ 2010-01-03 ┆ 2010 ┆ 1     ┆ 3   │\n",
       "│ Tatooine ┆ 0.26              ┆ 2010-01-04 ┆ 2010 ┆ 1     ┆ 4   │\n",
       "│ Tatooine ┆ 0.39              ┆ 2010-01-05 ┆ 2010 ┆ 1     ┆ 5   │\n",
       "└──────────┴───────────────────┴────────────┴──────┴───────┴─────┘"
      ]
     },
     "execution_count": 14,
     "metadata": {},
     "output_type": "execute_result"
    }
   ],
   "source": [
    "names = ['Location', 'Rainfall (inches)', 'DATE', 'YEAR', 'MONTH', 'DAY']\n",
    "\n",
    "weather = pl.scan_csv(\"rainfall_data_2010_2020.csv\", new_columns=names)\n",
    "\n",
    "weather = (\n",
    "    weather\n",
    "    .with_columns(pl.col(\"DATE\").cast(pl.Utf8).str.strptime(pl.Date(), \"%Y%m%d\"))\n",
    "    .collect()\n",
    ")\n",
    "weather.head()"
   ]
  },
  {
   "cell_type": "markdown",
   "id": "a733b592-10c0-4e06-872c-a3a9835c84e1",
   "metadata": {},
   "source": [
    "We might be interested in understanding how certain expense types are impacted by the weather. For example, what if we only want to know how much customers are spending on Entertainment on rainy days vs. sunny? We can use the rainfall dataset with our transaction dataset to explore patterns like this.\n",
    "\n",
    "Let's take a look at the number of customers and amounts spent on different expense types on _rainy_ days."
   ]
  },
  {
   "cell_type": "code",
   "execution_count": 15,
   "id": "d1469ce4-ad2f-45b9-8723-a9fd1a501927",
   "metadata": {},
   "outputs": [
    {
     "name": "stdout",
     "output_type": "stream",
     "text": [
      "CPU times: user 4min 54s, sys: 4min 28s, total: 9min 22s\n",
      "Wall time: 31.3 s\n"
     ]
    },
    {
     "data": {
      "text/html": [
       "<div><style>\n",
       ".dataframe > thead > tr,\n",
       ".dataframe > tbody > tr {\n",
       "  text-align: right;\n",
       "  white-space: pre-wrap;\n",
       "}\n",
       "</style>\n",
       "<small>shape: (12, 5)</small><table border=\"1\" class=\"dataframe\"><thead><tr><th>EXP_TYPE</th><th>unique_txn_count</th><th>unique_customer_count</th><th>avg_amount</th><th>total_amount</th></tr><tr><td>str</td><td>u32</td><td>u32</td><td>f64</td><td>f64</td></tr></thead><tbody><tr><td>&quot;Motor/Travel&quot;</td><td>16548136</td><td>60166</td><td>131.201647</td><td>2.1711e9</td></tr><tr><td>&quot;Groceries&quot;</td><td>25825356</td><td>75000</td><td>79.565491</td><td>2.0548e9</td></tr><tr><td>&quot;Entertainment&quot;</td><td>84423303</td><td>71250</td><td>23.866129</td><td>2.0149e9</td></tr><tr><td>&quot;Housing&quot;</td><td>968072</td><td>35506</td><td>1552.703778</td><td>1.5031e9</td></tr><tr><td>&quot;Bills and Utilities&quot;</td><td>4879406</td><td>71250</td><td>206.575511</td><td>1.0080e9</td></tr><tr><td>&hellip;</td><td>&hellip;</td><td>&hellip;</td><td>&hellip;</td><td>&hellip;</td></tr><tr><td>&quot;Tax&quot;</td><td>1651777</td><td>60750</td><td>413.093358</td><td>6.8234e8</td></tr><tr><td>&quot;Education&quot;</td><td>1930972</td><td>28334</td><td>278.486389</td><td>5.3775e8</td></tr><tr><td>&quot;Gambling&quot;</td><td>2681960</td><td>14398</td><td>104.243855</td><td>2.7958e8</td></tr><tr><td>&quot;Savings&quot;</td><td>1232942</td><td>28079</td><td>222.827497</td><td>2.7473e8</td></tr><tr><td>&quot;Fines&quot;</td><td>28767</td><td>6267</td><td>159.69333</td><td>4.5939e6</td></tr></tbody></table></div>"
      ],
      "text/plain": [
       "shape: (12, 5)\n",
       "┌─────────────────────┬──────────────────┬───────────────────────┬─────────────┬──────────────┐\n",
       "│ EXP_TYPE            ┆ unique_txn_count ┆ unique_customer_count ┆ avg_amount  ┆ total_amount │\n",
       "│ ---                 ┆ ---              ┆ ---                   ┆ ---         ┆ ---          │\n",
       "│ str                 ┆ u32              ┆ u32                   ┆ f64         ┆ f64          │\n",
       "╞═════════════════════╪══════════════════╪═══════════════════════╪═════════════╪══════════════╡\n",
       "│ Motor/Travel        ┆ 16548136         ┆ 60166                 ┆ 131.201647  ┆ 2.1711e9     │\n",
       "│ Groceries           ┆ 25825356         ┆ 75000                 ┆ 79.565491   ┆ 2.0548e9     │\n",
       "│ Entertainment       ┆ 84423303         ┆ 71250                 ┆ 23.866129   ┆ 2.0149e9     │\n",
       "│ Housing             ┆ 968072           ┆ 35506                 ┆ 1552.703778 ┆ 1.5031e9     │\n",
       "│ Bills and Utilities ┆ 4879406          ┆ 71250                 ┆ 206.575511  ┆ 1.0080e9     │\n",
       "│ …                   ┆ …                ┆ …                     ┆ …           ┆ …            │\n",
       "│ Tax                 ┆ 1651777          ┆ 60750                 ┆ 413.093358  ┆ 6.8234e8     │\n",
       "│ Education           ┆ 1930972          ┆ 28334                 ┆ 278.486389  ┆ 5.3775e8     │\n",
       "│ Gambling            ┆ 2681960          ┆ 14398                 ┆ 104.243855  ┆ 2.7958e8     │\n",
       "│ Savings             ┆ 1232942          ┆ 28079                 ┆ 222.827497  ┆ 2.7473e8     │\n",
       "│ Fines               ┆ 28767            ┆ 6267                  ┆ 159.69333   ┆ 4.5939e6     │\n",
       "└─────────────────────┴──────────────────┴───────────────────────┴─────────────┴──────────────┘"
      ]
     },
     "execution_count": 15,
     "metadata": {},
     "output_type": "execute_result"
    }
   ],
   "source": [
    "%%time\n",
    "q3_cpu = (\n",
    "    transactions_df\n",
    "    .join(\n",
    "        weather.lazy().select([\"DATE\", \"Rainfall (inches)\"]),\n",
    "        on=\"DATE\",\n",
    "        how=\"inner\"\n",
    "    )\n",
    "    .filter(pl.col(\"Rainfall (inches)\") > 0)\n",
    "    .group_by(\"EXP_TYPE\")\n",
    "    .agg([\n",
    "        pl.col(\"TRANS_ID\").n_unique().alias(\"unique_txn_count\"),\n",
    "        pl.col(\"CUST_ID\").n_unique().alias(\"unique_customer_count\"),\n",
    "        pl.col(\"AMOUNT\").mean().alias(\"avg_amount\"),\n",
    "        pl.col(\"AMOUNT\").sum().alias(\"total_amount\"),\n",
    "    ])\n",
    "    .sort(\"total_amount\", descending=True)\n",
    "    .collect(engine=\"streaming\")\n",
    ")\n",
    "q3_cpu"
   ]
  },
  {
   "cell_type": "markdown",
   "id": "4139dec1-9bb5-4c28-afe5-eea819a1e8e2",
   "metadata": {},
   "source": [
    "Finally, we run the same query on our multi GPU engine for comparison."
   ]
  },
  {
   "cell_type": "code",
   "execution_count": 16,
   "id": "2eeebe13-7c3b-4cee-808a-f5f182d141aa",
   "metadata": {},
   "outputs": [
    {
     "name": "stdout",
     "output_type": "stream",
     "text": [
      "CPU times: user 560 ms, sys: 423 ms, total: 983 ms\n",
      "Wall time: 5.82 s\n"
     ]
    },
    {
     "data": {
      "text/html": [
       "<div><style>\n",
       ".dataframe > thead > tr,\n",
       ".dataframe > tbody > tr {\n",
       "  text-align: right;\n",
       "  white-space: pre-wrap;\n",
       "}\n",
       "</style>\n",
       "<small>shape: (12, 5)</small><table border=\"1\" class=\"dataframe\"><thead><tr><th>EXP_TYPE</th><th>unique_txn_count</th><th>unique_customer_count</th><th>avg_amount</th><th>total_amount</th></tr><tr><td>str</td><td>i64</td><td>i64</td><td>f64</td><td>f64</td></tr></thead><tbody><tr><td>&quot;Motor/Travel&quot;</td><td>16548136</td><td>60168</td><td>131.201647</td><td>2.1711e9</td></tr><tr><td>&quot;Groceries&quot;</td><td>25825356</td><td>75003</td><td>79.565491</td><td>2.0548e9</td></tr><tr><td>&quot;Entertainment&quot;</td><td>84423303</td><td>71253</td><td>23.866129</td><td>2.0149e9</td></tr><tr><td>&quot;Housing&quot;</td><td>968072</td><td>35506</td><td>1552.703778</td><td>1.5031e9</td></tr><tr><td>&quot;Bills and Utilities&quot;</td><td>4879406</td><td>71252</td><td>206.575511</td><td>1.0080e9</td></tr><tr><td>&hellip;</td><td>&hellip;</td><td>&hellip;</td><td>&hellip;</td><td>&hellip;</td></tr><tr><td>&quot;Tax&quot;</td><td>1651777</td><td>60751</td><td>413.093358</td><td>6.8234e8</td></tr><tr><td>&quot;Education&quot;</td><td>1930972</td><td>28336</td><td>278.486389</td><td>5.3775e8</td></tr><tr><td>&quot;Gambling&quot;</td><td>2681960</td><td>14398</td><td>104.243855</td><td>2.7958e8</td></tr><tr><td>&quot;Savings&quot;</td><td>1232942</td><td>28081</td><td>222.827497</td><td>2.7473e8</td></tr><tr><td>&quot;Fines&quot;</td><td>28767</td><td>6267</td><td>159.69333</td><td>4.5939e6</td></tr></tbody></table></div>"
      ],
      "text/plain": [
       "shape: (12, 5)\n",
       "┌─────────────────────┬──────────────────┬───────────────────────┬─────────────┬──────────────┐\n",
       "│ EXP_TYPE            ┆ unique_txn_count ┆ unique_customer_count ┆ avg_amount  ┆ total_amount │\n",
       "│ ---                 ┆ ---              ┆ ---                   ┆ ---         ┆ ---          │\n",
       "│ str                 ┆ i64              ┆ i64                   ┆ f64         ┆ f64          │\n",
       "╞═════════════════════╪══════════════════╪═══════════════════════╪═════════════╪══════════════╡\n",
       "│ Motor/Travel        ┆ 16548136         ┆ 60168                 ┆ 131.201647  ┆ 2.1711e9     │\n",
       "│ Groceries           ┆ 25825356         ┆ 75003                 ┆ 79.565491   ┆ 2.0548e9     │\n",
       "│ Entertainment       ┆ 84423303         ┆ 71253                 ┆ 23.866129   ┆ 2.0149e9     │\n",
       "│ Housing             ┆ 968072           ┆ 35506                 ┆ 1552.703778 ┆ 1.5031e9     │\n",
       "│ Bills and Utilities ┆ 4879406          ┆ 71252                 ┆ 206.575511  ┆ 1.0080e9     │\n",
       "│ …                   ┆ …                ┆ …                     ┆ …           ┆ …            │\n",
       "│ Tax                 ┆ 1651777          ┆ 60751                 ┆ 413.093358  ┆ 6.8234e8     │\n",
       "│ Education           ┆ 1930972          ┆ 28336                 ┆ 278.486389  ┆ 5.3775e8     │\n",
       "│ Gambling            ┆ 2681960          ┆ 14398                 ┆ 104.243855  ┆ 2.7958e8     │\n",
       "│ Savings             ┆ 1232942          ┆ 28081                 ┆ 222.827497  ┆ 2.7473e8     │\n",
       "│ Fines               ┆ 28767            ┆ 6267                  ┆ 159.69333   ┆ 4.5939e6     │\n",
       "└─────────────────────┴──────────────────┴───────────────────────┴─────────────┴──────────────┘"
      ]
     },
     "execution_count": 16,
     "metadata": {},
     "output_type": "execute_result"
    }
   ],
   "source": [
    "%%time\n",
    "q3_gpu = (\n",
    "    transactions_df\n",
    "    .join(\n",
    "        weather.lazy().select([\"DATE\", \"Rainfall (inches)\"]),\n",
    "        on=\"DATE\",\n",
    "        how=\"inner\"\n",
    "    )\n",
    "    .filter(pl.col(\"Rainfall (inches)\") > 0)\n",
    "    .group_by(\"EXP_TYPE\")\n",
    "    .agg([\n",
    "        pl.col(\"TRANS_ID\").n_unique().alias(\"unique_txn_count\"),\n",
    "        pl.col(\"CUST_ID\").n_unique().alias(\"unique_customer_count\"),\n",
    "        pl.col(\"AMOUNT\").mean().alias(\"avg_amount\"),\n",
    "        pl.col(\"AMOUNT\").sum().alias(\"total_amount\"),\n",
    "    ])\n",
    "    .sort(\"total_amount\", descending=True)\n",
    "    .collect(engine=engine_multi)\n",
    ")\n",
    "q3_gpu"
   ]
  },
  {
   "cell_type": "markdown",
   "id": "3f767562-109c-4117-9373-b550f2c1696c",
   "metadata": {},
   "source": [
    "These simple queries show just a taste of the power of using the GPU streaming engine to run queries across multiple GPUs. As dataset sizes grow and queries become more complex, the multi GPU Polars engine shines in its ability to maximize performance. \n",
    "\n",
    "To learn more about the multi GPU polars engine, check out our [docs](https://docs.rapids.ai/api/cudf/stable/cudf_polars/engine_options/)."
   ]
  }
 ],
 "metadata": {
  "kernelspec": {
   "display_name": "Python 3 (ipykernel)",
   "language": "python",
   "name": "python3"
  },
  "language_info": {
   "codemirror_mode": {
    "name": "ipython",
    "version": 3
   },
   "file_extension": ".py",
   "mimetype": "text/x-python",
   "name": "python",
   "nbconvert_exporter": "python",
   "pygments_lexer": "ipython3",
   "version": "3.12.11"
  }
 },
 "nbformat": 4,
 "nbformat_minor": 5
}
