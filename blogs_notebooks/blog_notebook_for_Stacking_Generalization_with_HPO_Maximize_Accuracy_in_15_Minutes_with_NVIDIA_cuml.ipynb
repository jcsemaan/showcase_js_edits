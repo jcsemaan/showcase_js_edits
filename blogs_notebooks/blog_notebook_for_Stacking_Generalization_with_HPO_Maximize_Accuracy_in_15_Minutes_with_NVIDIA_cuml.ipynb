{
  "cells": [
    {
      "cell_type": "markdown",
      "metadata": {
        "_cell_guid": "ea25cdf7-bdbc-3cf1-0737-bc51675e3374",
        "_uuid": "fed5696c67bf55a553d6d04313a77e8c617cad99",
        "id": "e2TxdK7lM53J"
      },
      "source": [
        "# Stacking Generalization with HPO: Maximize Accuracy in 15 Minutes with NVIDIA cuML"
      ]
    },
    {
      "cell_type": "markdown",
      "metadata": {
        "jp-MarkdownHeadingCollapsed": true,
        "id": "ndC2iDM1sva8"
      },
      "source": [
        "## Introduction\n",
        "\n",
        "In this notebook, I provide you with the <b>Hyperparameter Optimization (HPO)</b>, <b>Stacking Generalization</b> and <b>HPO-Aware Stacking Generalization approach</b> to improve the machine learning model accuracy. While further improvement in accuracy is possible by increasing the number of HPO experiments and including other machine learning algorithms, in this example, we only include Logistic Regression, Random Forest, and K-Nearest Neighbors (KNN) to demonstrate the efficiency and GPU-acceleration of cuML. This example notebook gives you a complete life cycle of data science solution, from data import to machine learning models, using cuDF, cuML, and CuPy. One key feature, 'same API' allows you to leverage the same syntax (zero code change) with Pandas Dataframes and Scikit-learn but execute the code on GPU under the hood.\n",
        "\n",
        "Let me explain these approaches in details:\n",
        "\n",
        "<b> Hyperparameter Optimization (HPO): </b> HPO is the process of systematically searching for the best configuration of hyperparameters that maximize a machine learning model’s performance on a given task. Unlike model parameters (like weights in linear regression) that are learned during training, hyperparameters are set before training begins, and directly influence how the model learns.\n",
        "\n",
        "<b> Stacking Generalization: </b> Stacking generalization, or simply stacking, is an ensemble learning technique that combines multiple base models in order to leverage their individual strengths. Rather than averaging or voting their predictions (like in bagging or boosting), stacking feeds their outputs into a meta-model that learns how to best combine them.\n",
        "\n",
        "<b> HPO-Aware Stacking Generalization: </b> HPO-Aware Stacking Generalization is an ensemble learning approach where each base model and the meta-model are first tuned for optimal hyperparameters to maximize individual performance before being combined to produce a more accurate final prediction. Let us walk you through in 5 steps:\n",
        "\n",
        "* <b>Perform HPO on Base Models</b>\n",
        "Begin by running HPO independently on each base model (e.g., Random Forest, KNN, Logistic Regression) to identify the best-performing configuration for each. The resulting HPO-tuned models are then retained for stacking.\n",
        "* <b>Generate Predictions from HPO-Tuned Base Models</b>\n",
        "Each optimized base model is used to generate predictions on a validation set (or out-of-fold predictions). These predictions become the input features for the meta-model.\n",
        "* <b>Create Meta-Model Training Dataset</b>\n",
        "The outputs from all base models (e.g., class probabilities or predicted labels) are stacked horizontally to form a new feature matrix. Each row represents a sample, and each column is the prediction from a different HPO-tuned base model.\n",
        "* <b>Perform HPO on the Meta-Model</b>\n",
        " A separate meta-model (in this case, KNN) is trained on the base model predictions. Before finalizing the meta-learner, HPO is again performed to optimize its hyperparameters.\n",
        "* <b>Generate Final Predictions with Stacked Ensemble</b>\n",
        "The HPO-optimized meta-model takes in the stacked predictions from the tuned base models and produces the final output. This step effectively learns how to best combine the strengths of each base model, leading to improved generalization and accuracy.\n"
      ]
    },
    {
      "cell_type": "markdown",
      "metadata": {
        "jp-MarkdownHeadingCollapsed": true,
        "id": "NrF67p0Dsva8"
      },
      "source": [
        "## Download the Data Before Executing the Notebook\n",
        "We'll be exploring and augmenting the Titanic passenger demographic data set from Kaggle to showcase how you can apply these functions to yoru real world data.  The dataset used for this notebook can be downloaded from Kaggle and consists of a\n",
        "- [train](https://www.kaggle.com/code/startupsci/titanic-data-science-solutions/input?select=train.csv) dataset\n",
        "- [test](https://www.kaggle.com/code/startupsci/titanic-data-science-solutions/input?select=test.csv) dataset\n",
        "\n",
        "You will need to accept the terms of the competition before you can download it.  Once you do, please download both before continuing and put them into the same folder as you're running this notebook."
      ]
    },
    {
      "cell_type": "markdown",
      "metadata": {
        "id": "FiKGcUZFsva9"
      },
      "source": [
        "## Activate GPU-Acceleration"
      ]
    },
    {
      "cell_type": "markdown",
      "metadata": {
        "id": "z1QCUFDBsva9"
      },
      "source": [
        "%load_ext cudf.pandas loads the cuDF extension for Pandas, allowing the use of GPU-accelerated DataFrames."
      ]
    },
    {
      "cell_type": "code",
      "execution_count": 4,
      "metadata": {
        "id": "d_hibjM0M53K",
        "outputId": "8af7412f-076a-490f-9418-53b4457da976",
        "colab": {
          "base_uri": "https://localhost:8080/"
        }
      },
      "outputs": [
        {
          "output_type": "stream",
          "name": "stdout",
          "text": [
            "The cudf.pandas extension is already loaded. To reload it, use:\n",
            "  %reload_ext cudf.pandas\n"
          ]
        }
      ],
      "source": [
        "%load_ext cudf.pandas"
      ]
    },
    {
      "cell_type": "markdown",
      "metadata": {
        "id": "nekBYJdesva-"
      },
      "source": [
        "## Import Data"
      ]
    },
    {
      "cell_type": "markdown",
      "metadata": {
        "id": "gv1Y4DKrsva-"
      },
      "source": [
        "Import libraries, read Titanic data, and concatenate data"
      ]
    },
    {
      "cell_type": "code",
      "execution_count": 6,
      "metadata": {
        "id": "eog51TtaB5Ij"
      },
      "outputs": [],
      "source": [
        "import pandas as pd\n",
        "import cupy as cp\n",
        "\n",
        "train = pd.read_csv('./train.csv')\n",
        "test = pd.read_csv('./test.csv')\n",
        "concat = pd.concat([train, test], axis = 0)"
      ]
    },
    {
      "cell_type": "markdown",
      "metadata": {
        "id": "qQLFTC9Zsva-"
      },
      "source": [
        "Scale up the dataset to demonstrate the advantage of GPU acceleration: the original Titanic dataset is too small, so we replicate it to simulate a dataset with 1 million rows"
      ]
    },
    {
      "cell_type": "code",
      "execution_count": 7,
      "metadata": {
        "_cell_guid": "e7319668-86fe-8adc-438d-0eef3fd0a982",
        "_uuid": "13f38775c12ad6f914254a08f0d1ef948a2bd453",
        "id": "0HwIvMVJM53L",
        "outputId": "4aeab0cd-27c5-4c62-a5e0-d5addb6eb1d2",
        "colab": {
          "base_uri": "https://localhost:8080/"
        }
      },
      "outputs": [
        {
          "output_type": "stream",
          "name": "stdout",
          "text": [
            "(1000000, 12)\n",
            "(1000000, 11)\n"
          ]
        }
      ],
      "source": [
        "target_rows = 1_000_000\n",
        "repeats = -(-target_rows // len(train))  # Ceiling division\n",
        "train_df = pd.concat([train] * repeats, ignore_index=True).head(target_rows)\n",
        "print(train_df.shape)  # (1000000, 2)\n",
        "\n",
        "repeats = -(-target_rows // len(test))  # Ceiling division\n",
        "test_df = pd.concat([test] * repeats, ignore_index=True).head(target_rows)\n",
        "print(test_df.shape)  # (1000000, 2)\n",
        "\n",
        "combine = [train_df, test_df]"
      ]
    },
    {
      "cell_type": "markdown",
      "metadata": {
        "id": "1jD5p-rzsva-"
      },
      "source": [
        "## Feature Engineering\n",
        "\n",
        "For the feature engineering steps in this notebook, we borrowed and adapted code from the [Titanic Data Science Solutions](https://www.kaggle.com/code/startupsci/titanic-data-science-solutions) notebook. However, we made the feature engineering GPU-accelerated using RAPIDS libraries to significantly enhance performance. Some of the feature engineering decisions were derived from the Exploratory Data Analysis (EDA) step in the original notebook. Since EDA is beyond the scope of this notebook, we have not included those steps here. If you're interested in exploring the detailed EDA process, we encourage you to visit the original notebook for more insights."
      ]
    },
    {
      "cell_type": "markdown",
      "metadata": {
        "id": "MsZGZsRMsva_"
      },
      "source": [
        "Drop features that do not contribute to the predictions"
      ]
    },
    {
      "cell_type": "code",
      "execution_count": 8,
      "metadata": {
        "colab": {
          "base_uri": "https://localhost:8080/"
        },
        "id": "219udRBJsva_",
        "outputId": "79293837-8415-4f87-ede3-c3969a0d514f"
      },
      "outputs": [
        {
          "output_type": "stream",
          "name": "stdout",
          "text": [
            "Before (1000000, 12) (1000000, 11) (1000000, 12) (1000000, 11)\n",
            "After (1000000, 10) (1000000, 9) (1000000, 10) (1000000, 9)\n"
          ]
        }
      ],
      "source": [
        "print(\"Before\", train_df.shape, test_df.shape, combine[0].shape, combine[1].shape)\n",
        "\n",
        "train_df = train_df.drop(['Ticket', 'Cabin'], axis=1)\n",
        "test_df = test_df.drop(['Ticket', 'Cabin'], axis=1)\n",
        "combine = [train_df, test_df]\n",
        "\n",
        "print(\"After\", train_df.shape, test_df.shape, combine[0].shape, combine[1].shape)"
      ]
    },
    {
      "cell_type": "markdown",
      "metadata": {
        "id": "RcsjXWr0sva_"
      },
      "source": [
        "Extract 'Title' from 'Name'"
      ]
    },
    {
      "cell_type": "code",
      "execution_count": 9,
      "metadata": {
        "colab": {
          "base_uri": "https://localhost:8080/",
          "height": 614
        },
        "id": "3eYJfs97sva_",
        "outputId": "8000d1ce-2f55-42ee-a889-fbea8388c73f"
      },
      "outputs": [
        {
          "output_type": "execute_result",
          "data": {
            "text/plain": [
              "Sex       female    male\n",
              "Title                   \n",
              "Capt           0    1122\n",
              "Col            0    2244\n",
              "Countess    1122       0\n",
              "Don            0    1123\n",
              "Dr          1122    6733\n",
              "Jonkheer       0    1122\n",
              "Lady        1122       0\n",
              "Major          0    2244\n",
              "Master         0   44898\n",
              "Miss      204271       0\n",
              "Mlle        2244       0\n",
              "Mme         1122       0\n",
              "Mr             0  580243\n",
              "Mrs       140289       0\n",
              "Ms          1122       0\n",
              "Rev            0    6735\n",
              "Sir            0    1122"
            ],
            "text/html": [
              "<div>\n",
              "<style scoped>\n",
              "    .dataframe tbody tr th:only-of-type {\n",
              "        vertical-align: middle;\n",
              "    }\n",
              "\n",
              "    .dataframe tbody tr th {\n",
              "        vertical-align: top;\n",
              "    }\n",
              "\n",
              "    .dataframe thead tr th {\n",
              "        text-align: left;\n",
              "    }\n",
              "\n",
              "    .dataframe thead tr:last-of-type th {\n",
              "        text-align: right;\n",
              "    }\n",
              "</style>\n",
              "<table border=\"1\" class=\"dataframe\">\n",
              "  <thead>\n",
              "    <tr>\n",
              "      <th>Sex</th>\n",
              "      <th>female</th>\n",
              "      <th>male</th>\n",
              "    </tr>\n",
              "    <tr>\n",
              "      <th>Title</th>\n",
              "      <th></th>\n",
              "      <th></th>\n",
              "    </tr>\n",
              "  </thead>\n",
              "  <tbody>\n",
              "    <tr>\n",
              "      <th>Capt</th>\n",
              "      <td>0</td>\n",
              "      <td>1122</td>\n",
              "    </tr>\n",
              "    <tr>\n",
              "      <th>Col</th>\n",
              "      <td>0</td>\n",
              "      <td>2244</td>\n",
              "    </tr>\n",
              "    <tr>\n",
              "      <th>Countess</th>\n",
              "      <td>1122</td>\n",
              "      <td>0</td>\n",
              "    </tr>\n",
              "    <tr>\n",
              "      <th>Don</th>\n",
              "      <td>0</td>\n",
              "      <td>1123</td>\n",
              "    </tr>\n",
              "    <tr>\n",
              "      <th>Dr</th>\n",
              "      <td>1122</td>\n",
              "      <td>6733</td>\n",
              "    </tr>\n",
              "    <tr>\n",
              "      <th>Jonkheer</th>\n",
              "      <td>0</td>\n",
              "      <td>1122</td>\n",
              "    </tr>\n",
              "    <tr>\n",
              "      <th>Lady</th>\n",
              "      <td>1122</td>\n",
              "      <td>0</td>\n",
              "    </tr>\n",
              "    <tr>\n",
              "      <th>Major</th>\n",
              "      <td>0</td>\n",
              "      <td>2244</td>\n",
              "    </tr>\n",
              "    <tr>\n",
              "      <th>Master</th>\n",
              "      <td>0</td>\n",
              "      <td>44898</td>\n",
              "    </tr>\n",
              "    <tr>\n",
              "      <th>Miss</th>\n",
              "      <td>204271</td>\n",
              "      <td>0</td>\n",
              "    </tr>\n",
              "    <tr>\n",
              "      <th>Mlle</th>\n",
              "      <td>2244</td>\n",
              "      <td>0</td>\n",
              "    </tr>\n",
              "    <tr>\n",
              "      <th>Mme</th>\n",
              "      <td>1122</td>\n",
              "      <td>0</td>\n",
              "    </tr>\n",
              "    <tr>\n",
              "      <th>Mr</th>\n",
              "      <td>0</td>\n",
              "      <td>580243</td>\n",
              "    </tr>\n",
              "    <tr>\n",
              "      <th>Mrs</th>\n",
              "      <td>140289</td>\n",
              "      <td>0</td>\n",
              "    </tr>\n",
              "    <tr>\n",
              "      <th>Ms</th>\n",
              "      <td>1122</td>\n",
              "      <td>0</td>\n",
              "    </tr>\n",
              "    <tr>\n",
              "      <th>Rev</th>\n",
              "      <td>0</td>\n",
              "      <td>6735</td>\n",
              "    </tr>\n",
              "    <tr>\n",
              "      <th>Sir</th>\n",
              "      <td>0</td>\n",
              "      <td>1122</td>\n",
              "    </tr>\n",
              "  </tbody>\n",
              "</table>\n",
              "</div>"
            ],
            "application/vnd.google.colaboratory.intrinsic+json": {
              "type": "dataframe",
              "summary": "{\n  \"name\": \"pd\",\n  \"rows\": 17,\n  \"fields\": [\n    {\n      \"column\": [\n        \"Title\"\n      ],\n      \"properties\": {\n        \"dtype\": \"string\",\n        \"num_unique_values\": 17,\n        \"samples\": [\n          \"Lady\",\n          \"Miss\",\n          \"Don\"\n        ],\n        \"semantic_type\": \"\",\n        \"description\": \"\"\n      }\n    },\n    {\n      \"column\": [\n        \"female\"\n      ],\n      \"properties\": {\n        \"dtype\": \"number\",\n        \"std\": 58155,\n        \"min\": 0,\n        \"max\": 204271,\n        \"num_unique_values\": 5,\n        \"samples\": [\n          2244,\n          0,\n          140289\n        ],\n        \"semantic_type\": \"\",\n        \"description\": \"\"\n      }\n    },\n    {\n      \"column\": [\n        \"male\"\n      ],\n      \"properties\": {\n        \"dtype\": \"number\",\n        \"std\": 140119,\n        \"min\": 0,\n        \"max\": 580243,\n        \"num_unique_values\": 8,\n        \"samples\": [\n          580243,\n          1123,\n          1122\n        ],\n        \"semantic_type\": \"\",\n        \"description\": \"\"\n      }\n    }\n  ]\n}"
            }
          },
          "metadata": {},
          "execution_count": 9
        }
      ],
      "source": [
        "for dataset in combine:\n",
        "    dataset['Title'] = dataset.Name.str.extract(' ([A-Za-z]+)\\\\.', expand=False)\n",
        "\n",
        "pd.crosstab(train_df['Title'], train_df['Sex'])"
      ]
    },
    {
      "cell_type": "markdown",
      "metadata": {
        "id": "BYKUdzrysva_"
      },
      "source": [
        "Replace many titles with a more common name or classify them as 'Rare'"
      ]
    },
    {
      "cell_type": "code",
      "execution_count": 10,
      "metadata": {
        "colab": {
          "base_uri": "https://localhost:8080/",
          "height": 206
        },
        "id": "SCGpv-93sva_",
        "outputId": "c2c590a6-f65d-4aca-d8bd-f42bff8dc58f"
      },
      "outputs": [
        {
          "output_type": "execute_result",
          "data": {
            "text/plain": [
              "    Title  Survived\n",
              "0  Master  0.574925\n",
              "1    Miss  0.702693\n",
              "2      Mr  0.156669\n",
              "3     Mrs  0.793644\n",
              "4    Rare  0.347759"
            ],
            "text/html": [
              "<div>\n",
              "<style scoped>\n",
              "    .dataframe tbody tr th:only-of-type {\n",
              "        vertical-align: middle;\n",
              "    }\n",
              "\n",
              "    .dataframe tbody tr th {\n",
              "        vertical-align: top;\n",
              "    }\n",
              "\n",
              "    .dataframe thead th {\n",
              "        text-align: right;\n",
              "    }\n",
              "</style>\n",
              "<table border=\"1\" class=\"dataframe\">\n",
              "  <thead>\n",
              "    <tr style=\"text-align: right;\">\n",
              "      <th></th>\n",
              "      <th>Title</th>\n",
              "      <th>Survived</th>\n",
              "    </tr>\n",
              "  </thead>\n",
              "  <tbody>\n",
              "    <tr>\n",
              "      <th>0</th>\n",
              "      <td>Master</td>\n",
              "      <td>0.574925</td>\n",
              "    </tr>\n",
              "    <tr>\n",
              "      <th>1</th>\n",
              "      <td>Miss</td>\n",
              "      <td>0.702693</td>\n",
              "    </tr>\n",
              "    <tr>\n",
              "      <th>2</th>\n",
              "      <td>Mr</td>\n",
              "      <td>0.156669</td>\n",
              "    </tr>\n",
              "    <tr>\n",
              "      <th>3</th>\n",
              "      <td>Mrs</td>\n",
              "      <td>0.793644</td>\n",
              "    </tr>\n",
              "    <tr>\n",
              "      <th>4</th>\n",
              "      <td>Rare</td>\n",
              "      <td>0.347759</td>\n",
              "    </tr>\n",
              "  </tbody>\n",
              "</table>\n",
              "</div>"
            ],
            "application/vnd.google.colaboratory.intrinsic+json": {
              "type": "dataframe",
              "summary": "{\n  \"name\": \"train_df[['Title', 'Survived']]\",\n  \"rows\": 5,\n  \"fields\": [\n    {\n      \"column\": \"Title\",\n      \"properties\": {\n        \"dtype\": \"string\",\n        \"num_unique_values\": 5,\n        \"samples\": [\n          \"Mrs\",\n          \"Master\",\n          \"Rare\"\n        ],\n        \"semantic_type\": \"\",\n        \"description\": \"\"\n      }\n    },\n    {\n      \"column\": \"Survived\",\n      \"properties\": {\n        \"dtype\": \"number\",\n        \"std\": 0.26116703360885773,\n        \"min\": 0.15666884391539407,\n        \"max\": 0.7936440588073064,\n        \"num_unique_values\": 5,\n        \"samples\": [\n          0.7936440588073064,\n          0.5749253864314668,\n          0.34775870752779825\n        ],\n        \"semantic_type\": \"\",\n        \"description\": \"\"\n      }\n    }\n  ]\n}"
            }
          },
          "metadata": {},
          "execution_count": 10
        }
      ],
      "source": [
        "for dataset in combine:\n",
        "    dataset['Title'] = dataset['Title'].replace(['Lady', 'Countess','Capt', 'Col',\\\n",
        " \t'Don', 'Dr', 'Major', 'Rev', 'Sir', 'Jonkheer', 'Dona'], 'Rare')\n",
        "\n",
        "    dataset['Title'] = dataset['Title'].replace('Mlle', 'Miss')\n",
        "    dataset['Title'] = dataset['Title'].replace('Ms', 'Miss')\n",
        "    dataset['Title'] = dataset['Title'].replace('Mme', 'Mrs')\n",
        "\n",
        "train_df[['Title', 'Survived']].groupby(['Title'], as_index=False).mean()"
      ]
    },
    {
      "cell_type": "markdown",
      "metadata": {
        "id": "n0YKp1DZsva_"
      },
      "source": [
        "Convert the categorical titles to ordinal"
      ]
    },
    {
      "cell_type": "code",
      "execution_count": 11,
      "metadata": {
        "colab": {
          "base_uri": "https://localhost:8080/",
          "height": 206
        },
        "id": "OkmlMXwTsva_",
        "outputId": "39d5b20a-b338-41a2-813a-003d8c75c240"
      },
      "outputs": [
        {
          "output_type": "execute_result",
          "data": {
            "text/plain": [
              "   PassengerId  Survived  Pclass  \\\n",
              "0            1         0       3   \n",
              "1            2         1       1   \n",
              "2            3         1       3   \n",
              "3            4         1       1   \n",
              "4            5         0       3   \n",
              "\n",
              "                                                Name     Sex   Age  SibSp  \\\n",
              "0                            Braund, Mr. Owen Harris    male  22.0      1   \n",
              "1  Cumings, Mrs. John Bradley (Florence Briggs Th...  female  38.0      1   \n",
              "2                             Heikkinen, Miss. Laina  female  26.0      0   \n",
              "3       Futrelle, Mrs. Jacques Heath (Lily May Peel)  female  35.0      1   \n",
              "4                           Allen, Mr. William Henry    male  35.0      0   \n",
              "\n",
              "   Parch     Fare Embarked  Title  \n",
              "0      0   7.2500        S      1  \n",
              "1      0  71.2833        C      3  \n",
              "2      0   7.9250        S      2  \n",
              "3      0  53.1000        S      3  \n",
              "4      0   8.0500        S      1  "
            ],
            "text/html": [
              "<div>\n",
              "<style scoped>\n",
              "    .dataframe tbody tr th:only-of-type {\n",
              "        vertical-align: middle;\n",
              "    }\n",
              "\n",
              "    .dataframe tbody tr th {\n",
              "        vertical-align: top;\n",
              "    }\n",
              "\n",
              "    .dataframe thead th {\n",
              "        text-align: right;\n",
              "    }\n",
              "</style>\n",
              "<table border=\"1\" class=\"dataframe\">\n",
              "  <thead>\n",
              "    <tr style=\"text-align: right;\">\n",
              "      <th></th>\n",
              "      <th>PassengerId</th>\n",
              "      <th>Survived</th>\n",
              "      <th>Pclass</th>\n",
              "      <th>Name</th>\n",
              "      <th>Sex</th>\n",
              "      <th>Age</th>\n",
              "      <th>SibSp</th>\n",
              "      <th>Parch</th>\n",
              "      <th>Fare</th>\n",
              "      <th>Embarked</th>\n",
              "      <th>Title</th>\n",
              "    </tr>\n",
              "  </thead>\n",
              "  <tbody>\n",
              "    <tr>\n",
              "      <th>0</th>\n",
              "      <td>1</td>\n",
              "      <td>0</td>\n",
              "      <td>3</td>\n",
              "      <td>Braund, Mr. Owen Harris</td>\n",
              "      <td>male</td>\n",
              "      <td>22.0</td>\n",
              "      <td>1</td>\n",
              "      <td>0</td>\n",
              "      <td>7.2500</td>\n",
              "      <td>S</td>\n",
              "      <td>1</td>\n",
              "    </tr>\n",
              "    <tr>\n",
              "      <th>1</th>\n",
              "      <td>2</td>\n",
              "      <td>1</td>\n",
              "      <td>1</td>\n",
              "      <td>Cumings, Mrs. John Bradley (Florence Briggs Th...</td>\n",
              "      <td>female</td>\n",
              "      <td>38.0</td>\n",
              "      <td>1</td>\n",
              "      <td>0</td>\n",
              "      <td>71.2833</td>\n",
              "      <td>C</td>\n",
              "      <td>3</td>\n",
              "    </tr>\n",
              "    <tr>\n",
              "      <th>2</th>\n",
              "      <td>3</td>\n",
              "      <td>1</td>\n",
              "      <td>3</td>\n",
              "      <td>Heikkinen, Miss. Laina</td>\n",
              "      <td>female</td>\n",
              "      <td>26.0</td>\n",
              "      <td>0</td>\n",
              "      <td>0</td>\n",
              "      <td>7.9250</td>\n",
              "      <td>S</td>\n",
              "      <td>2</td>\n",
              "    </tr>\n",
              "    <tr>\n",
              "      <th>3</th>\n",
              "      <td>4</td>\n",
              "      <td>1</td>\n",
              "      <td>1</td>\n",
              "      <td>Futrelle, Mrs. Jacques Heath (Lily May Peel)</td>\n",
              "      <td>female</td>\n",
              "      <td>35.0</td>\n",
              "      <td>1</td>\n",
              "      <td>0</td>\n",
              "      <td>53.1000</td>\n",
              "      <td>S</td>\n",
              "      <td>3</td>\n",
              "    </tr>\n",
              "    <tr>\n",
              "      <th>4</th>\n",
              "      <td>5</td>\n",
              "      <td>0</td>\n",
              "      <td>3</td>\n",
              "      <td>Allen, Mr. William Henry</td>\n",
              "      <td>male</td>\n",
              "      <td>35.0</td>\n",
              "      <td>0</td>\n",
              "      <td>0</td>\n",
              "      <td>8.0500</td>\n",
              "      <td>S</td>\n",
              "      <td>1</td>\n",
              "    </tr>\n",
              "  </tbody>\n",
              "</table>\n",
              "</div>"
            ],
            "application/vnd.google.colaboratory.intrinsic+json": {
              "type": "dataframe",
              "variable_name": "train_df"
            }
          },
          "metadata": {},
          "execution_count": 11
        }
      ],
      "source": [
        "title_mapping = {\"Mr\": 1, \"Miss\": 2, \"Mrs\": 3, \"Master\": 4, \"Rare\": 5}\n",
        "for dataset in combine:\n",
        "    dataset['Title'] = dataset['Title'].map(title_mapping)\n",
        "    dataset['Title'] = dataset['Title'].fillna(0)\n",
        "\n",
        "train_df.head()"
      ]
    },
    {
      "cell_type": "markdown",
      "metadata": {
        "id": "4WZmUPsXsva_"
      },
      "source": [
        "Safely drop 'Name' anad 'PassengerID' feature from training and testing datasets"
      ]
    },
    {
      "cell_type": "code",
      "execution_count": 12,
      "metadata": {
        "colab": {
          "base_uri": "https://localhost:8080/"
        },
        "id": "vspiP3wAsva_",
        "outputId": "d1114222-088c-4354-fc7b-ca2353ea46f1"
      },
      "outputs": [
        {
          "output_type": "execute_result",
          "data": {
            "text/plain": [
              "((1000000, 9), (1000000, 9))"
            ]
          },
          "metadata": {},
          "execution_count": 12
        }
      ],
      "source": [
        "train_df = train_df.drop(['Name', 'PassengerId'], axis=1)\n",
        "test_df = test_df.drop(['Name'], axis=1)\n",
        "combine = [train_df, test_df]\n",
        "train_df.shape, test_df.shape"
      ]
    },
    {
      "cell_type": "markdown",
      "metadata": {
        "id": "o4JHwvmQsvbA"
      },
      "source": [
        "Convert 'Sex' feature to a new feature 'Gender' when female=1 and male=0"
      ]
    },
    {
      "cell_type": "code",
      "execution_count": 13,
      "metadata": {
        "colab": {
          "base_uri": "https://localhost:8080/",
          "height": 206
        },
        "id": "TfdFQcSusvbA",
        "outputId": "af07cc9c-9545-4f19-8670-8e9129100dc1"
      },
      "outputs": [
        {
          "output_type": "execute_result",
          "data": {
            "text/plain": [
              "   Survived  Pclass  Sex   Age  SibSp  Parch     Fare Embarked  Title\n",
              "0         0       3    0  22.0      1      0   7.2500        S      1\n",
              "1         1       1    1  38.0      1      0  71.2833        C      3\n",
              "2         1       3    1  26.0      0      0   7.9250        S      2\n",
              "3         1       1    1  35.0      1      0  53.1000        S      3\n",
              "4         0       3    0  35.0      0      0   8.0500        S      1"
            ],
            "text/html": [
              "<div>\n",
              "<style scoped>\n",
              "    .dataframe tbody tr th:only-of-type {\n",
              "        vertical-align: middle;\n",
              "    }\n",
              "\n",
              "    .dataframe tbody tr th {\n",
              "        vertical-align: top;\n",
              "    }\n",
              "\n",
              "    .dataframe thead th {\n",
              "        text-align: right;\n",
              "    }\n",
              "</style>\n",
              "<table border=\"1\" class=\"dataframe\">\n",
              "  <thead>\n",
              "    <tr style=\"text-align: right;\">\n",
              "      <th></th>\n",
              "      <th>Survived</th>\n",
              "      <th>Pclass</th>\n",
              "      <th>Sex</th>\n",
              "      <th>Age</th>\n",
              "      <th>SibSp</th>\n",
              "      <th>Parch</th>\n",
              "      <th>Fare</th>\n",
              "      <th>Embarked</th>\n",
              "      <th>Title</th>\n",
              "    </tr>\n",
              "  </thead>\n",
              "  <tbody>\n",
              "    <tr>\n",
              "      <th>0</th>\n",
              "      <td>0</td>\n",
              "      <td>3</td>\n",
              "      <td>0</td>\n",
              "      <td>22.0</td>\n",
              "      <td>1</td>\n",
              "      <td>0</td>\n",
              "      <td>7.2500</td>\n",
              "      <td>S</td>\n",
              "      <td>1</td>\n",
              "    </tr>\n",
              "    <tr>\n",
              "      <th>1</th>\n",
              "      <td>1</td>\n",
              "      <td>1</td>\n",
              "      <td>1</td>\n",
              "      <td>38.0</td>\n",
              "      <td>1</td>\n",
              "      <td>0</td>\n",
              "      <td>71.2833</td>\n",
              "      <td>C</td>\n",
              "      <td>3</td>\n",
              "    </tr>\n",
              "    <tr>\n",
              "      <th>2</th>\n",
              "      <td>1</td>\n",
              "      <td>3</td>\n",
              "      <td>1</td>\n",
              "      <td>26.0</td>\n",
              "      <td>0</td>\n",
              "      <td>0</td>\n",
              "      <td>7.9250</td>\n",
              "      <td>S</td>\n",
              "      <td>2</td>\n",
              "    </tr>\n",
              "    <tr>\n",
              "      <th>3</th>\n",
              "      <td>1</td>\n",
              "      <td>1</td>\n",
              "      <td>1</td>\n",
              "      <td>35.0</td>\n",
              "      <td>1</td>\n",
              "      <td>0</td>\n",
              "      <td>53.1000</td>\n",
              "      <td>S</td>\n",
              "      <td>3</td>\n",
              "    </tr>\n",
              "    <tr>\n",
              "      <th>4</th>\n",
              "      <td>0</td>\n",
              "      <td>3</td>\n",
              "      <td>0</td>\n",
              "      <td>35.0</td>\n",
              "      <td>0</td>\n",
              "      <td>0</td>\n",
              "      <td>8.0500</td>\n",
              "      <td>S</td>\n",
              "      <td>1</td>\n",
              "    </tr>\n",
              "  </tbody>\n",
              "</table>\n",
              "</div>"
            ],
            "application/vnd.google.colaboratory.intrinsic+json": {
              "type": "dataframe",
              "variable_name": "train_df"
            }
          },
          "metadata": {},
          "execution_count": 13
        }
      ],
      "source": [
        "for dataset in combine:\n",
        "    dataset['Sex'] = dataset['Sex'].map( {'female': 1, 'male': 0} ).astype(int)\n",
        "\n",
        "train_df.head()"
      ]
    },
    {
      "cell_type": "markdown",
      "metadata": {
        "id": "DyW3r4lRsvbA"
      },
      "source": [
        "Prepare an empty array to contain guessed Age values based on Pclass x Gender combinations"
      ]
    },
    {
      "cell_type": "code",
      "execution_count": 14,
      "metadata": {
        "colab": {
          "base_uri": "https://localhost:8080/"
        },
        "id": "IgPz5Cs6svbA",
        "outputId": "57c3f70d-f629-4308-d0c4-7d07983f684b"
      },
      "outputs": [
        {
          "output_type": "execute_result",
          "data": {
            "text/plain": [
              "array([[0., 0., 0.],\n",
              "       [0., 0., 0.]])"
            ]
          },
          "metadata": {},
          "execution_count": 14
        }
      ],
      "source": [
        "guess_ages = cp.zeros((2,3))\n",
        "guess_ages"
      ]
    },
    {
      "cell_type": "markdown",
      "metadata": {
        "id": "tQePNVxvsvbA"
      },
      "source": [
        "We iterate over 'Sex' (0 or 1) and Pclass (1, 2, 3) to calculate guessed values of 'Age' for the six combinations"
      ]
    },
    {
      "cell_type": "code",
      "execution_count": 15,
      "metadata": {
        "colab": {
          "base_uri": "https://localhost:8080/",
          "height": 206
        },
        "id": "_aSL4lT7svbA",
        "outputId": "3a764503-1bdd-4b7a-e47b-ce7791df1cf2"
      },
      "outputs": [
        {
          "output_type": "execute_result",
          "data": {
            "text/plain": [
              "   Survived  Pclass  Sex  Age  SibSp  Parch     Fare Embarked  Title\n",
              "0         0       3    0   22      1      0   7.2500        S      1\n",
              "1         1       1    1   38      1      0  71.2833        C      3\n",
              "2         1       3    1   26      0      0   7.9250        S      2\n",
              "3         1       1    1   35      1      0  53.1000        S      3\n",
              "4         0       3    0   35      0      0   8.0500        S      1"
            ],
            "text/html": [
              "<div>\n",
              "<style scoped>\n",
              "    .dataframe tbody tr th:only-of-type {\n",
              "        vertical-align: middle;\n",
              "    }\n",
              "\n",
              "    .dataframe tbody tr th {\n",
              "        vertical-align: top;\n",
              "    }\n",
              "\n",
              "    .dataframe thead th {\n",
              "        text-align: right;\n",
              "    }\n",
              "</style>\n",
              "<table border=\"1\" class=\"dataframe\">\n",
              "  <thead>\n",
              "    <tr style=\"text-align: right;\">\n",
              "      <th></th>\n",
              "      <th>Survived</th>\n",
              "      <th>Pclass</th>\n",
              "      <th>Sex</th>\n",
              "      <th>Age</th>\n",
              "      <th>SibSp</th>\n",
              "      <th>Parch</th>\n",
              "      <th>Fare</th>\n",
              "      <th>Embarked</th>\n",
              "      <th>Title</th>\n",
              "    </tr>\n",
              "  </thead>\n",
              "  <tbody>\n",
              "    <tr>\n",
              "      <th>0</th>\n",
              "      <td>0</td>\n",
              "      <td>3</td>\n",
              "      <td>0</td>\n",
              "      <td>22</td>\n",
              "      <td>1</td>\n",
              "      <td>0</td>\n",
              "      <td>7.2500</td>\n",
              "      <td>S</td>\n",
              "      <td>1</td>\n",
              "    </tr>\n",
              "    <tr>\n",
              "      <th>1</th>\n",
              "      <td>1</td>\n",
              "      <td>1</td>\n",
              "      <td>1</td>\n",
              "      <td>38</td>\n",
              "      <td>1</td>\n",
              "      <td>0</td>\n",
              "      <td>71.2833</td>\n",
              "      <td>C</td>\n",
              "      <td>3</td>\n",
              "    </tr>\n",
              "    <tr>\n",
              "      <th>2</th>\n",
              "      <td>1</td>\n",
              "      <td>3</td>\n",
              "      <td>1</td>\n",
              "      <td>26</td>\n",
              "      <td>0</td>\n",
              "      <td>0</td>\n",
              "      <td>7.9250</td>\n",
              "      <td>S</td>\n",
              "      <td>2</td>\n",
              "    </tr>\n",
              "    <tr>\n",
              "      <th>3</th>\n",
              "      <td>1</td>\n",
              "      <td>1</td>\n",
              "      <td>1</td>\n",
              "      <td>35</td>\n",
              "      <td>1</td>\n",
              "      <td>0</td>\n",
              "      <td>53.1000</td>\n",
              "      <td>S</td>\n",
              "      <td>3</td>\n",
              "    </tr>\n",
              "    <tr>\n",
              "      <th>4</th>\n",
              "      <td>0</td>\n",
              "      <td>3</td>\n",
              "      <td>0</td>\n",
              "      <td>35</td>\n",
              "      <td>0</td>\n",
              "      <td>0</td>\n",
              "      <td>8.0500</td>\n",
              "      <td>S</td>\n",
              "      <td>1</td>\n",
              "    </tr>\n",
              "  </tbody>\n",
              "</table>\n",
              "</div>"
            ],
            "application/vnd.google.colaboratory.intrinsic+json": {
              "type": "dataframe",
              "variable_name": "train_df"
            }
          },
          "metadata": {},
          "execution_count": 15
        }
      ],
      "source": [
        "for dataset in combine:\n",
        "    for i in range(0, 2):\n",
        "        for j in range(0, 3):\n",
        "            guess_df = dataset.loc[(dataset['Sex'] == i) & (dataset['Pclass'] == j+1), 'Age'].dropna()\n",
        "\n",
        "            age_guess = guess_df.median()\n",
        "\n",
        "            # Convert random age float to nearest .5 age\n",
        "            guess_ages[i, j] = int( age_guess/0.5 + 0.5 ) * 0.5\n",
        "\n",
        "            mask = (dataset['Age'].isnull()) & (dataset['Sex'] == i) & (dataset['Pclass'] == j + 1)\n",
        "\n",
        "            dataset.loc[mask, 'Age'] = guess_ages[i, j].get()\n",
        "\n",
        "    dataset['Age'] = dataset['Age'].astype(int)\n",
        "\n",
        "train_df.head()"
      ]
    },
    {
      "cell_type": "markdown",
      "metadata": {
        "id": "mhlgCNZUsvbA"
      },
      "source": [
        "Create Age bands and determine correlations with 'Survived'"
      ]
    },
    {
      "cell_type": "code",
      "execution_count": 16,
      "metadata": {
        "colab": {
          "base_uri": "https://localhost:8080/",
          "height": 206
        },
        "id": "Hqc5j4J6svbA",
        "outputId": "4882c72f-ccf3-4557-f071-bb52ad6346f9"
      },
      "outputs": [
        {
          "output_type": "execute_result",
          "data": {
            "text/plain": [
              "         AgeBand  Survived\n",
              "0  (-0.08, 16.0]  0.549973\n",
              "1   (16.0, 32.0]  0.337376\n",
              "2   (32.0, 48.0]  0.412019\n",
              "3   (48.0, 64.0]  0.434755\n",
              "4   (64.0, 80.0]  0.090872"
            ],
            "text/html": [
              "<div>\n",
              "<style scoped>\n",
              "    .dataframe tbody tr th:only-of-type {\n",
              "        vertical-align: middle;\n",
              "    }\n",
              "\n",
              "    .dataframe tbody tr th {\n",
              "        vertical-align: top;\n",
              "    }\n",
              "\n",
              "    .dataframe thead th {\n",
              "        text-align: right;\n",
              "    }\n",
              "</style>\n",
              "<table border=\"1\" class=\"dataframe\">\n",
              "  <thead>\n",
              "    <tr style=\"text-align: right;\">\n",
              "      <th></th>\n",
              "      <th>AgeBand</th>\n",
              "      <th>Survived</th>\n",
              "    </tr>\n",
              "  </thead>\n",
              "  <tbody>\n",
              "    <tr>\n",
              "      <th>0</th>\n",
              "      <td>(-0.08, 16.0]</td>\n",
              "      <td>0.549973</td>\n",
              "    </tr>\n",
              "    <tr>\n",
              "      <th>1</th>\n",
              "      <td>(16.0, 32.0]</td>\n",
              "      <td>0.337376</td>\n",
              "    </tr>\n",
              "    <tr>\n",
              "      <th>2</th>\n",
              "      <td>(32.0, 48.0]</td>\n",
              "      <td>0.412019</td>\n",
              "    </tr>\n",
              "    <tr>\n",
              "      <th>3</th>\n",
              "      <td>(48.0, 64.0]</td>\n",
              "      <td>0.434755</td>\n",
              "    </tr>\n",
              "    <tr>\n",
              "      <th>4</th>\n",
              "      <td>(64.0, 80.0]</td>\n",
              "      <td>0.090872</td>\n",
              "    </tr>\n",
              "  </tbody>\n",
              "</table>\n",
              "</div>"
            ],
            "application/vnd.google.colaboratory.intrinsic+json": {
              "type": "dataframe",
              "summary": "{\n  \"name\": \"train_df[['AgeBand', 'Survived']]\",\n  \"rows\": 5,\n  \"fields\": [\n    {\n      \"column\": \"AgeBand\",\n      \"properties\": {\n        \"dtype\": \"category\",\n        \"num_unique_values\": 5,\n        \"samples\": [\n          \"(48.0, 64.0]\",\n          \"(-0.08, 16.0]\",\n          \"(64.0, 80.0]\"\n        ],\n        \"semantic_type\": \"\",\n        \"description\": \"\"\n      }\n    },\n    {\n      \"column\": \"Survived\",\n      \"properties\": {\n        \"dtype\": \"number\",\n        \"std\": 0.17117298817022564,\n        \"min\": 0.09087227666639669,\n        \"max\": 0.5499732715609409,\n        \"num_unique_values\": 5,\n        \"samples\": [\n          0.43475509756066066,\n          0.5499732715609409,\n          0.09087227666639669\n        ],\n        \"semantic_type\": \"\",\n        \"description\": \"\"\n      }\n    }\n  ]\n}"
            }
          },
          "metadata": {},
          "execution_count": 16
        }
      ],
      "source": [
        "train_df['AgeBand'] = pd.cut(train_df['Age'], 5)\n",
        "train_df[['AgeBand', 'Survived']].groupby(['AgeBand'], as_index=False, observed = True).mean().sort_values(by='AgeBand', ascending=True)"
      ]
    },
    {
      "cell_type": "markdown",
      "metadata": {
        "id": "vnf8E-PcsvbA"
      },
      "source": [
        "Replace 'Age' with ordinals based on these bands"
      ]
    },
    {
      "cell_type": "code",
      "execution_count": 17,
      "metadata": {
        "colab": {
          "base_uri": "https://localhost:8080/",
          "height": 206
        },
        "id": "7DLxjMw5svbA",
        "outputId": "68f12b4f-5596-4297-c4dc-03fea05c14f0"
      },
      "outputs": [
        {
          "output_type": "execute_result",
          "data": {
            "text/plain": [
              "   Survived  Pclass  Sex  Age  SibSp  Parch     Fare Embarked  Title  \\\n",
              "0         0       3    0    1      1      0   7.2500        S      1   \n",
              "1         1       1    1    2      1      0  71.2833        C      3   \n",
              "2         1       3    1    1      0      0   7.9250        S      2   \n",
              "3         1       1    1    2      1      0  53.1000        S      3   \n",
              "4         0       3    0    2      0      0   8.0500        S      1   \n",
              "\n",
              "        AgeBand  \n",
              "0  (16.0, 32.0]  \n",
              "1  (32.0, 48.0]  \n",
              "2  (16.0, 32.0]  \n",
              "3  (32.0, 48.0]  \n",
              "4  (32.0, 48.0]  "
            ],
            "text/html": [
              "<div>\n",
              "<style scoped>\n",
              "    .dataframe tbody tr th:only-of-type {\n",
              "        vertical-align: middle;\n",
              "    }\n",
              "\n",
              "    .dataframe tbody tr th {\n",
              "        vertical-align: top;\n",
              "    }\n",
              "\n",
              "    .dataframe thead th {\n",
              "        text-align: right;\n",
              "    }\n",
              "</style>\n",
              "<table border=\"1\" class=\"dataframe\">\n",
              "  <thead>\n",
              "    <tr style=\"text-align: right;\">\n",
              "      <th></th>\n",
              "      <th>Survived</th>\n",
              "      <th>Pclass</th>\n",
              "      <th>Sex</th>\n",
              "      <th>Age</th>\n",
              "      <th>SibSp</th>\n",
              "      <th>Parch</th>\n",
              "      <th>Fare</th>\n",
              "      <th>Embarked</th>\n",
              "      <th>Title</th>\n",
              "      <th>AgeBand</th>\n",
              "    </tr>\n",
              "  </thead>\n",
              "  <tbody>\n",
              "    <tr>\n",
              "      <th>0</th>\n",
              "      <td>0</td>\n",
              "      <td>3</td>\n",
              "      <td>0</td>\n",
              "      <td>1</td>\n",
              "      <td>1</td>\n",
              "      <td>0</td>\n",
              "      <td>7.2500</td>\n",
              "      <td>S</td>\n",
              "      <td>1</td>\n",
              "      <td>(16.0, 32.0]</td>\n",
              "    </tr>\n",
              "    <tr>\n",
              "      <th>1</th>\n",
              "      <td>1</td>\n",
              "      <td>1</td>\n",
              "      <td>1</td>\n",
              "      <td>2</td>\n",
              "      <td>1</td>\n",
              "      <td>0</td>\n",
              "      <td>71.2833</td>\n",
              "      <td>C</td>\n",
              "      <td>3</td>\n",
              "      <td>(32.0, 48.0]</td>\n",
              "    </tr>\n",
              "    <tr>\n",
              "      <th>2</th>\n",
              "      <td>1</td>\n",
              "      <td>3</td>\n",
              "      <td>1</td>\n",
              "      <td>1</td>\n",
              "      <td>0</td>\n",
              "      <td>0</td>\n",
              "      <td>7.9250</td>\n",
              "      <td>S</td>\n",
              "      <td>2</td>\n",
              "      <td>(16.0, 32.0]</td>\n",
              "    </tr>\n",
              "    <tr>\n",
              "      <th>3</th>\n",
              "      <td>1</td>\n",
              "      <td>1</td>\n",
              "      <td>1</td>\n",
              "      <td>2</td>\n",
              "      <td>1</td>\n",
              "      <td>0</td>\n",
              "      <td>53.1000</td>\n",
              "      <td>S</td>\n",
              "      <td>3</td>\n",
              "      <td>(32.0, 48.0]</td>\n",
              "    </tr>\n",
              "    <tr>\n",
              "      <th>4</th>\n",
              "      <td>0</td>\n",
              "      <td>3</td>\n",
              "      <td>0</td>\n",
              "      <td>2</td>\n",
              "      <td>0</td>\n",
              "      <td>0</td>\n",
              "      <td>8.0500</td>\n",
              "      <td>S</td>\n",
              "      <td>1</td>\n",
              "      <td>(32.0, 48.0]</td>\n",
              "    </tr>\n",
              "  </tbody>\n",
              "</table>\n",
              "</div>"
            ],
            "application/vnd.google.colaboratory.intrinsic+json": {
              "type": "dataframe",
              "variable_name": "train_df"
            }
          },
          "metadata": {},
          "execution_count": 17
        }
      ],
      "source": [
        "for dataset in combine:\n",
        "    dataset.loc[ dataset['Age'] <= 16, 'Age'] = 0\n",
        "    dataset.loc[(dataset['Age'] > 16) & (dataset['Age'] <= 32), 'Age'] = 1\n",
        "    dataset.loc[(dataset['Age'] > 32) & (dataset['Age'] <= 48), 'Age'] = 2\n",
        "    dataset.loc[(dataset['Age'] > 48) & (dataset['Age'] <= 64), 'Age'] = 3\n",
        "    dataset.loc[ dataset['Age'] > 64, 'Age']\n",
        "train_df.head()"
      ]
    },
    {
      "cell_type": "markdown",
      "metadata": {
        "id": "y3J1kHe-svbB"
      },
      "source": [
        "Remove 'AgeBand' feature"
      ]
    },
    {
      "cell_type": "code",
      "execution_count": 18,
      "metadata": {
        "colab": {
          "base_uri": "https://localhost:8080/",
          "height": 206
        },
        "id": "3Xrg0cvQsvbB",
        "outputId": "123157be-539f-449b-e99f-a3318ab05914"
      },
      "outputs": [
        {
          "output_type": "execute_result",
          "data": {
            "text/plain": [
              "   Survived  Pclass  Sex  Age  SibSp  Parch     Fare Embarked  Title\n",
              "0         0       3    0    1      1      0   7.2500        S      1\n",
              "1         1       1    1    2      1      0  71.2833        C      3\n",
              "2         1       3    1    1      0      0   7.9250        S      2\n",
              "3         1       1    1    2      1      0  53.1000        S      3\n",
              "4         0       3    0    2      0      0   8.0500        S      1"
            ],
            "text/html": [
              "<div>\n",
              "<style scoped>\n",
              "    .dataframe tbody tr th:only-of-type {\n",
              "        vertical-align: middle;\n",
              "    }\n",
              "\n",
              "    .dataframe tbody tr th {\n",
              "        vertical-align: top;\n",
              "    }\n",
              "\n",
              "    .dataframe thead th {\n",
              "        text-align: right;\n",
              "    }\n",
              "</style>\n",
              "<table border=\"1\" class=\"dataframe\">\n",
              "  <thead>\n",
              "    <tr style=\"text-align: right;\">\n",
              "      <th></th>\n",
              "      <th>Survived</th>\n",
              "      <th>Pclass</th>\n",
              "      <th>Sex</th>\n",
              "      <th>Age</th>\n",
              "      <th>SibSp</th>\n",
              "      <th>Parch</th>\n",
              "      <th>Fare</th>\n",
              "      <th>Embarked</th>\n",
              "      <th>Title</th>\n",
              "    </tr>\n",
              "  </thead>\n",
              "  <tbody>\n",
              "    <tr>\n",
              "      <th>0</th>\n",
              "      <td>0</td>\n",
              "      <td>3</td>\n",
              "      <td>0</td>\n",
              "      <td>1</td>\n",
              "      <td>1</td>\n",
              "      <td>0</td>\n",
              "      <td>7.2500</td>\n",
              "      <td>S</td>\n",
              "      <td>1</td>\n",
              "    </tr>\n",
              "    <tr>\n",
              "      <th>1</th>\n",
              "      <td>1</td>\n",
              "      <td>1</td>\n",
              "      <td>1</td>\n",
              "      <td>2</td>\n",
              "      <td>1</td>\n",
              "      <td>0</td>\n",
              "      <td>71.2833</td>\n",
              "      <td>C</td>\n",
              "      <td>3</td>\n",
              "    </tr>\n",
              "    <tr>\n",
              "      <th>2</th>\n",
              "      <td>1</td>\n",
              "      <td>3</td>\n",
              "      <td>1</td>\n",
              "      <td>1</td>\n",
              "      <td>0</td>\n",
              "      <td>0</td>\n",
              "      <td>7.9250</td>\n",
              "      <td>S</td>\n",
              "      <td>2</td>\n",
              "    </tr>\n",
              "    <tr>\n",
              "      <th>3</th>\n",
              "      <td>1</td>\n",
              "      <td>1</td>\n",
              "      <td>1</td>\n",
              "      <td>2</td>\n",
              "      <td>1</td>\n",
              "      <td>0</td>\n",
              "      <td>53.1000</td>\n",
              "      <td>S</td>\n",
              "      <td>3</td>\n",
              "    </tr>\n",
              "    <tr>\n",
              "      <th>4</th>\n",
              "      <td>0</td>\n",
              "      <td>3</td>\n",
              "      <td>0</td>\n",
              "      <td>2</td>\n",
              "      <td>0</td>\n",
              "      <td>0</td>\n",
              "      <td>8.0500</td>\n",
              "      <td>S</td>\n",
              "      <td>1</td>\n",
              "    </tr>\n",
              "  </tbody>\n",
              "</table>\n",
              "</div>"
            ],
            "application/vnd.google.colaboratory.intrinsic+json": {
              "type": "dataframe",
              "variable_name": "train_df"
            }
          },
          "metadata": {},
          "execution_count": 18
        }
      ],
      "source": [
        "train_df = train_df.drop(['AgeBand'], axis=1)\n",
        "combine = [train_df, test_df]\n",
        "train_df.head()"
      ]
    },
    {
      "cell_type": "markdown",
      "metadata": {
        "id": "iV3_c3DRsvbB"
      },
      "source": [
        "Create a new feature for 'FamilySize' which combines 'Parch' and 'SibSp'. This will allow us to drop 'Parch' and 'SibSp'."
      ]
    },
    {
      "cell_type": "code",
      "execution_count": 19,
      "metadata": {
        "colab": {
          "base_uri": "https://localhost:8080/",
          "height": 332
        },
        "id": "X-Sj8VVXsvbB",
        "outputId": "fce0ce6f-8de8-41ee-b8a6-53d2d90b275e"
      },
      "outputs": [
        {
          "output_type": "execute_result",
          "data": {
            "text/plain": [
              "   FamilySize  Survived\n",
              "3           4  0.724127\n",
              "2           3  0.578411\n",
              "1           2  0.552758\n",
              "6           7  0.333457\n",
              "0           1  0.303542\n",
              "4           5  0.199929\n",
              "5           6  0.136349\n",
              "7           8  0.000000\n",
              "8          11  0.000000"
            ],
            "text/html": [
              "<div>\n",
              "<style scoped>\n",
              "    .dataframe tbody tr th:only-of-type {\n",
              "        vertical-align: middle;\n",
              "    }\n",
              "\n",
              "    .dataframe tbody tr th {\n",
              "        vertical-align: top;\n",
              "    }\n",
              "\n",
              "    .dataframe thead th {\n",
              "        text-align: right;\n",
              "    }\n",
              "</style>\n",
              "<table border=\"1\" class=\"dataframe\">\n",
              "  <thead>\n",
              "    <tr style=\"text-align: right;\">\n",
              "      <th></th>\n",
              "      <th>FamilySize</th>\n",
              "      <th>Survived</th>\n",
              "    </tr>\n",
              "  </thead>\n",
              "  <tbody>\n",
              "    <tr>\n",
              "      <th>3</th>\n",
              "      <td>4</td>\n",
              "      <td>0.724127</td>\n",
              "    </tr>\n",
              "    <tr>\n",
              "      <th>2</th>\n",
              "      <td>3</td>\n",
              "      <td>0.578411</td>\n",
              "    </tr>\n",
              "    <tr>\n",
              "      <th>1</th>\n",
              "      <td>2</td>\n",
              "      <td>0.552758</td>\n",
              "    </tr>\n",
              "    <tr>\n",
              "      <th>6</th>\n",
              "      <td>7</td>\n",
              "      <td>0.333457</td>\n",
              "    </tr>\n",
              "    <tr>\n",
              "      <th>0</th>\n",
              "      <td>1</td>\n",
              "      <td>0.303542</td>\n",
              "    </tr>\n",
              "    <tr>\n",
              "      <th>4</th>\n",
              "      <td>5</td>\n",
              "      <td>0.199929</td>\n",
              "    </tr>\n",
              "    <tr>\n",
              "      <th>5</th>\n",
              "      <td>6</td>\n",
              "      <td>0.136349</td>\n",
              "    </tr>\n",
              "    <tr>\n",
              "      <th>7</th>\n",
              "      <td>8</td>\n",
              "      <td>0.000000</td>\n",
              "    </tr>\n",
              "    <tr>\n",
              "      <th>8</th>\n",
              "      <td>11</td>\n",
              "      <td>0.000000</td>\n",
              "    </tr>\n",
              "  </tbody>\n",
              "</table>\n",
              "</div>"
            ],
            "application/vnd.google.colaboratory.intrinsic+json": {
              "type": "dataframe",
              "summary": "{\n  \"name\": \"train_df[['FamilySize', 'Survived']]\",\n  \"rows\": 9,\n  \"fields\": [\n    {\n      \"column\": \"FamilySize\",\n      \"properties\": {\n        \"dtype\": \"number\",\n        \"std\": 3,\n        \"min\": 1,\n        \"max\": 11,\n        \"num_unique_values\": 9,\n        \"samples\": [\n          6,\n          7,\n          11\n        ],\n        \"semantic_type\": \"\",\n        \"description\": \"\"\n      }\n    },\n    {\n      \"column\": \"Survived\",\n      \"properties\": {\n        \"dtype\": \"number\",\n        \"std\": 0.2591751793116152,\n        \"min\": 0.0,\n        \"max\": 0.7241273352999017,\n        \"num_unique_values\": 8,\n        \"samples\": [\n          0.1363489106665587,\n          0.3334570558978546,\n          0.7241273352999017\n        ],\n        \"semantic_type\": \"\",\n        \"description\": \"\"\n      }\n    }\n  ]\n}"
            }
          },
          "metadata": {},
          "execution_count": 19
        }
      ],
      "source": [
        "for dataset in combine:\n",
        "    dataset['FamilySize'] = dataset['SibSp'] + dataset['Parch'] + 1\n",
        "\n",
        "train_df[['FamilySize', 'Survived']].groupby(['FamilySize'], as_index=False).mean().sort_values(by='Survived', ascending=False)"
      ]
    },
    {
      "cell_type": "markdown",
      "metadata": {
        "id": "_usoprD8svbB"
      },
      "source": [
        "Create another feature called 'IsAlone'"
      ]
    },
    {
      "cell_type": "code",
      "execution_count": 20,
      "metadata": {
        "colab": {
          "base_uri": "https://localhost:8080/",
          "height": 112
        },
        "id": "OB-QAro6svbB",
        "outputId": "5c54a5bb-86a4-488d-b11a-e6cf5deb1fe2"
      },
      "outputs": [
        {
          "output_type": "execute_result",
          "data": {
            "text/plain": [
              "   IsAlone  Survived\n",
              "0        0  0.505619\n",
              "1        1  0.303542"
            ],
            "text/html": [
              "<div>\n",
              "<style scoped>\n",
              "    .dataframe tbody tr th:only-of-type {\n",
              "        vertical-align: middle;\n",
              "    }\n",
              "\n",
              "    .dataframe tbody tr th {\n",
              "        vertical-align: top;\n",
              "    }\n",
              "\n",
              "    .dataframe thead th {\n",
              "        text-align: right;\n",
              "    }\n",
              "</style>\n",
              "<table border=\"1\" class=\"dataframe\">\n",
              "  <thead>\n",
              "    <tr style=\"text-align: right;\">\n",
              "      <th></th>\n",
              "      <th>IsAlone</th>\n",
              "      <th>Survived</th>\n",
              "    </tr>\n",
              "  </thead>\n",
              "  <tbody>\n",
              "    <tr>\n",
              "      <th>0</th>\n",
              "      <td>0</td>\n",
              "      <td>0.505619</td>\n",
              "    </tr>\n",
              "    <tr>\n",
              "      <th>1</th>\n",
              "      <td>1</td>\n",
              "      <td>0.303542</td>\n",
              "    </tr>\n",
              "  </tbody>\n",
              "</table>\n",
              "</div>"
            ],
            "application/vnd.google.colaboratory.intrinsic+json": {
              "type": "dataframe",
              "summary": "{\n  \"name\": \"train_df[['IsAlone', 'Survived']]\",\n  \"rows\": 2,\n  \"fields\": [\n    {\n      \"column\": \"IsAlone\",\n      \"properties\": {\n        \"dtype\": \"number\",\n        \"std\": 0,\n        \"min\": 0,\n        \"max\": 1,\n        \"num_unique_values\": 2,\n        \"samples\": [\n          0,\n          1\n        ],\n        \"semantic_type\": \"\",\n        \"description\": \"\"\n      }\n    },\n    {\n      \"column\": \"Survived\",\n      \"properties\": {\n        \"dtype\": \"number\",\n        \"std\": 0.14288979962194914,\n        \"min\": 0.3035423030528284,\n        \"max\": 0.5056189956029629,\n        \"num_unique_values\": 2,\n        \"samples\": [\n          0.5056189956029629,\n          0.3035423030528284\n        ],\n        \"semantic_type\": \"\",\n        \"description\": \"\"\n      }\n    }\n  ]\n}"
            }
          },
          "metadata": {},
          "execution_count": 20
        }
      ],
      "source": [
        "for dataset in combine:\n",
        "    dataset['IsAlone'] = 0\n",
        "    dataset.loc[dataset['FamilySize'] == 1, 'IsAlone'] = 1\n",
        "\n",
        "train_df[['IsAlone', 'Survived']].groupby(['IsAlone'], as_index=False).mean()"
      ]
    },
    {
      "cell_type": "markdown",
      "metadata": {
        "id": "byEC72VJsvbB"
      },
      "source": [
        "Drop 'Parch', 'SibSp', and 'FamilySize' features in favor of 'IsAlone'"
      ]
    },
    {
      "cell_type": "code",
      "execution_count": 21,
      "metadata": {
        "colab": {
          "base_uri": "https://localhost:8080/",
          "height": 206
        },
        "id": "I2cACmJQsvbN",
        "outputId": "046c2c0c-fd91-4b6e-94c9-a49ac6289d43"
      },
      "outputs": [
        {
          "output_type": "execute_result",
          "data": {
            "text/plain": [
              "   Survived  Pclass  Sex  Age     Fare Embarked  Title  IsAlone\n",
              "0         0       3    0    1   7.2500        S      1        0\n",
              "1         1       1    1    2  71.2833        C      3        0\n",
              "2         1       3    1    1   7.9250        S      2        1\n",
              "3         1       1    1    2  53.1000        S      3        0\n",
              "4         0       3    0    2   8.0500        S      1        1"
            ],
            "text/html": [
              "<div>\n",
              "<style scoped>\n",
              "    .dataframe tbody tr th:only-of-type {\n",
              "        vertical-align: middle;\n",
              "    }\n",
              "\n",
              "    .dataframe tbody tr th {\n",
              "        vertical-align: top;\n",
              "    }\n",
              "\n",
              "    .dataframe thead th {\n",
              "        text-align: right;\n",
              "    }\n",
              "</style>\n",
              "<table border=\"1\" class=\"dataframe\">\n",
              "  <thead>\n",
              "    <tr style=\"text-align: right;\">\n",
              "      <th></th>\n",
              "      <th>Survived</th>\n",
              "      <th>Pclass</th>\n",
              "      <th>Sex</th>\n",
              "      <th>Age</th>\n",
              "      <th>Fare</th>\n",
              "      <th>Embarked</th>\n",
              "      <th>Title</th>\n",
              "      <th>IsAlone</th>\n",
              "    </tr>\n",
              "  </thead>\n",
              "  <tbody>\n",
              "    <tr>\n",
              "      <th>0</th>\n",
              "      <td>0</td>\n",
              "      <td>3</td>\n",
              "      <td>0</td>\n",
              "      <td>1</td>\n",
              "      <td>7.2500</td>\n",
              "      <td>S</td>\n",
              "      <td>1</td>\n",
              "      <td>0</td>\n",
              "    </tr>\n",
              "    <tr>\n",
              "      <th>1</th>\n",
              "      <td>1</td>\n",
              "      <td>1</td>\n",
              "      <td>1</td>\n",
              "      <td>2</td>\n",
              "      <td>71.2833</td>\n",
              "      <td>C</td>\n",
              "      <td>3</td>\n",
              "      <td>0</td>\n",
              "    </tr>\n",
              "    <tr>\n",
              "      <th>2</th>\n",
              "      <td>1</td>\n",
              "      <td>3</td>\n",
              "      <td>1</td>\n",
              "      <td>1</td>\n",
              "      <td>7.9250</td>\n",
              "      <td>S</td>\n",
              "      <td>2</td>\n",
              "      <td>1</td>\n",
              "    </tr>\n",
              "    <tr>\n",
              "      <th>3</th>\n",
              "      <td>1</td>\n",
              "      <td>1</td>\n",
              "      <td>1</td>\n",
              "      <td>2</td>\n",
              "      <td>53.1000</td>\n",
              "      <td>S</td>\n",
              "      <td>3</td>\n",
              "      <td>0</td>\n",
              "    </tr>\n",
              "    <tr>\n",
              "      <th>4</th>\n",
              "      <td>0</td>\n",
              "      <td>3</td>\n",
              "      <td>0</td>\n",
              "      <td>2</td>\n",
              "      <td>8.0500</td>\n",
              "      <td>S</td>\n",
              "      <td>1</td>\n",
              "      <td>1</td>\n",
              "    </tr>\n",
              "  </tbody>\n",
              "</table>\n",
              "</div>"
            ],
            "application/vnd.google.colaboratory.intrinsic+json": {
              "type": "dataframe",
              "variable_name": "train_df"
            }
          },
          "metadata": {},
          "execution_count": 21
        }
      ],
      "source": [
        "train_df = train_df.drop(['Parch', 'SibSp', 'FamilySize'], axis=1)\n",
        "test_df = test_df.drop(['Parch', 'SibSp', 'FamilySize'], axis=1)\n",
        "combine = [train_df, test_df]\n",
        "\n",
        "train_df.head()"
      ]
    },
    {
      "cell_type": "markdown",
      "metadata": {
        "id": "BfcotvzesvbN"
      },
      "source": [
        "Create an artificial feature combining 'Pclass' and 'Age'"
      ]
    },
    {
      "cell_type": "code",
      "execution_count": 22,
      "metadata": {
        "colab": {
          "base_uri": "https://localhost:8080/",
          "height": 363
        },
        "id": "J86wJEVLsvbN",
        "outputId": "70f88967-126b-4585-95ea-ebf08dbb609d"
      },
      "outputs": [
        {
          "output_type": "execute_result",
          "data": {
            "text/plain": [
              "   Age*Class  Age  Pclass\n",
              "0          3    1       3\n",
              "1          2    2       1\n",
              "2          3    1       3\n",
              "3          2    2       1\n",
              "4          6    2       3\n",
              "5          3    1       3\n",
              "6          3    3       1\n",
              "7          0    0       3\n",
              "8          3    1       3\n",
              "9          0    0       2"
            ],
            "text/html": [
              "<div>\n",
              "<style scoped>\n",
              "    .dataframe tbody tr th:only-of-type {\n",
              "        vertical-align: middle;\n",
              "    }\n",
              "\n",
              "    .dataframe tbody tr th {\n",
              "        vertical-align: top;\n",
              "    }\n",
              "\n",
              "    .dataframe thead th {\n",
              "        text-align: right;\n",
              "    }\n",
              "</style>\n",
              "<table border=\"1\" class=\"dataframe\">\n",
              "  <thead>\n",
              "    <tr style=\"text-align: right;\">\n",
              "      <th></th>\n",
              "      <th>Age*Class</th>\n",
              "      <th>Age</th>\n",
              "      <th>Pclass</th>\n",
              "    </tr>\n",
              "  </thead>\n",
              "  <tbody>\n",
              "    <tr>\n",
              "      <th>0</th>\n",
              "      <td>3</td>\n",
              "      <td>1</td>\n",
              "      <td>3</td>\n",
              "    </tr>\n",
              "    <tr>\n",
              "      <th>1</th>\n",
              "      <td>2</td>\n",
              "      <td>2</td>\n",
              "      <td>1</td>\n",
              "    </tr>\n",
              "    <tr>\n",
              "      <th>2</th>\n",
              "      <td>3</td>\n",
              "      <td>1</td>\n",
              "      <td>3</td>\n",
              "    </tr>\n",
              "    <tr>\n",
              "      <th>3</th>\n",
              "      <td>2</td>\n",
              "      <td>2</td>\n",
              "      <td>1</td>\n",
              "    </tr>\n",
              "    <tr>\n",
              "      <th>4</th>\n",
              "      <td>6</td>\n",
              "      <td>2</td>\n",
              "      <td>3</td>\n",
              "    </tr>\n",
              "    <tr>\n",
              "      <th>5</th>\n",
              "      <td>3</td>\n",
              "      <td>1</td>\n",
              "      <td>3</td>\n",
              "    </tr>\n",
              "    <tr>\n",
              "      <th>6</th>\n",
              "      <td>3</td>\n",
              "      <td>3</td>\n",
              "      <td>1</td>\n",
              "    </tr>\n",
              "    <tr>\n",
              "      <th>7</th>\n",
              "      <td>0</td>\n",
              "      <td>0</td>\n",
              "      <td>3</td>\n",
              "    </tr>\n",
              "    <tr>\n",
              "      <th>8</th>\n",
              "      <td>3</td>\n",
              "      <td>1</td>\n",
              "      <td>3</td>\n",
              "    </tr>\n",
              "    <tr>\n",
              "      <th>9</th>\n",
              "      <td>0</td>\n",
              "      <td>0</td>\n",
              "      <td>2</td>\n",
              "    </tr>\n",
              "  </tbody>\n",
              "</table>\n",
              "</div>"
            ],
            "application/vnd.google.colaboratory.intrinsic+json": {
              "type": "dataframe",
              "summary": "{\n  \"name\": \"train_df\",\n  \"rows\": 10,\n  \"fields\": [\n    {\n      \"column\": \"Age*Class\",\n      \"properties\": {\n        \"dtype\": \"number\",\n        \"std\": 1,\n        \"min\": 0,\n        \"max\": 6,\n        \"num_unique_values\": 4,\n        \"samples\": [\n          0,\n          3,\n          2\n        ],\n        \"semantic_type\": \"\",\n        \"description\": \"\"\n      }\n    },\n    {\n      \"column\": \"Age\",\n      \"properties\": {\n        \"dtype\": \"number\",\n        \"std\": 0,\n        \"min\": 0,\n        \"max\": 3,\n        \"num_unique_values\": 4,\n        \"samples\": [\n          0,\n          1,\n          2\n        ],\n        \"semantic_type\": \"\",\n        \"description\": \"\"\n      }\n    },\n    {\n      \"column\": \"Pclass\",\n      \"properties\": {\n        \"dtype\": \"number\",\n        \"std\": 0,\n        \"min\": 1,\n        \"max\": 3,\n        \"num_unique_values\": 3,\n        \"samples\": [\n          3,\n          1,\n          2\n        ],\n        \"semantic_type\": \"\",\n        \"description\": \"\"\n      }\n    }\n  ]\n}"
            }
          },
          "metadata": {},
          "execution_count": 22
        }
      ],
      "source": [
        "for dataset in combine:\n",
        "    dataset['Age*Class'] = dataset.Age * dataset.Pclass\n",
        "\n",
        "train_df.loc[:, ['Age*Class', 'Age', 'Pclass']].head(10)"
      ]
    },
    {
      "cell_type": "markdown",
      "metadata": {
        "id": "-mOBm8eEsvbN"
      },
      "source": [
        "'Embarked' feature takes S, Q, C values based on port of embarkation. Our training dataset has two missing values. We simply fill these with the most common occurance."
      ]
    },
    {
      "cell_type": "code",
      "execution_count": 23,
      "metadata": {
        "colab": {
          "base_uri": "https://localhost:8080/",
          "height": 35
        },
        "id": "vWt5q9qpsvbN",
        "outputId": "b2d7c87d-e07b-444b-8ec9-9ae4f9353ba6"
      },
      "outputs": [
        {
          "output_type": "execute_result",
          "data": {
            "text/plain": [
              "'S'"
            ],
            "application/vnd.google.colaboratory.intrinsic+json": {
              "type": "string"
            }
          },
          "metadata": {},
          "execution_count": 23
        }
      ],
      "source": [
        "freq_port = train_df.Embarked.dropna().mode()[0]\n",
        "freq_port"
      ]
    },
    {
      "cell_type": "code",
      "execution_count": 24,
      "metadata": {
        "colab": {
          "base_uri": "https://localhost:8080/",
          "height": 143
        },
        "id": "FWLbI0kosvbN",
        "outputId": "ede55daa-9d78-4f64-8d4b-bebf6f7d11d6"
      },
      "outputs": [
        {
          "output_type": "execute_result",
          "data": {
            "text/plain": [
              "  Embarked  Survived\n",
              "0        C  0.553533\n",
              "1        Q  0.389642\n",
              "2        S  0.339005"
            ],
            "text/html": [
              "<div>\n",
              "<style scoped>\n",
              "    .dataframe tbody tr th:only-of-type {\n",
              "        vertical-align: middle;\n",
              "    }\n",
              "\n",
              "    .dataframe tbody tr th {\n",
              "        vertical-align: top;\n",
              "    }\n",
              "\n",
              "    .dataframe thead th {\n",
              "        text-align: right;\n",
              "    }\n",
              "</style>\n",
              "<table border=\"1\" class=\"dataframe\">\n",
              "  <thead>\n",
              "    <tr style=\"text-align: right;\">\n",
              "      <th></th>\n",
              "      <th>Embarked</th>\n",
              "      <th>Survived</th>\n",
              "    </tr>\n",
              "  </thead>\n",
              "  <tbody>\n",
              "    <tr>\n",
              "      <th>0</th>\n",
              "      <td>C</td>\n",
              "      <td>0.553533</td>\n",
              "    </tr>\n",
              "    <tr>\n",
              "      <th>1</th>\n",
              "      <td>Q</td>\n",
              "      <td>0.389642</td>\n",
              "    </tr>\n",
              "    <tr>\n",
              "      <th>2</th>\n",
              "      <td>S</td>\n",
              "      <td>0.339005</td>\n",
              "    </tr>\n",
              "  </tbody>\n",
              "</table>\n",
              "</div>"
            ],
            "application/vnd.google.colaboratory.intrinsic+json": {
              "type": "dataframe",
              "summary": "{\n  \"name\": \"train_df[['Embarked', 'Survived']]\",\n  \"rows\": 3,\n  \"fields\": [\n    {\n      \"column\": \"Embarked\",\n      \"properties\": {\n        \"dtype\": \"string\",\n        \"num_unique_values\": 3,\n        \"samples\": [\n          \"C\",\n          \"Q\",\n          \"S\"\n        ],\n        \"semantic_type\": \"\",\n        \"description\": \"\"\n      }\n    },\n    {\n      \"column\": \"Survived\",\n      \"properties\": {\n        \"dtype\": \"number\",\n        \"std\": 0.1121356458705958,\n        \"min\": 0.339004838433826,\n        \"max\": 0.5535325034871572,\n        \"num_unique_values\": 3,\n        \"samples\": [\n          0.5535325034871572,\n          0.3896416463210025,\n          0.339004838433826\n        ],\n        \"semantic_type\": \"\",\n        \"description\": \"\"\n      }\n    }\n  ]\n}"
            }
          },
          "metadata": {},
          "execution_count": 24
        }
      ],
      "source": [
        "for dataset in combine:\n",
        "    dataset['Embarked'] = dataset['Embarked'].fillna(freq_port)\n",
        "\n",
        "train_df[['Embarked', 'Survived']].groupby(['Embarked'], as_index=False).mean().sort_values(by='Survived', ascending=False)"
      ]
    },
    {
      "cell_type": "markdown",
      "metadata": {
        "id": "vCjR5pMTsvbN"
      },
      "source": [
        "Convert the categorical 'Embarked' feature into numeric"
      ]
    },
    {
      "cell_type": "code",
      "execution_count": 25,
      "metadata": {
        "colab": {
          "base_uri": "https://localhost:8080/",
          "height": 206
        },
        "id": "qd73f_0XsvbN",
        "outputId": "64ba39af-6b17-4d2b-ac91-4928e616e851"
      },
      "outputs": [
        {
          "output_type": "execute_result",
          "data": {
            "text/plain": [
              "   Survived  Pclass  Sex  Age     Fare  Embarked  Title  IsAlone  Age*Class\n",
              "0         0       3    0    1   7.2500         0      1        0          3\n",
              "1         1       1    1    2  71.2833         1      3        0          2\n",
              "2         1       3    1    1   7.9250         0      2        1          3\n",
              "3         1       1    1    2  53.1000         0      3        0          2\n",
              "4         0       3    0    2   8.0500         0      1        1          6"
            ],
            "text/html": [
              "<div>\n",
              "<style scoped>\n",
              "    .dataframe tbody tr th:only-of-type {\n",
              "        vertical-align: middle;\n",
              "    }\n",
              "\n",
              "    .dataframe tbody tr th {\n",
              "        vertical-align: top;\n",
              "    }\n",
              "\n",
              "    .dataframe thead th {\n",
              "        text-align: right;\n",
              "    }\n",
              "</style>\n",
              "<table border=\"1\" class=\"dataframe\">\n",
              "  <thead>\n",
              "    <tr style=\"text-align: right;\">\n",
              "      <th></th>\n",
              "      <th>Survived</th>\n",
              "      <th>Pclass</th>\n",
              "      <th>Sex</th>\n",
              "      <th>Age</th>\n",
              "      <th>Fare</th>\n",
              "      <th>Embarked</th>\n",
              "      <th>Title</th>\n",
              "      <th>IsAlone</th>\n",
              "      <th>Age*Class</th>\n",
              "    </tr>\n",
              "  </thead>\n",
              "  <tbody>\n",
              "    <tr>\n",
              "      <th>0</th>\n",
              "      <td>0</td>\n",
              "      <td>3</td>\n",
              "      <td>0</td>\n",
              "      <td>1</td>\n",
              "      <td>7.2500</td>\n",
              "      <td>0</td>\n",
              "      <td>1</td>\n",
              "      <td>0</td>\n",
              "      <td>3</td>\n",
              "    </tr>\n",
              "    <tr>\n",
              "      <th>1</th>\n",
              "      <td>1</td>\n",
              "      <td>1</td>\n",
              "      <td>1</td>\n",
              "      <td>2</td>\n",
              "      <td>71.2833</td>\n",
              "      <td>1</td>\n",
              "      <td>3</td>\n",
              "      <td>0</td>\n",
              "      <td>2</td>\n",
              "    </tr>\n",
              "    <tr>\n",
              "      <th>2</th>\n",
              "      <td>1</td>\n",
              "      <td>3</td>\n",
              "      <td>1</td>\n",
              "      <td>1</td>\n",
              "      <td>7.9250</td>\n",
              "      <td>0</td>\n",
              "      <td>2</td>\n",
              "      <td>1</td>\n",
              "      <td>3</td>\n",
              "    </tr>\n",
              "    <tr>\n",
              "      <th>3</th>\n",
              "      <td>1</td>\n",
              "      <td>1</td>\n",
              "      <td>1</td>\n",
              "      <td>2</td>\n",
              "      <td>53.1000</td>\n",
              "      <td>0</td>\n",
              "      <td>3</td>\n",
              "      <td>0</td>\n",
              "      <td>2</td>\n",
              "    </tr>\n",
              "    <tr>\n",
              "      <th>4</th>\n",
              "      <td>0</td>\n",
              "      <td>3</td>\n",
              "      <td>0</td>\n",
              "      <td>2</td>\n",
              "      <td>8.0500</td>\n",
              "      <td>0</td>\n",
              "      <td>1</td>\n",
              "      <td>1</td>\n",
              "      <td>6</td>\n",
              "    </tr>\n",
              "  </tbody>\n",
              "</table>\n",
              "</div>"
            ],
            "application/vnd.google.colaboratory.intrinsic+json": {
              "type": "dataframe",
              "variable_name": "train_df"
            }
          },
          "metadata": {},
          "execution_count": 25
        }
      ],
      "source": [
        "for dataset in combine:\n",
        "    dataset['Embarked'] = dataset['Embarked'].map( {'S': 0, 'C': 1, 'Q': 2} ).astype(int)\n",
        "\n",
        "train_df.head()"
      ]
    },
    {
      "cell_type": "markdown",
      "metadata": {
        "id": "wa3vBh56svbO"
      },
      "source": [
        "Round off the fare to two decimals as it represents currency"
      ]
    },
    {
      "cell_type": "code",
      "execution_count": 26,
      "metadata": {
        "colab": {
          "base_uri": "https://localhost:8080/",
          "height": 206
        },
        "id": "5ZKjK5VUsvbO",
        "outputId": "2880e709-f9a6-445e-ad44-d2a78cf8d159"
      },
      "outputs": [
        {
          "output_type": "execute_result",
          "data": {
            "text/plain": [
              "   PassengerId  Pclass  Sex  Age     Fare  Embarked  Title  IsAlone  Age*Class\n",
              "0          892       3    0    2   7.8292         2      1        1          6\n",
              "1          893       3    1    2   7.0000         0      3        0          6\n",
              "2          894       2    0    3   9.6875         2      1        1          6\n",
              "3          895       3    0    1   8.6625         0      1        1          3\n",
              "4          896       3    1    1  12.2875         0      3        0          3"
            ],
            "text/html": [
              "<div>\n",
              "<style scoped>\n",
              "    .dataframe tbody tr th:only-of-type {\n",
              "        vertical-align: middle;\n",
              "    }\n",
              "\n",
              "    .dataframe tbody tr th {\n",
              "        vertical-align: top;\n",
              "    }\n",
              "\n",
              "    .dataframe thead th {\n",
              "        text-align: right;\n",
              "    }\n",
              "</style>\n",
              "<table border=\"1\" class=\"dataframe\">\n",
              "  <thead>\n",
              "    <tr style=\"text-align: right;\">\n",
              "      <th></th>\n",
              "      <th>PassengerId</th>\n",
              "      <th>Pclass</th>\n",
              "      <th>Sex</th>\n",
              "      <th>Age</th>\n",
              "      <th>Fare</th>\n",
              "      <th>Embarked</th>\n",
              "      <th>Title</th>\n",
              "      <th>IsAlone</th>\n",
              "      <th>Age*Class</th>\n",
              "    </tr>\n",
              "  </thead>\n",
              "  <tbody>\n",
              "    <tr>\n",
              "      <th>0</th>\n",
              "      <td>892</td>\n",
              "      <td>3</td>\n",
              "      <td>0</td>\n",
              "      <td>2</td>\n",
              "      <td>7.8292</td>\n",
              "      <td>2</td>\n",
              "      <td>1</td>\n",
              "      <td>1</td>\n",
              "      <td>6</td>\n",
              "    </tr>\n",
              "    <tr>\n",
              "      <th>1</th>\n",
              "      <td>893</td>\n",
              "      <td>3</td>\n",
              "      <td>1</td>\n",
              "      <td>2</td>\n",
              "      <td>7.0000</td>\n",
              "      <td>0</td>\n",
              "      <td>3</td>\n",
              "      <td>0</td>\n",
              "      <td>6</td>\n",
              "    </tr>\n",
              "    <tr>\n",
              "      <th>2</th>\n",
              "      <td>894</td>\n",
              "      <td>2</td>\n",
              "      <td>0</td>\n",
              "      <td>3</td>\n",
              "      <td>9.6875</td>\n",
              "      <td>2</td>\n",
              "      <td>1</td>\n",
              "      <td>1</td>\n",
              "      <td>6</td>\n",
              "    </tr>\n",
              "    <tr>\n",
              "      <th>3</th>\n",
              "      <td>895</td>\n",
              "      <td>3</td>\n",
              "      <td>0</td>\n",
              "      <td>1</td>\n",
              "      <td>8.6625</td>\n",
              "      <td>0</td>\n",
              "      <td>1</td>\n",
              "      <td>1</td>\n",
              "      <td>3</td>\n",
              "    </tr>\n",
              "    <tr>\n",
              "      <th>4</th>\n",
              "      <td>896</td>\n",
              "      <td>3</td>\n",
              "      <td>1</td>\n",
              "      <td>1</td>\n",
              "      <td>12.2875</td>\n",
              "      <td>0</td>\n",
              "      <td>3</td>\n",
              "      <td>0</td>\n",
              "      <td>3</td>\n",
              "    </tr>\n",
              "  </tbody>\n",
              "</table>\n",
              "</div>"
            ],
            "application/vnd.google.colaboratory.intrinsic+json": {
              "type": "dataframe",
              "variable_name": "test_df"
            }
          },
          "metadata": {},
          "execution_count": 26
        }
      ],
      "source": [
        "test_df['Fare'].fillna(test_df['Fare'].dropna().median(), inplace=True)\n",
        "test_df.head()"
      ]
    },
    {
      "cell_type": "markdown",
      "metadata": {
        "id": "cZPndo8bsvbO"
      },
      "source": [
        "Create 'FareBand' feature. It might take slightly longer time to execute the below code block."
      ]
    },
    {
      "cell_type": "code",
      "execution_count": 27,
      "metadata": {
        "colab": {
          "base_uri": "https://localhost:8080/",
          "height": 175
        },
        "id": "58s51omEsvbO",
        "outputId": "3ad94aa1-1448-46cb-9354-9dfab1b2a8d9"
      },
      "outputs": [
        {
          "output_type": "execute_result",
          "data": {
            "text/plain": [
              "          FareBand  Survived\n",
              "0     (0.0, 7.896]  0.206753\n",
              "1   (14.454, 31.0]  0.454943\n",
              "2  (31.0, 512.329]  0.581045\n",
              "3  (7.896, 14.454]  0.303565"
            ],
            "text/html": [
              "<div>\n",
              "<style scoped>\n",
              "    .dataframe tbody tr th:only-of-type {\n",
              "        vertical-align: middle;\n",
              "    }\n",
              "\n",
              "    .dataframe tbody tr th {\n",
              "        vertical-align: top;\n",
              "    }\n",
              "\n",
              "    .dataframe thead th {\n",
              "        text-align: right;\n",
              "    }\n",
              "</style>\n",
              "<table border=\"1\" class=\"dataframe\">\n",
              "  <thead>\n",
              "    <tr style=\"text-align: right;\">\n",
              "      <th></th>\n",
              "      <th>FareBand</th>\n",
              "      <th>Survived</th>\n",
              "    </tr>\n",
              "  </thead>\n",
              "  <tbody>\n",
              "    <tr>\n",
              "      <th>0</th>\n",
              "      <td>(0.0, 7.896]</td>\n",
              "      <td>0.206753</td>\n",
              "    </tr>\n",
              "    <tr>\n",
              "      <th>1</th>\n",
              "      <td>(14.454, 31.0]</td>\n",
              "      <td>0.454943</td>\n",
              "    </tr>\n",
              "    <tr>\n",
              "      <th>2</th>\n",
              "      <td>(31.0, 512.329]</td>\n",
              "      <td>0.581045</td>\n",
              "    </tr>\n",
              "    <tr>\n",
              "      <th>3</th>\n",
              "      <td>(7.896, 14.454]</td>\n",
              "      <td>0.303565</td>\n",
              "    </tr>\n",
              "  </tbody>\n",
              "</table>\n",
              "</div>"
            ],
            "application/vnd.google.colaboratory.intrinsic+json": {
              "type": "dataframe",
              "summary": "{\n  \"name\": \"train_df[['FareBand', 'Survived']]\",\n  \"rows\": 4,\n  \"fields\": [\n    {\n      \"column\": \"FareBand\",\n      \"properties\": {\n        \"dtype\": \"string\",\n        \"num_unique_values\": 4,\n        \"samples\": [\n          \"(7.896, 14.454]\",\n          \"(0.0, 7.896]\",\n          \"(14.454, 31.0]\"\n        ],\n        \"semantic_type\": \"\",\n        \"description\": \"\"\n      }\n    },\n    {\n      \"column\": \"Survived\",\n      \"properties\": {\n        \"dtype\": \"number\",\n        \"std\": 0.16504466882724936,\n        \"min\": 0.2067528261716993,\n        \"max\": 0.5810445790337664,\n        \"num_unique_values\": 4,\n        \"samples\": [\n          0.3035651070566288,\n          0.2067528261716993,\n          0.45494278799651633\n        ],\n        \"semantic_type\": \"\",\n        \"description\": \"\"\n      }\n    }\n  ]\n}"
            }
          },
          "metadata": {},
          "execution_count": 27
        }
      ],
      "source": [
        "num_bins = 4\n",
        "quantiles = cp.percentile(cp.array(train_df['Fare']), q=cp.linspace(0, 100, num_bins + 1))\n",
        "bin_indices = cp.digitize(cp.array(train_df['Fare']), bins=quantiles, right=True) - 1\n",
        "labels = [f\"({cp.round(quantiles[i], 3)}, {cp.round(quantiles[i+1], 3)}]\" for i in range(0, num_bins)]\n",
        "train_df['FareBand'] = pd.Series([labels[int(i)] if 0 <= i < len(labels) else None for i in bin_indices])\n",
        "train_df[['FareBand', 'Survived']].groupby(['FareBand'], as_index=False).mean().sort_values(by='FareBand', ascending=True)"
      ]
    },
    {
      "cell_type": "markdown",
      "metadata": {
        "id": "E5xaBmDasvbO"
      },
      "source": [
        "Convert the 'Fare' feature to ordinal values based on the 'FareBand'"
      ]
    },
    {
      "cell_type": "code",
      "execution_count": 28,
      "metadata": {
        "colab": {
          "base_uri": "https://localhost:8080/",
          "height": 363
        },
        "id": "mjIiUvkdsvbO",
        "outputId": "bb10aa67-2613-4464-9b20-78c45a7dbad6"
      },
      "outputs": [
        {
          "output_type": "execute_result",
          "data": {
            "text/plain": [
              "   Survived  Pclass  Sex  Age  Fare  Embarked  Title  IsAlone  Age*Class\n",
              "0         0       3    0    1     0         0      1        0          3\n",
              "1         1       1    1    2     3         1      3        0          2\n",
              "2         1       3    1    1     1         0      2        1          3\n",
              "3         1       1    1    2     3         0      3        0          2\n",
              "4         0       3    0    2     1         0      1        1          6\n",
              "5         0       3    0    1     1         2      1        1          3\n",
              "6         0       1    0    3     3         0      1        1          3\n",
              "7         0       3    0    0     2         0      4        0          0\n",
              "8         1       3    1    1     1         0      3        0          3\n",
              "9         1       2    1    0     2         1      3        0          0"
            ],
            "text/html": [
              "<div>\n",
              "<style scoped>\n",
              "    .dataframe tbody tr th:only-of-type {\n",
              "        vertical-align: middle;\n",
              "    }\n",
              "\n",
              "    .dataframe tbody tr th {\n",
              "        vertical-align: top;\n",
              "    }\n",
              "\n",
              "    .dataframe thead th {\n",
              "        text-align: right;\n",
              "    }\n",
              "</style>\n",
              "<table border=\"1\" class=\"dataframe\">\n",
              "  <thead>\n",
              "    <tr style=\"text-align: right;\">\n",
              "      <th></th>\n",
              "      <th>Survived</th>\n",
              "      <th>Pclass</th>\n",
              "      <th>Sex</th>\n",
              "      <th>Age</th>\n",
              "      <th>Fare</th>\n",
              "      <th>Embarked</th>\n",
              "      <th>Title</th>\n",
              "      <th>IsAlone</th>\n",
              "      <th>Age*Class</th>\n",
              "    </tr>\n",
              "  </thead>\n",
              "  <tbody>\n",
              "    <tr>\n",
              "      <th>0</th>\n",
              "      <td>0</td>\n",
              "      <td>3</td>\n",
              "      <td>0</td>\n",
              "      <td>1</td>\n",
              "      <td>0</td>\n",
              "      <td>0</td>\n",
              "      <td>1</td>\n",
              "      <td>0</td>\n",
              "      <td>3</td>\n",
              "    </tr>\n",
              "    <tr>\n",
              "      <th>1</th>\n",
              "      <td>1</td>\n",
              "      <td>1</td>\n",
              "      <td>1</td>\n",
              "      <td>2</td>\n",
              "      <td>3</td>\n",
              "      <td>1</td>\n",
              "      <td>3</td>\n",
              "      <td>0</td>\n",
              "      <td>2</td>\n",
              "    </tr>\n",
              "    <tr>\n",
              "      <th>2</th>\n",
              "      <td>1</td>\n",
              "      <td>3</td>\n",
              "      <td>1</td>\n",
              "      <td>1</td>\n",
              "      <td>1</td>\n",
              "      <td>0</td>\n",
              "      <td>2</td>\n",
              "      <td>1</td>\n",
              "      <td>3</td>\n",
              "    </tr>\n",
              "    <tr>\n",
              "      <th>3</th>\n",
              "      <td>1</td>\n",
              "      <td>1</td>\n",
              "      <td>1</td>\n",
              "      <td>2</td>\n",
              "      <td>3</td>\n",
              "      <td>0</td>\n",
              "      <td>3</td>\n",
              "      <td>0</td>\n",
              "      <td>2</td>\n",
              "    </tr>\n",
              "    <tr>\n",
              "      <th>4</th>\n",
              "      <td>0</td>\n",
              "      <td>3</td>\n",
              "      <td>0</td>\n",
              "      <td>2</td>\n",
              "      <td>1</td>\n",
              "      <td>0</td>\n",
              "      <td>1</td>\n",
              "      <td>1</td>\n",
              "      <td>6</td>\n",
              "    </tr>\n",
              "    <tr>\n",
              "      <th>5</th>\n",
              "      <td>0</td>\n",
              "      <td>3</td>\n",
              "      <td>0</td>\n",
              "      <td>1</td>\n",
              "      <td>1</td>\n",
              "      <td>2</td>\n",
              "      <td>1</td>\n",
              "      <td>1</td>\n",
              "      <td>3</td>\n",
              "    </tr>\n",
              "    <tr>\n",
              "      <th>6</th>\n",
              "      <td>0</td>\n",
              "      <td>1</td>\n",
              "      <td>0</td>\n",
              "      <td>3</td>\n",
              "      <td>3</td>\n",
              "      <td>0</td>\n",
              "      <td>1</td>\n",
              "      <td>1</td>\n",
              "      <td>3</td>\n",
              "    </tr>\n",
              "    <tr>\n",
              "      <th>7</th>\n",
              "      <td>0</td>\n",
              "      <td>3</td>\n",
              "      <td>0</td>\n",
              "      <td>0</td>\n",
              "      <td>2</td>\n",
              "      <td>0</td>\n",
              "      <td>4</td>\n",
              "      <td>0</td>\n",
              "      <td>0</td>\n",
              "    </tr>\n",
              "    <tr>\n",
              "      <th>8</th>\n",
              "      <td>1</td>\n",
              "      <td>3</td>\n",
              "      <td>1</td>\n",
              "      <td>1</td>\n",
              "      <td>1</td>\n",
              "      <td>0</td>\n",
              "      <td>3</td>\n",
              "      <td>0</td>\n",
              "      <td>3</td>\n",
              "    </tr>\n",
              "    <tr>\n",
              "      <th>9</th>\n",
              "      <td>1</td>\n",
              "      <td>2</td>\n",
              "      <td>1</td>\n",
              "      <td>0</td>\n",
              "      <td>2</td>\n",
              "      <td>1</td>\n",
              "      <td>3</td>\n",
              "      <td>0</td>\n",
              "      <td>0</td>\n",
              "    </tr>\n",
              "  </tbody>\n",
              "</table>\n",
              "</div>"
            ],
            "application/vnd.google.colaboratory.intrinsic+json": {
              "type": "dataframe",
              "variable_name": "train_df"
            }
          },
          "metadata": {},
          "execution_count": 28
        }
      ],
      "source": [
        "for dataset in combine:\n",
        "    dataset.loc[ dataset['Fare'] <= 7.91, 'Fare'] = 0\n",
        "    dataset.loc[(dataset['Fare'] > 7.91) & (dataset['Fare'] <= 14.454), 'Fare'] = 1\n",
        "    dataset.loc[(dataset['Fare'] > 14.454) & (dataset['Fare'] <= 31), 'Fare']   = 2\n",
        "    dataset.loc[ dataset['Fare'] > 31, 'Fare'] = 3\n",
        "    dataset['Fare'] = dataset['Fare'].astype(int)\n",
        "\n",
        "train_df = train_df.drop(['FareBand'], axis=1)\n",
        "combine = [train_df, test_df]\n",
        "\n",
        "train_df.head(10)"
      ]
    },
    {
      "cell_type": "markdown",
      "metadata": {
        "id": "9nbGCC5XsvbO"
      },
      "source": [
        "## Load Machine Learning Libaries"
      ]
    },
    {
      "cell_type": "markdown",
      "metadata": {
        "id": "NkcYeSrysvbO"
      },
      "source": [
        "cuML zero code change: The %load_ext cuml.accel magic enables transparent GPU acceleration by dynamically replacing supported scikit-learn estimators with their cuML equivalents. This allows zero-code-change acceleration for models like RandomForest, KNN, HDBSCAN, and UMAP, etc. in Jupyter environments."
      ]
    },
    {
      "cell_type": "markdown",
      "metadata": {
        "id": "Dckf-FA4svbO"
      },
      "source": [
        "Load the cuML libraries"
      ]
    },
    {
      "cell_type": "code",
      "execution_count": 29,
      "metadata": {
        "colab": {
          "base_uri": "https://localhost:8080/"
        },
        "id": "o0JTn6SAsvbO",
        "outputId": "bede328e-dadd-440d-d291-7048e73d4714"
      },
      "outputs": [
        {
          "output_type": "stream",
          "name": "stdout",
          "text": [
            "[2025-04-29 18:21:27.876] [CUML] [info] cuML: Installed accelerator for sklearn.\n",
            "[2025-04-29 18:21:53.173] [CUML] [info] cuML: Installed accelerator for umap.\n",
            "[2025-04-29 18:21:53.291] [CUML] [info] cuML: Installed accelerator for hdbscan.\n",
            "[2025-04-29 18:21:53.291] [CUML] [info] cuML: Successfully initialized accelerator.\n"
          ]
        }
      ],
      "source": [
        "%load_ext cuml.accel\n",
        "\n",
        "from sklearn.linear_model import LogisticRegression\n",
        "from sklearn.ensemble import RandomForestClassifier\n",
        "from sklearn.neighbors import KNeighborsClassifier\n",
        "from sklearn.model_selection import train_test_split, StratifiedKFold\n",
        "from sklearn.preprocessing import StandardScaler\n",
        "from sklearn.metrics import roc_auc_score, f1_score\n"
      ]
    },
    {
      "cell_type": "markdown",
      "source": [
        "## Data Preprocessing"
      ],
      "metadata": {
        "id": "WkXJBKDcvkzH"
      }
    },
    {
      "cell_type": "markdown",
      "metadata": {
        "id": "T8LbPC_8svbO"
      },
      "source": [
        "Identify dependent variables and independent variable"
      ]
    },
    {
      "cell_type": "code",
      "execution_count": 30,
      "metadata": {
        "colab": {
          "base_uri": "https://localhost:8080/"
        },
        "id": "6Xa41tUCsvbO",
        "outputId": "894317d7-e7cc-4dd0-c69f-5291b17729e9"
      },
      "outputs": [
        {
          "output_type": "execute_result",
          "data": {
            "text/plain": [
              "((1000000, 8), (1000000,), (1000000, 8))"
            ]
          },
          "metadata": {},
          "execution_count": 30
        }
      ],
      "source": [
        "X_train = train_df.drop(\"Survived\", axis=1)\n",
        "Y_train = train_df[\"Survived\"]\n",
        "X_test  = test_df.drop(\"PassengerId\", axis=1).copy()\n",
        "X_train.shape, Y_train.shape, X_test.shape"
      ]
    },
    {
      "cell_type": "markdown",
      "metadata": {
        "id": "bJKL2klKsvbO"
      },
      "source": [
        "Convert the datatype into 'float32'"
      ]
    },
    {
      "cell_type": "code",
      "execution_count": 31,
      "metadata": {
        "scrolled": true,
        "id": "Xl1Dc5_LsvbO"
      },
      "outputs": [],
      "source": [
        "X_train = X_train.astype('float32')\n",
        "Y_train = Y_train.astype('float32')\n",
        "X_test = X_test.astype('float32')"
      ]
    },
    {
      "cell_type": "markdown",
      "source": [
        "Split Train and Test Dataset"
      ],
      "metadata": {
        "id": "535E24hwv1pQ"
      }
    },
    {
      "cell_type": "code",
      "source": [
        "%%time\n",
        "# Assuming X and y are your dataset and target variable\n",
        "X_train_df, X_valid_df, y_train_df, y_valid_df = train_test_split(X_train, Y_train, test_size=0.2, random_state=42)\n",
        "\n",
        "# Feature scaling\n",
        "scaler = StandardScaler()\n",
        "X_train_scaled = scaler.fit_transform(X_train_df)\n",
        "X_valid_scaled = scaler.transform(X_valid_df)\n",
        "\n",
        "X_train_scaled = pd.DataFrame(X_train_scaled)\n",
        "X_valid_scaled = pd.DataFrame(X_valid_scaled)"
      ],
      "metadata": {
        "colab": {
          "base_uri": "https://localhost:8080/"
        },
        "id": "wDe82U_Cv9QU",
        "outputId": "08bd088e-1020-49ea-af3a-feb1a6fbafe8"
      },
      "execution_count": 32,
      "outputs": [
        {
          "output_type": "stream",
          "name": "stdout",
          "text": [
            "CPU times: user 1.04 s, sys: 543 ms, total: 1.58 s\n",
            "Wall time: 1.74 s\n"
          ]
        }
      ]
    },
    {
      "cell_type": "markdown",
      "metadata": {
        "id": "cGADptnesvbP"
      },
      "source": [
        "## Machine Learning (Single Trial)"
      ]
    },
    {
      "cell_type": "markdown",
      "metadata": {
        "id": "IpG08rIQsvbP"
      },
      "source": [
        "Logistic Regression"
      ]
    },
    {
      "cell_type": "code",
      "execution_count": null,
      "metadata": {
        "colab": {
          "base_uri": "https://localhost:8080/"
        },
        "id": "gktF6sgPsvbP",
        "outputId": "bffd75d5-aad8-4f60-c034-e0aee3121a59"
      },
      "outputs": [
        {
          "output_type": "stream",
          "name": "stdout",
          "text": [
            "CPU times: user 480 ms, sys: 191 ms, total: 671 ms\n",
            "Wall time: 670 ms\n"
          ]
        },
        {
          "output_type": "execute_result",
          "data": {
            "text/plain": [
              "array(80.36)"
            ]
          },
          "metadata": {},
          "execution_count": 34
        }
      ],
      "source": [
        "%%time\n",
        "# Logistic Regression\n",
        "\n",
        "logreg = LogisticRegression(tol = 1e-3)\n",
        "logreg.fit(X_train, Y_train)\n",
        "acc_log = cp.round(logreg.score(X_train, Y_train) * 100, 2)\n",
        "acc_log"
      ]
    },
    {
      "cell_type": "markdown",
      "metadata": {
        "id": "J9-B-f_9svbP"
      },
      "source": [
        "KNN"
      ]
    },
    {
      "cell_type": "code",
      "execution_count": null,
      "metadata": {
        "colab": {
          "base_uri": "https://localhost:8080/"
        },
        "id": "wHOLwRvFsvbP",
        "outputId": "cad5f825-0266-4337-cb77-d58ad144d56f"
      },
      "outputs": [
        {
          "output_type": "stream",
          "name": "stdout",
          "text": [
            "CPU times: user 26.8 s, sys: 176 ms, total: 27 s\n",
            "Wall time: 27 s\n"
          ]
        },
        {
          "output_type": "execute_result",
          "data": {
            "text/plain": [
              "array(84.96)"
            ]
          },
          "metadata": {},
          "execution_count": 35
        }
      ],
      "source": [
        "%%time\n",
        "# KNN\n",
        "\n",
        "knn = KNeighborsClassifier(n_neighbors = 3)\n",
        "knn.fit(X_train, Y_train)\n",
        "acc_knn = cp.round(knn.score(cp.asnumpy(X_train), cp.asnumpy(Y_train)) * 100, 2)\n",
        "acc_knn"
      ]
    },
    {
      "cell_type": "markdown",
      "metadata": {
        "id": "IhcvSmuosvbP"
      },
      "source": [
        "Random Forest"
      ]
    },
    {
      "cell_type": "code",
      "execution_count": null,
      "metadata": {
        "colab": {
          "base_uri": "https://localhost:8080/"
        },
        "id": "GFKAPpCGsvbP",
        "outputId": "69f03492-a4b3-4e3e-9135-c45ffa9d86ae"
      },
      "outputs": [
        {
          "output_type": "stream",
          "name": "stdout",
          "text": [
            "CPU times: user 4.09 s, sys: 1.91 s, total: 6.01 s\n",
            "Wall time: 3.34 s\n"
          ]
        },
        {
          "output_type": "execute_result",
          "data": {
            "text/plain": [
              "array(84.06)"
            ]
          },
          "metadata": {},
          "execution_count": 36
        }
      ],
      "source": [
        "%%time\n",
        "# Random Forest\n",
        "\n",
        "random_forest = RandomForestClassifier()\n",
        "random_forest.fit(X_train, Y_train)\n",
        "acc_random_forest = cp.round(random_forest.score(cp.asnumpy(X_train), cp.asnumpy(Y_train)) * 100, 2)\n",
        "acc_random_forest"
      ]
    },
    {
      "cell_type": "markdown",
      "metadata": {
        "id": "_4VNiLqTsvbP"
      },
      "source": [
        "## Ensemble Method - Stacking Generalization (1 Trial)"
      ]
    },
    {
      "cell_type": "code",
      "execution_count": 33,
      "metadata": {
        "id": "8FgzVuvTsvbP"
      },
      "outputs": [],
      "source": [
        "# Define base models (level-0 models)\n",
        "base_models = [\n",
        "    (\"logistic_regression\", LogisticRegression(tol=1e-3)), #80.36\n",
        "    (\"random_forest\", RandomForestClassifier()), #83.95\n",
        "    (\"k_nearest_neighbors\", KNeighborsClassifier(n_neighbors = 3)) #84.96\n",
        "]"
      ]
    },
    {
      "cell_type": "code",
      "execution_count": null,
      "metadata": {
        "colab": {
          "base_uri": "https://localhost:8080/"
        },
        "id": "Gx4NmBOEsvbP",
        "outputId": "3e235f00-2548-4438-b9b7-82caec2eadb1"
      },
      "outputs": [
        {
          "output_type": "stream",
          "name": "stdout",
          "text": [
            "Model name:  logistic_regression\n",
            "Model name:  random_forest\n",
            "Model name:  k_nearest_neighbors\n",
            "Model name:  logistic_regression\n",
            "Model name:  random_forest\n",
            "Model name:  k_nearest_neighbors\n"
          ]
        }
      ],
      "source": [
        "# Function to generate meta features for stacking\n",
        "def generate_meta_features(base_models, X, y, X_meta):\n",
        "    kfold = StratifiedKFold(n_splits=5, shuffle=True, random_state=42)\n",
        "    meta_features = cp.zeros((X_meta.shape[0], len(base_models)))\n",
        "\n",
        "    for i, (name, model) in enumerate(base_models):\n",
        "        meta_predictions = cp.zeros((X.shape[0],))\n",
        "        print(\"Model name: \", name)\n",
        "\n",
        "        for train_idx, val_idx in kfold.split(X, y):\n",
        "            model.fit(cp.array(X.iloc[train_idx]), cp.array(y.iloc[train_idx]))\n",
        "            predictions = model.predict(cp.array(X.iloc[val_idx]))\n",
        "\n",
        "            # Ensure predictions are 1D\n",
        "            meta_predictions[val_idx] = predictions.ravel()\n",
        "\n",
        "        # Train the model on the full dataset to predict meta features for test data\n",
        "        model.fit(cp.array(X), cp.array(y))\n",
        "\n",
        "        # Predict meta features for test data\n",
        "        predictions = model.predict(cp.array(X_meta))\n",
        "        meta_features[:, i] = cp.array(predictions).ravel()\n",
        "\n",
        "    return meta_features\n",
        "\n",
        "# Generate meta features for training and testing\n",
        "meta_train = generate_meta_features(base_models, X_train_scaled, y_train_df, X_train_scaled)\n",
        "meta_valid = generate_meta_features(base_models, X_train_scaled, y_train_df, X_valid_scaled)"
      ]
    },
    {
      "cell_type": "code",
      "execution_count": null,
      "metadata": {
        "colab": {
          "base_uri": "https://localhost:8080/"
        },
        "id": "T55WLwTPsvbP",
        "outputId": "26b9fb04-99b7-47ec-cd81-12b604e1549e"
      },
      "outputs": [
        {
          "output_type": "stream",
          "name": "stdout",
          "text": [
            "[2025-04-26 02:12:55.556] [CUML] [info] Unused keyword parameter: handle during CPU estimator initialization\n",
            "[2025-04-26 02:12:55.556] [CUML] [info] Unused keyword parameter: verbose during CPU estimator initialization\n",
            "[2025-04-26 02:12:55.556] [CUML] [info] Unused keyword parameter: output_type during CPU estimator initialization\n",
            "GPU Memory - Used: 1343.88 MB / Total: 15360.00 MB\n",
            "Stacking Model accuracy score: 85.24\n"
          ]
        }
      ],
      "source": [
        "# Define the meta-model (level-1 model)\n",
        "meta_model = KNeighborsClassifier()\n",
        "\n",
        "# Train the meta-model\n",
        "meta_model.fit(meta_train, y_train_df)\n",
        "\n",
        "# Make predictions with the meta-model\n",
        "Y_pred = meta_model.predict(meta_valid)\n",
        "\n",
        "# Evaluate the performance\n",
        "acc_meta = cp.round(meta_model.score(meta_valid, y_valid_df) * 100, 2)\n",
        "print(f\"Stacking Model accuracy score: {acc_meta}\")"
      ]
    },
    {
      "cell_type": "markdown",
      "metadata": {
        "id": "QoluKzHRsvbP"
      },
      "source": [
        "## Bar Chart (Single Trial)"
      ]
    },
    {
      "cell_type": "code",
      "execution_count": null,
      "metadata": {
        "colab": {
          "base_uri": "https://localhost:8080/",
          "height": 494
        },
        "id": "nrOqHhtXsvbP",
        "outputId": "b1d35552-9e19-4245-b77f-f2074f3dc5cc"
      },
      "outputs": [
        {
          "output_type": "display_data",
          "data": {
            "text/plain": [
              "<Figure size 800x500 with 1 Axes>"
            ],
            "image/png": "[encoded data removed]"
          },
          "metadata": {}
        }
      ],
      "source": [
        "import pandas as pd\n",
        "import matplotlib.pyplot as plt\n",
        "\n",
        "# Recreate the DataFrame from your image\n",
        "df = pd.DataFrame({\n",
        "    \"Logistic Regression\": [80.36],\n",
        "    \"Random Forest\": [83.95],\n",
        "    \"K-Nearest Neighbor (KNN)\": [84.96],\n",
        "    \"Stacking (KNN-meta)\": [85.24]\n",
        "})\n",
        "\n",
        "# Transpose the DataFrame to get model names as rows\n",
        "df_transposed = df.T.reset_index()\n",
        "df_transposed.columns = ['Model', 'Accuracy']\n",
        "\n",
        "# Set global font size\n",
        "plt.rcParams.update({\n",
        "    'font.size': 14,           # Base font size for everything\n",
        "    'axes.titlesize': 18,      # Title font size\n",
        "    'axes.labelsize': 16,      # X and Y label font size\n",
        "    'xtick.labelsize': 12,     # X tick labels\n",
        "    'ytick.labelsize': 12,     # Y tick labels\n",
        "    'legend.fontsize': 12,     # Legend text\n",
        "})\n",
        "\n",
        "# Plotting\n",
        "plt.figure(figsize=(8, 5))\n",
        "nvidia_green = \"#76B900\"\n",
        "bars = plt.bar(df_transposed['Model'], df_transposed['Accuracy'], color=nvidia_green, width = 0.35)\n",
        "\n",
        "# Format y-axis as percentages\n",
        "plt.ylabel(\"Accuracy (%)\")\n",
        "plt.ylim(77, 90)\n",
        "plt.yticks(ticks=range(77, 91), labels=[f\"{i}.00\" for i in range(77, 91)])\n",
        "\n",
        "# Add labels on top of bars\n",
        "for bar in bars:\n",
        "    height = bar.get_height()\n",
        "    plt.text(bar.get_x() + bar.get_width() / 2, height + 0.3, f\"{height:.2f}\", ha='center')\n",
        "\n",
        "plt.xticks(rotation=10)\n",
        "plt.title(\"Model Accuracy Comparison\")\n",
        "plt.tight_layout()\n",
        "plt.show()\n"
      ]
    },
    {
      "cell_type": "markdown",
      "metadata": {
        "id": "ho4ki4SusvbQ"
      },
      "source": [
        "## Hyperparameter Optimization (HPO)\n",
        "\n",
        "Before you perform HPO, you need to 'pip install optuna'"
      ]
    },
    {
      "cell_type": "code",
      "execution_count": null,
      "metadata": {
        "id": "tZPKOkNLsvbQ"
      },
      "outputs": [],
      "source": [
        "import optuna"
      ]
    },
    {
      "cell_type": "markdown",
      "metadata": {
        "id": "ginOK_n5svbQ"
      },
      "source": [
        "Logistic Regression"
      ]
    },
    {
      "cell_type": "code",
      "execution_count": null,
      "metadata": {
        "scrolled": true,
        "colab": {
          "base_uri": "https://localhost:8080/"
        },
        "id": "gktW8SBYsvbQ",
        "outputId": "f816af73-d87b-4e64-f0b0-4cbac8bf7c70"
      },
      "outputs": [
        {
          "output_type": "stream",
          "name": "stderr",
          "text": [
            "[I 2025-04-26 02:13:10,376] A new study created in memory with name: optuna_logistic_acc_score\n",
            "[I 2025-04-26 02:13:12,637] Trial 0 finished with value: 80.45 and parameters: {'C': 40.573838784392514, 'penalty': 'l2'}. Best is trial 0 with value: 80.45.\n",
            "[I 2025-04-26 02:13:13,479] Trial 1 finished with value: 80.33 and parameters: {'C': 21.37399242249849, 'penalty': 'l1'}. Best is trial 0 with value: 80.45.\n",
            "[I 2025-04-26 02:13:14,156] Trial 2 finished with value: 80.33 and parameters: {'C': 12.183061292316713, 'penalty': 'l1'}. Best is trial 0 with value: 80.45.\n",
            "[I 2025-04-26 02:13:14,671] Trial 3 finished with value: 80.33 and parameters: {'C': 13.632436400440351, 'penalty': 'l1'}. Best is trial 0 with value: 80.45.\n",
            "[I 2025-04-26 02:13:15,067] Trial 4 finished with value: 80.33 and parameters: {'C': 0.028870434982716877, 'penalty': 'l2'}. Best is trial 0 with value: 80.45.\n",
            "[I 2025-04-26 02:13:15,658] Trial 5 finished with value: 80.33 and parameters: {'C': 32.44959970083975, 'penalty': 'l1'}. Best is trial 0 with value: 80.45.\n",
            "[I 2025-04-26 02:13:16,212] Trial 6 finished with value: 80.33 and parameters: {'C': 67.82426496348721, 'penalty': 'l1'}. Best is trial 0 with value: 80.45.\n",
            "[I 2025-04-26 02:13:16,736] Trial 7 finished with value: 80.33 and parameters: {'C': 31.806335520696464, 'penalty': 'l1'}. Best is trial 0 with value: 80.45.\n",
            "[I 2025-04-26 02:13:17,209] Trial 8 finished with value: 80.45 and parameters: {'C': 6.682974952480256, 'penalty': 'l2'}. Best is trial 0 with value: 80.45.\n",
            "[I 2025-04-26 02:13:17,802] Trial 9 finished with value: 80.45 and parameters: {'C': 65.52844955798805, 'penalty': 'l2'}. Best is trial 0 with value: 80.45.\n",
            "[I 2025-04-26 02:13:18,380] Trial 10 finished with value: 80.45 and parameters: {'C': 8.671643486036658, 'penalty': 'l2'}. Best is trial 0 with value: 80.45.\n",
            "[I 2025-04-26 02:13:19,100] Trial 11 finished with value: 80.45 and parameters: {'C': 2.060733366962903, 'penalty': 'l2'}. Best is trial 0 with value: 80.45.\n",
            "[I 2025-04-26 02:13:19,797] Trial 12 finished with value: 80.33 and parameters: {'C': 62.07908649203104, 'penalty': 'l1'}. Best is trial 0 with value: 80.45.\n",
            "[I 2025-04-26 02:13:20,472] Trial 13 finished with value: 80.45 and parameters: {'C': 0.16058693146283298, 'penalty': 'l2'}. Best is trial 0 with value: 80.45.\n",
            "[I 2025-04-26 02:13:21,194] Trial 14 finished with value: 80.33 and parameters: {'C': 47.85417225291647, 'penalty': 'l1'}. Best is trial 0 with value: 80.45.\n",
            "[I 2025-04-26 02:13:21,678] Trial 15 finished with value: 80.33 and parameters: {'C': 0.01026050139222121, 'penalty': 'l2'}. Best is trial 0 with value: 80.45.\n",
            "[I 2025-04-26 02:13:22,147] Trial 16 finished with value: 80.45 and parameters: {'C': 24.62172445059389, 'penalty': 'l2'}. Best is trial 0 with value: 80.45.\n",
            "[I 2025-04-26 02:13:22,688] Trial 17 finished with value: 80.45 and parameters: {'C': 0.7011308780811453, 'penalty': 'l2'}. Best is trial 0 with value: 80.45.\n",
            "[I 2025-04-26 02:13:23,224] Trial 18 finished with value: 80.33 and parameters: {'C': 0.016563514153876663, 'penalty': 'l1'}. Best is trial 0 with value: 80.45.\n",
            "[I 2025-04-26 02:13:24,032] Trial 19 finished with value: 80.45 and parameters: {'C': 0.0907940664035744, 'penalty': 'l2'}. Best is trial 0 with value: 80.45.\n",
            "[I 2025-04-26 02:13:25,502] Trial 20 finished with value: 80.45 and parameters: {'C': 1.9565996610235368, 'penalty': 'l2'}. Best is trial 0 with value: 80.45.\n",
            "[I 2025-04-26 02:13:26,421] Trial 21 finished with value: 80.45 and parameters: {'C': 12.327011681574112, 'penalty': 'l2'}. Best is trial 0 with value: 80.45.\n",
            "[I 2025-04-26 02:13:26,921] Trial 22 finished with value: 80.45 and parameters: {'C': 0.45332833061002575, 'penalty': 'l2'}. Best is trial 0 with value: 80.45.\n",
            "[I 2025-04-26 02:13:27,432] Trial 23 finished with value: 80.45 and parameters: {'C': 0.11299308217216476, 'penalty': 'l1'}. Best is trial 0 with value: 80.45.\n",
            "[I 2025-04-26 02:13:28,027] Trial 24 finished with value: 80.33 and parameters: {'C': 0.08953021946554465, 'penalty': 'l1'}. Best is trial 0 with value: 80.45.\n",
            "[I 2025-04-26 02:13:28,892] Trial 25 finished with value: 80.33 and parameters: {'C': 0.44986334166475306, 'penalty': 'l1'}. Best is trial 0 with value: 80.45.\n",
            "[I 2025-04-26 02:13:29,539] Trial 26 finished with value: 80.45 and parameters: {'C': 0.1641885332685076, 'penalty': 'l2'}. Best is trial 0 with value: 80.45.\n",
            "[I 2025-04-26 02:13:30,042] Trial 27 finished with value: 80.33 and parameters: {'C': 0.5728716641374204, 'penalty': 'l1'}. Best is trial 0 with value: 80.45.\n",
            "[I 2025-04-26 02:13:30,661] Trial 28 finished with value: 80.33 and parameters: {'C': 0.01908924079586446, 'penalty': 'l1'}. Best is trial 0 with value: 80.45.\n",
            "[I 2025-04-26 02:13:31,095] Trial 29 finished with value: 80.33 and parameters: {'C': 0.02021555013643161, 'penalty': 'l2'}. Best is trial 0 with value: 80.45.\n",
            "[I 2025-04-26 02:13:31,540] Trial 30 finished with value: 80.33 and parameters: {'C': 0.03547472699445343, 'penalty': 'l2'}. Best is trial 0 with value: 80.45.\n",
            "[I 2025-04-26 02:13:32,106] Trial 31 finished with value: 80.33 and parameters: {'C': 0.021978330884769207, 'penalty': 'l1'}. Best is trial 0 with value: 80.45.\n",
            "[I 2025-04-26 02:13:32,426] Trial 32 finished with value: 80.45 and parameters: {'C': 0.6383960341873212, 'penalty': 'l2'}. Best is trial 0 with value: 80.45.\n",
            "[I 2025-04-26 02:13:32,740] Trial 33 finished with value: 80.45 and parameters: {'C': 2.136230985199519, 'penalty': 'l2'}. Best is trial 0 with value: 80.45.\n",
            "[I 2025-04-26 02:13:33,065] Trial 34 finished with value: 80.33 and parameters: {'C': 0.013687016556795915, 'penalty': 'l2'}. Best is trial 0 with value: 80.45.\n",
            "[I 2025-04-26 02:13:33,390] Trial 35 finished with value: 80.45 and parameters: {'C': 1.477280218532871, 'penalty': 'l2'}. Best is trial 0 with value: 80.45.\n",
            "[I 2025-04-26 02:13:33,785] Trial 36 finished with value: 80.33 and parameters: {'C': 19.34030686986422, 'penalty': 'l1'}. Best is trial 0 with value: 80.45.\n",
            "[I 2025-04-26 02:13:34,145] Trial 37 finished with value: 80.33 and parameters: {'C': 0.33905219964966066, 'penalty': 'l1'}. Best is trial 0 with value: 80.45.\n",
            "[I 2025-04-26 02:13:34,468] Trial 38 finished with value: 80.45 and parameters: {'C': 1.4300402540653756, 'penalty': 'l2'}. Best is trial 0 with value: 80.45.\n",
            "[I 2025-04-26 02:13:34,782] Trial 39 finished with value: 80.45 and parameters: {'C': 1.160190818773224, 'penalty': 'l2'}. Best is trial 0 with value: 80.45.\n"
          ]
        },
        {
          "output_type": "stream",
          "name": "stdout",
          "text": [
            "Best params: {'C': 40.573838784392514, 'penalty': 'l2'}\n",
            "Best accuracy score: 80.45\n",
            "CPU times: user 15 s, sys: 878 ms, total: 15.9 s\n",
            "Wall time: 24.4 s\n"
          ]
        }
      ],
      "source": [
        "%%time\n",
        "\n",
        "# Define the model training and evaluation function\n",
        "def train_and_eval(C=1, penalty='l2'):\n",
        "    lr = LogisticRegression(C = C, penalty = penalty, max_iter = 20000, tol=1e-3)\n",
        "    lr.fit(X_train_scaled, y_train_df)\n",
        "    y_proba = lr.predict_proba(X_valid_scaled)[:, 1]\n",
        "\n",
        "    # Compute accuracy score\n",
        "    score = cp.round(lr.score(cp.asnumpy(X_valid_scaled), cp.asnumpy(y_valid_df)) * 100, 2)\n",
        "    return score\n",
        "\n",
        "# Define the Optuna objective function for hyperparameter tuning\n",
        "def objective(trial):\n",
        "    C = trial.suggest_float(\"C\", 1e-2, 1e2, log = True)\n",
        "    penalty = trial.suggest_categorical(\"penalty\", [\"l1\", \"l2\"])\n",
        "    return train_and_eval(C, penalty)\n",
        "\n",
        "# Create an Optuna study to maximize accuracy score\n",
        "lr_study = optuna.create_study(\n",
        "    direction=\"maximize\",\n",
        "    study_name=\"optuna_logistic_acc_score\",\n",
        "    sampler=optuna.samplers.RandomSampler(seed=142),\n",
        ")\n",
        "\n",
        "# Launch hyperparameter optimization with the defined objective\n",
        "lr_study.optimize(objective, n_trials=40)\n",
        "\n",
        "# Print the best hyperparameter set and its corresponding evaluation score\n",
        "print(f\"Best params: {lr_study.best_params}\")\n",
        "print(f\"Best accuracy score: {lr_study.best_value}\")\n"
      ]
    },
    {
      "cell_type": "markdown",
      "metadata": {
        "id": "REP4ZAwTsvbQ"
      },
      "source": [
        "Random Forest"
      ]
    },
    {
      "cell_type": "code",
      "execution_count": null,
      "metadata": {
        "scrolled": true,
        "colab": {
          "base_uri": "https://localhost:8080/"
        },
        "id": "tvldFZQWsvbQ",
        "outputId": "d80c071f-107a-4657-d42c-2b8c49355b0e"
      },
      "outputs": [
        {
          "output_type": "stream",
          "name": "stderr",
          "text": [
            "[I 2025-04-26 02:13:34,793] A new study created in memory with name: optuna_random_forest_acc_score\n",
            "[I 2025-04-26 02:13:56,810] Trial 0 finished with value: 85.92 and parameters: {'n_estimators': 461, 'max_features': 'log2', 'max_depth': 14}. Best is trial 0 with value: 85.92.\n",
            "[I 2025-04-26 02:14:03,804] Trial 1 finished with value: 85.72 and parameters: {'n_estimators': 180, 'max_features': 'log2', 'max_depth': 9}. Best is trial 0 with value: 85.92.\n",
            "[I 2025-04-26 02:14:12,189] Trial 2 finished with value: 83.45 and parameters: {'n_estimators': 254, 'max_features': 'log2', 'max_depth': 6}. Best is trial 0 with value: 85.92.\n",
            "[I 2025-04-26 02:14:18,097] Trial 3 finished with value: 85.95 and parameters: {'n_estimators': 146, 'max_features': 'log2', 'max_depth': 14}. Best is trial 3 with value: 85.95.\n",
            "[I 2025-04-26 02:14:32,224] Trial 4 finished with value: 85.95 and parameters: {'n_estimators': 346, 'max_features': 'log2', 'max_depth': 14}. Best is trial 3 with value: 85.95.\n",
            "[I 2025-04-26 02:14:43,998] Trial 5 finished with value: 80.62 and parameters: {'n_estimators': 410, 'max_features': 'sqrt', 'max_depth': 5}. Best is trial 3 with value: 85.95.\n",
            "[I 2025-04-26 02:14:59,612] Trial 6 finished with value: 85.95 and parameters: {'n_estimators': 383, 'max_features': 'log2', 'max_depth': 15}. Best is trial 3 with value: 85.95.\n",
            "[I 2025-04-26 02:15:10,857] Trial 7 finished with value: 85.95 and parameters: {'n_estimators': 290, 'max_features': 'log2', 'max_depth': 10}. Best is trial 3 with value: 85.95.\n",
            "[I 2025-04-26 02:15:24,773] Trial 8 finished with value: 84.0 and parameters: {'n_estimators': 398, 'max_features': 'sqrt', 'max_depth': 13}. Best is trial 3 with value: 85.95.\n",
            "[I 2025-04-26 02:15:40,578] Trial 9 finished with value: 83.88 and parameters: {'n_estimators': 480, 'max_features': 'sqrt', 'max_depth': 8}. Best is trial 3 with value: 85.95.\n",
            "[I 2025-04-26 02:15:44,153] Trial 10 finished with value: 84.0 and parameters: {'n_estimators': 101, 'max_features': 'sqrt', 'max_depth': 12}. Best is trial 3 with value: 85.95.\n",
            "[I 2025-04-26 02:15:52,899] Trial 11 finished with value: 85.95 and parameters: {'n_estimators': 218, 'max_features': 'log2', 'max_depth': 12}. Best is trial 3 with value: 85.95.\n",
            "[I 2025-04-26 02:16:06,785] Trial 12 finished with value: 85.95 and parameters: {'n_estimators': 339, 'max_features': 'log2', 'max_depth': 15}. Best is trial 3 with value: 85.95.\n",
            "[I 2025-04-26 02:16:11,558] Trial 13 finished with value: 85.95 and parameters: {'n_estimators': 118, 'max_features': 'log2', 'max_depth': 12}. Best is trial 3 with value: 85.95.\n",
            "[I 2025-04-26 02:16:24,142] Trial 14 finished with value: 85.95 and parameters: {'n_estimators': 314, 'max_features': 'log2', 'max_depth': 13}. Best is trial 3 with value: 85.95.\n",
            "[I 2025-04-26 02:16:30,978] Trial 15 finished with value: 85.95 and parameters: {'n_estimators': 170, 'max_features': 'log2', 'max_depth': 11}. Best is trial 3 with value: 85.95.\n",
            "[I 2025-04-26 02:16:41,515] Trial 16 finished with value: 85.95 and parameters: {'n_estimators': 261, 'max_features': 'log2', 'max_depth': 14}. Best is trial 3 with value: 85.95.\n",
            "[I 2025-04-26 02:16:55,818] Trial 17 finished with value: 85.95 and parameters: {'n_estimators': 350, 'max_features': 'log2', 'max_depth': 15}. Best is trial 3 with value: 85.95.\n",
            "[I 2025-04-26 02:17:02,374] Trial 18 finished with value: 84.0 and parameters: {'n_estimators': 188, 'max_features': 'sqrt', 'max_depth': 10}. Best is trial 3 with value: 85.95.\n",
            "[I 2025-04-26 02:17:07,520] Trial 19 finished with value: 84.48 and parameters: {'n_estimators': 142, 'max_features': 'log2', 'max_depth': 7}. Best is trial 3 with value: 85.95.\n",
            "[I 2025-04-26 02:17:25,056] Trial 20 finished with value: 85.95 and parameters: {'n_estimators': 439, 'max_features': 'log2', 'max_depth': 13}. Best is trial 3 with value: 85.95.\n",
            "[I 2025-04-26 02:17:40,679] Trial 21 finished with value: 85.95 and parameters: {'n_estimators': 374, 'max_features': 'log2', 'max_depth': 15}. Best is trial 3 with value: 85.95.\n",
            "[I 2025-04-26 02:17:53,518] Trial 22 finished with value: 85.95 and parameters: {'n_estimators': 307, 'max_features': 'log2', 'max_depth': 14}. Best is trial 3 with value: 85.95.\n",
            "[I 2025-04-26 02:18:08,904] Trial 23 finished with value: 85.95 and parameters: {'n_estimators': 373, 'max_features': 'log2', 'max_depth': 15}. Best is trial 3 with value: 85.95.\n",
            "[I 2025-04-26 02:18:26,372] Trial 24 finished with value: 85.95 and parameters: {'n_estimators': 430, 'max_features': 'log2', 'max_depth': 14}. Best is trial 3 with value: 85.95.\n",
            "[I 2025-04-26 02:18:35,872] Trial 25 finished with value: 85.95 and parameters: {'n_estimators': 236, 'max_features': 'log2', 'max_depth': 13}. Best is trial 3 with value: 85.95.\n",
            "[I 2025-04-26 02:18:47,655] Trial 26 finished with value: 84.0 and parameters: {'n_estimators': 344, 'max_features': 'sqrt', 'max_depth': 11}. Best is trial 3 with value: 85.95.\n",
            "[I 2025-04-26 02:18:58,958] Trial 27 finished with value: 85.95 and parameters: {'n_estimators': 280, 'max_features': 'log2', 'max_depth': 14}. Best is trial 3 with value: 85.95.\n",
            "[I 2025-04-26 02:19:14,895] Trial 28 finished with value: 85.95 and parameters: {'n_estimators': 389, 'max_features': 'log2', 'max_depth': 15}. Best is trial 3 with value: 85.95.\n",
            "[I 2025-04-26 02:19:35,205] Trial 29 finished with value: 85.92 and parameters: {'n_estimators': 498, 'max_features': 'log2', 'max_depth': 14}. Best is trial 3 with value: 85.95.\n",
            "[I 2025-04-26 02:19:52,702] Trial 30 finished with value: 85.95 and parameters: {'n_estimators': 443, 'max_features': 'log2', 'max_depth': 12}. Best is trial 3 with value: 85.95.\n",
            "[I 2025-04-26 02:20:03,744] Trial 31 finished with value: 85.95 and parameters: {'n_estimators': 288, 'max_features': 'log2', 'max_depth': 9}. Best is trial 3 with value: 85.95.\n",
            "[I 2025-04-26 02:20:16,246] Trial 32 finished with value: 85.95 and parameters: {'n_estimators': 327, 'max_features': 'log2', 'max_depth': 9}. Best is trial 3 with value: 85.95.\n",
            "[I 2025-04-26 02:20:24,558] Trial 33 finished with value: 85.95 and parameters: {'n_estimators': 209, 'max_features': 'log2', 'max_depth': 11}. Best is trial 3 with value: 85.95.\n",
            "[I 2025-04-26 02:20:38,897] Trial 34 finished with value: 85.95 and parameters: {'n_estimators': 369, 'max_features': 'log2', 'max_depth': 10}. Best is trial 3 with value: 85.95.\n",
            "[I 2025-04-26 02:20:54,321] Trial 35 finished with value: 85.5 and parameters: {'n_estimators': 419, 'max_features': 'log2', 'max_depth': 8}. Best is trial 3 with value: 85.95.\n",
            "[I 2025-04-26 02:21:04,085] Trial 36 finished with value: 84.0 and parameters: {'n_estimators': 278, 'max_features': 'sqrt', 'max_depth': 13}. Best is trial 3 with value: 85.95.\n",
            "[I 2025-04-26 02:21:18,053] Trial 37 finished with value: 83.0 and parameters: {'n_estimators': 464, 'max_features': 'log2', 'max_depth': 5}. Best is trial 3 with value: 85.95.\n",
            "[I 2025-04-26 02:21:23,257] Trial 38 finished with value: 84.0 and parameters: {'n_estimators': 148, 'max_features': 'sqrt', 'max_depth': 10}. Best is trial 3 with value: 85.95.\n",
            "[I 2025-04-26 02:21:38,448] Trial 39 finished with value: 85.95 and parameters: {'n_estimators': 399, 'max_features': 'log2', 'max_depth': 9}. Best is trial 3 with value: 85.95.\n"
          ]
        },
        {
          "output_type": "stream",
          "name": "stdout",
          "text": [
            "Best params: {'n_estimators': 146, 'max_features': 'log2', 'max_depth': 14}\n",
            "Best accuracy score: 85.95\n",
            "CPU times: user 5min 20s, sys: 2min 37s, total: 7min 57s\n",
            "Wall time: 8min 3s\n"
          ]
        }
      ],
      "source": [
        "%%time\n",
        "\n",
        "def train_and_eval(n_estimators=50, max_features='sqrt', max_depth='None'):\n",
        "    rf = RandomForestClassifier(n_estimators = n_estimators, max_features = max_features, max_depth = max_depth, random_state = 42)\n",
        "    rf.fit(X_train_scaled, y_train_df)\n",
        "    y_proba = rf.predict_proba(X_valid_scaled)[:, 1]\n",
        "    score = cp.round(rf.score(cp.asnumpy(X_valid_scaled), cp.asnumpy(y_valid_df)) * 100, 2)  # .get() to bring data back to CPU\n",
        "    return score\n",
        "\n",
        "def objective(trial):\n",
        "    n_estimators = trial.suggest_int(\"n_estimators\", 100, 500)\n",
        "    max_features = trial.suggest_categorical(\"max_features\", [\"sqrt\", \"log2\"])\n",
        "    max_depth = trial.suggest_int(\"max_depth\", 5, 15)\n",
        "    return train_and_eval(n_estimators, max_features, max_depth)\n",
        "\n",
        "rf_study = optuna.create_study(\n",
        "    direction=\"maximize\",\n",
        "    study_name=\"optuna_random_forest_acc_score\",\n",
        "    sampler=optuna.samplers.TPESampler(seed=142),\n",
        ")\n",
        "\n",
        "rf_study.optimize(objective, n_trials=40)\n",
        "\n",
        "print(f\"Best params: {rf_study.best_params}\")\n",
        "print(f\"Best accuracy score: {rf_study.best_value}\")\n"
      ]
    },
    {
      "cell_type": "markdown",
      "metadata": {
        "id": "ntEcZXR8svbQ"
      },
      "source": [
        "KNN"
      ]
    },
    {
      "cell_type": "code",
      "execution_count": null,
      "metadata": {
        "scrolled": true,
        "colab": {
          "base_uri": "https://localhost:8080/"
        },
        "id": "4MKnH1sOsvbQ",
        "outputId": "63459308-5fcd-4e08-f49d-ec9215236ce4"
      },
      "outputs": [
        {
          "output_type": "stream",
          "name": "stderr",
          "text": [
            "[I 2025-04-26 02:21:38,458] A new study created in memory with name: optuna_knn_acc_score\n",
            "[I 2025-04-26 02:21:47,941] Trial 0 finished with value: 86.55 and parameters: {'n_neighbors': 19, 'algorithm': 'kd_tree', 'p': 1}. Best is trial 0 with value: 86.55.\n",
            "[I 2025-04-26 02:21:57,420] Trial 1 finished with value: 86.53 and parameters: {'n_neighbors': 16, 'algorithm': 'brute', 'p': 1}. Best is trial 0 with value: 86.55.\n",
            "[I 2025-04-26 02:22:06,747] Trial 2 finished with value: 84.47 and parameters: {'n_neighbors': 3, 'algorithm': 'kd_tree', 'p': 1}. Best is trial 0 with value: 86.55.\n",
            "[I 2025-04-26 02:22:16,276] Trial 3 finished with value: 86.55 and parameters: {'n_neighbors': 20, 'algorithm': 'kd_tree', 'p': 1}. Best is trial 0 with value: 86.55.\n",
            "[I 2025-04-26 02:22:25,627] Trial 4 finished with value: 86.53 and parameters: {'n_neighbors': 15, 'algorithm': 'kd_tree', 'p': 2}. Best is trial 0 with value: 86.55.\n",
            "[I 2025-04-26 02:22:34,947] Trial 5 finished with value: 86.53 and parameters: {'n_neighbors': 15, 'algorithm': 'ball_tree', 'p': 2}. Best is trial 0 with value: 86.55.\n",
            "[I 2025-04-26 02:22:44,324] Trial 6 finished with value: 86.55 and parameters: {'n_neighbors': 19, 'algorithm': 'auto', 'p': 2}. Best is trial 0 with value: 86.55.\n",
            "[I 2025-04-26 02:22:53,691] Trial 7 finished with value: 86.55 and parameters: {'n_neighbors': 19, 'algorithm': 'auto', 'p': 1}. Best is trial 0 with value: 86.55.\n",
            "[I 2025-04-26 02:23:03,058] Trial 8 finished with value: 86.53 and parameters: {'n_neighbors': 17, 'algorithm': 'ball_tree', 'p': 1}. Best is trial 0 with value: 86.55.\n",
            "[I 2025-04-26 02:23:12,295] Trial 9 finished with value: 83.51 and parameters: {'n_neighbors': 2, 'algorithm': 'auto', 'p': 2}. Best is trial 0 with value: 86.55.\n",
            "[I 2025-04-26 02:23:21,643] Trial 10 finished with value: 86.55 and parameters: {'n_neighbors': 9, 'algorithm': 'brute', 'p': 1}. Best is trial 0 with value: 86.55.\n",
            "[I 2025-04-26 02:23:31,034] Trial 11 finished with value: 86.53 and parameters: {'n_neighbors': 11, 'algorithm': 'kd_tree', 'p': 1}. Best is trial 0 with value: 86.55.\n",
            "[I 2025-04-26 02:23:40,541] Trial 12 finished with value: 86.55 and parameters: {'n_neighbors': 20, 'algorithm': 'kd_tree', 'p': 1}. Best is trial 0 with value: 86.55.\n",
            "[I 2025-04-26 02:23:49,906] Trial 13 finished with value: 86.55 and parameters: {'n_neighbors': 12, 'algorithm': 'kd_tree', 'p': 1}. Best is trial 0 with value: 86.55.\n",
            "[I 2025-04-26 02:23:59,222] Trial 14 finished with value: 86.44 and parameters: {'n_neighbors': 6, 'algorithm': 'kd_tree', 'p': 1}. Best is trial 0 with value: 86.55.\n",
            "[I 2025-04-26 02:24:08,569] Trial 15 finished with value: 86.53 and parameters: {'n_neighbors': 13, 'algorithm': 'kd_tree', 'p': 1}. Best is trial 0 with value: 86.55.\n",
            "[I 2025-04-26 02:24:17,848] Trial 16 finished with value: 86.22 and parameters: {'n_neighbors': 8, 'algorithm': 'kd_tree', 'p': 1}. Best is trial 0 with value: 86.55.\n",
            "[I 2025-04-26 02:24:27,264] Trial 17 finished with value: 86.55 and parameters: {'n_neighbors': 18, 'algorithm': 'ball_tree', 'p': 2}. Best is trial 0 with value: 86.55.\n",
            "[I 2025-04-26 02:24:36,630] Trial 18 finished with value: 86.53 and parameters: {'n_neighbors': 14, 'algorithm': 'brute', 'p': 1}. Best is trial 0 with value: 86.55.\n",
            "[I 2025-04-26 02:24:46,028] Trial 19 finished with value: 86.53 and parameters: {'n_neighbors': 17, 'algorithm': 'kd_tree', 'p': 1}. Best is trial 0 with value: 86.55.\n",
            "[I 2025-04-26 02:24:55,473] Trial 20 finished with value: 86.55 and parameters: {'n_neighbors': 20, 'algorithm': 'kd_tree', 'p': 2}. Best is trial 0 with value: 86.55.\n",
            "[I 2025-04-26 02:25:04,951] Trial 21 finished with value: 86.55 and parameters: {'n_neighbors': 20, 'algorithm': 'auto', 'p': 2}. Best is trial 0 with value: 86.55.\n",
            "[I 2025-04-26 02:25:14,353] Trial 22 finished with value: 86.55 and parameters: {'n_neighbors': 18, 'algorithm': 'auto', 'p': 2}. Best is trial 0 with value: 86.55.\n",
            "[I 2025-04-26 02:25:23,793] Trial 23 finished with value: 86.55 and parameters: {'n_neighbors': 18, 'algorithm': 'auto', 'p': 2}. Best is trial 0 with value: 86.55.\n",
            "[I 2025-04-26 02:25:33,158] Trial 24 finished with value: 86.53 and parameters: {'n_neighbors': 16, 'algorithm': 'auto', 'p': 2}. Best is trial 0 with value: 86.55.\n",
            "[I 2025-04-26 02:25:42,666] Trial 25 finished with value: 86.55 and parameters: {'n_neighbors': 20, 'algorithm': 'auto', 'p': 1}. Best is trial 0 with value: 86.55.\n",
            "[I 2025-04-26 02:25:52,133] Trial 26 finished with value: 86.55 and parameters: {'n_neighbors': 18, 'algorithm': 'brute', 'p': 2}. Best is trial 0 with value: 86.55.\n",
            "[I 2025-04-26 02:26:01,497] Trial 27 finished with value: 86.53 and parameters: {'n_neighbors': 14, 'algorithm': 'ball_tree', 'p': 1}. Best is trial 0 with value: 86.55.\n",
            "[I 2025-04-26 02:26:10,833] Trial 28 finished with value: 86.44 and parameters: {'n_neighbors': 6, 'algorithm': 'kd_tree', 'p': 2}. Best is trial 0 with value: 86.55.\n",
            "[I 2025-04-26 02:26:20,243] Trial 29 finished with value: 86.53 and parameters: {'n_neighbors': 16, 'algorithm': 'brute', 'p': 1}. Best is trial 0 with value: 86.55.\n",
            "[I 2025-04-26 02:26:29,703] Trial 30 finished with value: 86.53 and parameters: {'n_neighbors': 16, 'algorithm': 'auto', 'p': 1}. Best is trial 0 with value: 86.55.\n",
            "[I 2025-04-26 02:26:39,155] Trial 31 finished with value: 86.55 and parameters: {'n_neighbors': 19, 'algorithm': 'auto', 'p': 1}. Best is trial 0 with value: 86.55.\n",
            "[I 2025-04-26 02:26:48,590] Trial 32 finished with value: 86.55 and parameters: {'n_neighbors': 19, 'algorithm': 'auto', 'p': 1}. Best is trial 0 with value: 86.55.\n",
            "[I 2025-04-26 02:26:58,023] Trial 33 finished with value: 86.55 and parameters: {'n_neighbors': 19, 'algorithm': 'auto', 'p': 1}. Best is trial 0 with value: 86.55.\n",
            "[I 2025-04-26 02:27:07,465] Trial 34 finished with value: 86.53 and parameters: {'n_neighbors': 17, 'algorithm': 'kd_tree', 'p': 1}. Best is trial 0 with value: 86.55.\n",
            "[I 2025-04-26 02:27:16,896] Trial 35 finished with value: 86.53 and parameters: {'n_neighbors': 15, 'algorithm': 'auto', 'p': 1}. Best is trial 0 with value: 86.55.\n",
            "[I 2025-04-26 02:27:26,372] Trial 36 finished with value: 86.55 and parameters: {'n_neighbors': 19, 'algorithm': 'ball_tree', 'p': 1}. Best is trial 0 with value: 86.55.\n",
            "[I 2025-04-26 02:27:35,781] Trial 37 finished with value: 86.53 and parameters: {'n_neighbors': 17, 'algorithm': 'kd_tree', 'p': 1}. Best is trial 0 with value: 86.55.\n",
            "[I 2025-04-26 02:27:45,195] Trial 38 finished with value: 86.55 and parameters: {'n_neighbors': 20, 'algorithm': 'auto', 'p': 2}. Best is trial 0 with value: 86.55.\n",
            "[I 2025-04-26 02:27:54,319] Trial 39 finished with value: 82.62 and parameters: {'n_neighbors': 1, 'algorithm': 'kd_tree', 'p': 1}. Best is trial 0 with value: 86.55.\n"
          ]
        },
        {
          "output_type": "stream",
          "name": "stdout",
          "text": [
            "Best params: {'n_neighbors': 19, 'algorithm': 'kd_tree', 'p': 1}\n",
            "Best accuracy score: 86.55\n",
            "CPU times: user 6min 13s, sys: 1.77 s, total: 6min 15s\n",
            "Wall time: 6min 15s\n"
          ]
        }
      ],
      "source": [
        "%%time\n",
        "\n",
        "def train_and_eval(n_neighbors=7, algorithm='auto', p=1):\n",
        "    knn = KNeighborsClassifier(n_neighbors = n_neighbors, algorithm = algorithm, p = p)\n",
        "    knn.fit(X_train_scaled, y_train_df)\n",
        "    y_proba = knn.predict_proba(X_valid_scaled)[:, 1]\n",
        "    score = cp.round(knn.score(cp.asnumpy(X_valid_scaled), cp.asnumpy(y_valid_df)) * 100, 2)  # .get() to bring data back to CPU\n",
        "    return score\n",
        "\n",
        "def objective(trial):\n",
        "    n_neighbors = trial.suggest_int(\"n_neighbors\", 1, 20)\n",
        "    algorithm = trial.suggest_categorical(\"algorithm\", [\"auto\", \"ball_tree\", \"kd_tree\", \"brute\"])\n",
        "    p = trial.suggest_int(\"p\", 1, 2)\n",
        "    return train_and_eval(n_neighbors, algorithm, p)\n",
        "\n",
        "knn_study = optuna.create_study(\n",
        "    direction=\"maximize\",\n",
        "    study_name=\"optuna_knn_acc_score\",\n",
        "    sampler=optuna.samplers.TPESampler(seed=142),\n",
        ")\n",
        "\n",
        "knn_study.optimize(objective, n_trials=40)\n",
        "\n",
        "print(f\"Best params: {knn_study.best_params}\")\n",
        "print(f\"Best accuracy score: {knn_study.best_value}\")"
      ]
    },
    {
      "cell_type": "markdown",
      "metadata": {
        "id": "T2URwKNTsvbQ"
      },
      "source": [
        "## Ensemble Method - Stacking Generalization (HPO)"
      ]
    },
    {
      "cell_type": "code",
      "execution_count": null,
      "metadata": {
        "id": "t6ei-hgqsvbQ"
      },
      "outputs": [],
      "source": [
        "# Define base models (level-0 models)\n",
        "base_models = [\n",
        "    (\"logistic_regression\", LogisticRegression(**lr_study.best_params, max_iter = 20000, tol=1e-3)), #80.45\n",
        "    (\"random_forest\", RandomForestClassifier(**rf_study.best_params, random_state = 42)), #85.95\n",
        "    (\"k_nearest_neighbors\", KNeighborsClassifier(**knn_study.best_params)) #86.55\n",
        "]"
      ]
    },
    {
      "cell_type": "code",
      "execution_count": null,
      "metadata": {
        "colab": {
          "base_uri": "https://localhost:8080/"
        },
        "id": "YTewYTUEsvbQ",
        "outputId": "0d1d377a-53c2-41d2-d1d6-6cbae0bca118"
      },
      "outputs": [
        {
          "output_type": "stream",
          "name": "stdout",
          "text": [
            "Model name:  logistic_regression\n",
            "Model name:  random_forest\n",
            "Model name:  k_nearest_neighbors\n",
            "Model name:  logistic_regression\n",
            "Model name:  random_forest\n",
            "Model name:  k_nearest_neighbors\n",
            "CPU times: user 1min 37s, sys: 19.4 s, total: 1min 57s\n",
            "Wall time: 1min 57s\n"
          ]
        }
      ],
      "source": [
        "%%time\n",
        "\n",
        "# Function to generate meta features for stacking\n",
        "def generate_meta_features_for_stacking(base_models, X, y, X_meta):\n",
        "\n",
        "    kfold = StratifiedKFold(n_splits=5, shuffle=True, random_state=42)\n",
        "    meta_features = cp.zeros((X_meta.shape[0], len(base_models)))\n",
        "\n",
        "    for i, (name, model) in enumerate(base_models):\n",
        "\n",
        "        # Initialize array to hold out-of-fold predictions (for training data only)\n",
        "        meta_predictions = cp.zeros((X.shape[0],))\n",
        "        print(\"Model name: \", name)\n",
        "\n",
        "        # Out-of-fold predictions (only used if X_meta == X)\n",
        "        for train_idx, val_idx in kfold.split(X, y):\n",
        "            model.fit(cp.array(X.iloc[train_idx]), cp.array(y.iloc[train_idx]))\n",
        "            predictions = model.predict(cp.array(X.iloc[val_idx]))\n",
        "            meta_predictions[val_idx] = predictions.ravel()\n",
        "\n",
        "        # Refit model on full training data for final prediction on X_meta\n",
        "        model.fit(cp.array(X), cp.array(y))\n",
        "\n",
        "        # Predict meta features for test data\n",
        "        predictions = model.predict(cp.array(X_meta))\n",
        "        meta_features[:, i] = cp.array(predictions).ravel()\n",
        "\n",
        "    return meta_features\n",
        "\n",
        "# meta_train uses out-of-fold predictions to prevent leakage\n",
        "meta_train = generate_meta_features_for_stacking(base_models, X_train_scaled, y_train_df, X_train_scaled)\n",
        "\n",
        "# meta_valid uses predictions from base models trained on full training set\n",
        "meta_valid = generate_meta_features_for_stacking(base_models, X_train_scaled, y_train_df, X_valid_scaled)\n"
      ]
    },
    {
      "cell_type": "code",
      "execution_count": null,
      "metadata": {
        "scrolled": true,
        "colab": {
          "base_uri": "https://localhost:8080/"
        },
        "id": "cB-sI7plsvbQ",
        "outputId": "020cdf49-381f-49cf-adf1-bd05e2cfdfd1"
      },
      "outputs": [
        {
          "output_type": "stream",
          "name": "stderr",
          "text": [
            "[I 2025-04-26 02:29:51,750] A new study created in memory with name: optuna_knn_acc_score\n",
            "[I 2025-04-26 02:30:15,491] Trial 0 finished with value: 86.68 and parameters: {'n_neighbors': 29, 'metric': 'cosine', 'p': 2}. Best is trial 0 with value: 86.68.\n",
            "[I 2025-04-26 02:30:39,048] Trial 1 finished with value: 86.68 and parameters: {'n_neighbors': 22, 'metric': 'cosine', 'p': 1}. Best is trial 0 with value: 86.68.\n",
            "[I 2025-04-26 02:31:02,615] Trial 2 finished with value: 86.67 and parameters: {'n_neighbors': 24, 'metric': 'cosine', 'p': 1}. Best is trial 0 with value: 86.68.\n",
            "[I 2025-04-26 02:31:26,198] Trial 3 finished with value: 86.67 and parameters: {'n_neighbors': 21, 'metric': 'cosine', 'p': 2}. Best is trial 0 with value: 86.68.\n",
            "[I 2025-04-26 02:31:49,897] Trial 4 finished with value: 86.67 and parameters: {'n_neighbors': 26, 'metric': 'cosine', 'p': 2}. Best is trial 0 with value: 86.68.\n",
            "[I 2025-04-26 02:32:05,334] Trial 5 finished with value: 86.67 and parameters: {'n_neighbors': 28, 'metric': 'euclidean', 'p': 1}. Best is trial 0 with value: 86.68.\n",
            "[I 2025-04-26 02:32:28,963] Trial 6 finished with value: 86.68 and parameters: {'n_neighbors': 27, 'metric': 'cosine', 'p': 2}. Best is trial 0 with value: 86.68.\n",
            "[I 2025-04-26 02:32:52,587] Trial 7 finished with value: 86.67 and parameters: {'n_neighbors': 25, 'metric': 'cosine', 'p': 2}. Best is trial 0 with value: 86.68.\n",
            "[I 2025-04-26 02:33:07,999] Trial 8 finished with value: 86.67 and parameters: {'n_neighbors': 28, 'metric': 'euclidean', 'p': 2}. Best is trial 0 with value: 86.68.\n",
            "[I 2025-04-26 02:33:23,432] Trial 9 finished with value: 86.67 and parameters: {'n_neighbors': 30, 'metric': 'euclidean', 'p': 1}. Best is trial 0 with value: 86.68.\n",
            "[I 2025-04-26 02:33:38,839] Trial 10 finished with value: 86.67 and parameters: {'n_neighbors': 30, 'metric': 'euclidean', 'p': 2}. Best is trial 0 with value: 86.68.\n",
            "[I 2025-04-26 02:34:02,506] Trial 11 finished with value: 86.68 and parameters: {'n_neighbors': 22, 'metric': 'cosine', 'p': 1}. Best is trial 0 with value: 86.68.\n",
            "[I 2025-04-26 02:34:26,151] Trial 12 finished with value: 86.67 and parameters: {'n_neighbors': 23, 'metric': 'cosine', 'p': 1}. Best is trial 0 with value: 86.68.\n",
            "[I 2025-04-26 02:34:49,692] Trial 13 finished with value: 86.67 and parameters: {'n_neighbors': 20, 'metric': 'cosine', 'p': 1}. Best is trial 0 with value: 86.68.\n",
            "[I 2025-04-26 02:35:13,363] Trial 14 finished with value: 86.67 and parameters: {'n_neighbors': 23, 'metric': 'cosine', 'p': 2}. Best is trial 0 with value: 86.68.\n",
            "[I 2025-04-26 02:35:37,024] Trial 15 finished with value: 86.67 and parameters: {'n_neighbors': 20, 'metric': 'cosine', 'p': 1}. Best is trial 0 with value: 86.68.\n",
            "[I 2025-04-26 02:36:00,639] Trial 16 finished with value: 86.67 and parameters: {'n_neighbors': 25, 'metric': 'cosine', 'p': 1}. Best is trial 0 with value: 86.68.\n",
            "[I 2025-04-26 02:36:24,233] Trial 17 finished with value: 86.68 and parameters: {'n_neighbors': 29, 'metric': 'cosine', 'p': 2}. Best is trial 0 with value: 86.68.\n",
            "[I 2025-04-26 02:36:39,000] Trial 18 finished with value: 86.67 and parameters: {'n_neighbors': 22, 'metric': 'euclidean', 'p': 2}. Best is trial 0 with value: 86.68.\n",
            "[I 2025-04-26 02:37:02,711] Trial 19 finished with value: 86.67 and parameters: {'n_neighbors': 26, 'metric': 'cosine', 'p': 1}. Best is trial 0 with value: 86.68.\n",
            "[I 2025-04-26 02:37:26,345] Trial 20 finished with value: 86.67 and parameters: {'n_neighbors': 24, 'metric': 'cosine', 'p': 1}. Best is trial 0 with value: 86.68.\n",
            "[I 2025-04-26 02:37:49,965] Trial 21 finished with value: 86.68 and parameters: {'n_neighbors': 27, 'metric': 'cosine', 'p': 2}. Best is trial 0 with value: 86.68.\n",
            "[I 2025-04-26 02:38:13,598] Trial 22 finished with value: 86.68 and parameters: {'n_neighbors': 28, 'metric': 'cosine', 'p': 2}. Best is trial 0 with value: 86.68.\n",
            "[I 2025-04-26 02:38:37,239] Trial 23 finished with value: 86.68 and parameters: {'n_neighbors': 27, 'metric': 'cosine', 'p': 2}. Best is trial 0 with value: 86.68.\n",
            "[I 2025-04-26 02:39:00,872] Trial 24 finished with value: 86.68 and parameters: {'n_neighbors': 29, 'metric': 'cosine', 'p': 2}. Best is trial 0 with value: 86.68.\n",
            "[I 2025-04-26 02:39:24,540] Trial 25 finished with value: 86.68 and parameters: {'n_neighbors': 27, 'metric': 'cosine', 'p': 2}. Best is trial 0 with value: 86.68.\n",
            "[I 2025-04-26 02:39:40,013] Trial 26 finished with value: 86.67 and parameters: {'n_neighbors': 29, 'metric': 'euclidean', 'p': 2}. Best is trial 0 with value: 86.68.\n",
            "[I 2025-04-26 02:40:03,670] Trial 27 finished with value: 86.67 and parameters: {'n_neighbors': 26, 'metric': 'cosine', 'p': 2}. Best is trial 0 with value: 86.68.\n",
            "[I 2025-04-26 02:40:27,333] Trial 28 finished with value: 86.68 and parameters: {'n_neighbors': 30, 'metric': 'cosine', 'p': 1}. Best is trial 0 with value: 86.68.\n",
            "[I 2025-04-26 02:40:51,020] Trial 29 finished with value: 86.67 and parameters: {'n_neighbors': 25, 'metric': 'cosine', 'p': 2}. Best is trial 0 with value: 86.68.\n",
            "[I 2025-04-26 02:41:14,687] Trial 30 finished with value: 86.67 and parameters: {'n_neighbors': 24, 'metric': 'cosine', 'p': 1}. Best is trial 0 with value: 86.68.\n",
            "[I 2025-04-26 02:41:38,300] Trial 31 finished with value: 86.68 and parameters: {'n_neighbors': 22, 'metric': 'cosine', 'p': 1}. Best is trial 0 with value: 86.68.\n",
            "[I 2025-04-26 02:42:01,913] Trial 32 finished with value: 86.67 and parameters: {'n_neighbors': 21, 'metric': 'cosine', 'p': 1}. Best is trial 0 with value: 86.68.\n",
            "[I 2025-04-26 02:42:25,545] Trial 33 finished with value: 86.68 and parameters: {'n_neighbors': 22, 'metric': 'cosine', 'p': 1}. Best is trial 0 with value: 86.68.\n",
            "[I 2025-04-26 02:42:49,140] Trial 34 finished with value: 86.67 and parameters: {'n_neighbors': 21, 'metric': 'cosine', 'p': 1}. Best is trial 0 with value: 86.68.\n",
            "[I 2025-04-26 02:43:12,698] Trial 35 finished with value: 86.67 and parameters: {'n_neighbors': 23, 'metric': 'cosine', 'p': 1}. Best is trial 0 with value: 86.68.\n",
            "[I 2025-04-26 02:43:36,283] Trial 36 finished with value: 86.67 and parameters: {'n_neighbors': 24, 'metric': 'cosine', 'p': 2}. Best is trial 0 with value: 86.68.\n",
            "[I 2025-04-26 02:43:51,082] Trial 37 finished with value: 86.67 and parameters: {'n_neighbors': 26, 'metric': 'euclidean', 'p': 1}. Best is trial 0 with value: 86.68.\n",
            "[I 2025-04-26 02:44:14,727] Trial 38 finished with value: 86.68 and parameters: {'n_neighbors': 28, 'metric': 'cosine', 'p': 2}. Best is trial 0 with value: 86.68.\n",
            "[I 2025-04-26 02:44:29,524] Trial 39 finished with value: 86.67 and parameters: {'n_neighbors': 21, 'metric': 'euclidean', 'p': 1}. Best is trial 0 with value: 86.68.\n"
          ]
        },
        {
          "output_type": "stream",
          "name": "stdout",
          "text": [
            "Best params: {'n_neighbors': 29, 'metric': 'cosine', 'p': 2}\n",
            "Best accuracy score: 86.68\n",
            "CPU times: user 14min 31s, sys: 6.35 s, total: 14min 37s\n",
            "Wall time: 14min 37s\n"
          ]
        }
      ],
      "source": [
        "%%time\n",
        "\n",
        "def train_and_eval(n_neighbors=7, metric = \"euclidean\", p=1):\n",
        "    knn = KNeighborsClassifier(n_neighbors = n_neighbors, metric = metric, p = p)\n",
        "    knn.fit(meta_train, y_train_df)\n",
        "    y_proba = knn.predict_proba(meta_valid)[:, 1]\n",
        "    meta_score = cp.round(knn.score(cp.asnumpy(meta_valid), cp.asnumpy(y_valid_df)) * 100, 2)  # .get() to bring data back to CPU\n",
        "    return meta_score\n",
        "\n",
        "def objective(trial):\n",
        "    n_neighbors = trial.suggest_int(\"n_neighbors\", 20, 30)\n",
        "    metric = trial.suggest_categorical(\"metric\", [\"euclidean\", \"cosine\"])\n",
        "    p = trial.suggest_int(\"p\", 1, 2)\n",
        "    return train_and_eval(n_neighbors, metric, p)\n",
        "\n",
        "study = optuna.create_study(\n",
        "    direction=\"maximize\",\n",
        "    study_name=\"optuna_knn_acc_score\",\n",
        "    sampler=optuna.samplers.TPESampler(seed=142),\n",
        ")\n",
        "\n",
        "study.optimize(objective, n_trials=40)\n",
        "\n",
        "print(f\"Best params: {study.best_params}\")\n",
        "print(f\"Best accuracy score: {study.best_value}\")"
      ]
    },
    {
      "cell_type": "code",
      "execution_count": null,
      "metadata": {
        "colab": {
          "base_uri": "https://localhost:8080/"
        },
        "id": "5a-rKtMosvbR",
        "outputId": "3ec39e84-55af-41fd-86b5-fd039b83558a"
      },
      "outputs": [
        {
          "output_type": "stream",
          "name": "stdout",
          "text": [
            "Stacking Model accuracy score: 86.68\n",
            "CPU times: user 23.4 s, sys: 184 ms, total: 23.6 s\n",
            "Wall time: 23.6 s\n"
          ]
        }
      ],
      "source": [
        "%%time\n",
        "\n",
        "# Define the meta-model (level-1 model)\n",
        "meta_model = KNeighborsClassifier(**study.best_params)\n",
        "\n",
        "# Train the meta-model\n",
        "meta_model.fit(meta_train, y_train_df)\n",
        "\n",
        "# Make predictions with the meta-model\n",
        "Y_pred = meta_model.predict(meta_valid)\n",
        "\n",
        "# Evaluate the performance\n",
        "acc_meta = cp.round(meta_model.score(cp.asnumpy(meta_valid), cp.asnumpy(y_valid_df)) * 100, 2)\n",
        "print(f\"Stacking Model accuracy score: {acc_meta}\")"
      ]
    },
    {
      "cell_type": "markdown",
      "metadata": {
        "id": "khmSrhFvsvbR"
      },
      "source": [
        "## Bar Chart (HPO)"
      ]
    },
    {
      "cell_type": "code",
      "execution_count": null,
      "metadata": {
        "colab": {
          "base_uri": "https://localhost:8080/"
        },
        "id": "uT0_lr0gsvbR",
        "outputId": "8d2827b3-99e9-48fd-c78b-6a8e75fc779e"
      },
      "outputs": [
        {
          "output_type": "display_data",
          "data": {
            "text/plain": [
              "<Figure size 800x500 with 1 Axes>"
            ],
            "image/png": "[encoded data removed]"
          },
          "metadata": {}
        }
      ],
      "source": [
        "import pandas as pd\n",
        "import matplotlib.pyplot as plt\n",
        "\n",
        "# Recreate the DataFrame from your image\n",
        "df = pd.DataFrame({\n",
        "    \"Logistic Regression\": [80.36, 80.45],\n",
        "    \"Random Forest\": [83.95, 85.95],\n",
        "    \"K-Nearest Neighbor (KNN)\": [84.96, 86.55],\n",
        "    \"Stacking (KNN-meta)\": [85.24, 86.68]\n",
        "})\n",
        "\n",
        "# Transpose the DataFrame to get model names as rows\n",
        "df_transposed = df.T.reset_index()\n",
        "df_transposed.columns = ['Model', 'Before HPO', 'After HPO']\n",
        "df_transposed\n",
        "\n",
        "# Set global font size\n",
        "plt.rcParams.update({\n",
        "    'font.size': 14,           # Base font size for everything\n",
        "    'axes.titlesize': 18,      # Title font size\n",
        "    'axes.labelsize': 16,      # X and Y label font size\n",
        "    'xtick.labelsize': 12,     # X tick labels\n",
        "    'ytick.labelsize': 12,     # Y tick labels\n",
        "    'legend.fontsize': 14,     # Legend text\n",
        "})\n",
        "\n",
        "# Plot configuration\n",
        "bar_width = 0.35\n",
        "x = range(len(df_transposed['Model']))\n",
        "\n",
        "# Create the plot\n",
        "plt.figure(figsize=(8, 5))\n",
        "plt.bar([i - bar_width/2 for i in x], df_transposed['Before HPO'],\n",
        "        width=bar_width, label='Before HPO', color='#76B900')\n",
        "plt.bar([i + bar_width/2 for i in x], df_transposed['After HPO'],\n",
        "        width=bar_width, label='After HPO', color='#4A7304')  # NVIDIA green\n",
        "\n",
        "# Formatting\n",
        "plt.xticks(ticks=x, labels=df_transposed['Model'], rotation=10)\n",
        "plt.ylim(77, 90)\n",
        "plt.yticks(ticks=range(77, 91), labels=[f\"{i}.00\" for i in range(77, 91)])\n",
        "plt.ylabel(\"Accuracy (%)\")\n",
        "plt.title(\"Model Accuracy Comparison Before and After HPO\")\n",
        "plt.legend()\n",
        "\n",
        "# Annotate each bar with its value\n",
        "for i in range(len(x)):\n",
        "    plt.text(x[i] - bar_width/2, df_transposed['Before HPO'][i] + 0.2,\n",
        "             f\"{df_transposed['Before HPO'][i]:.2f}\", ha='center')\n",
        "    plt.text(x[i] + bar_width/2, df_transposed['After HPO'][i] + 0.2,\n",
        "             f\"{df_transposed['After HPO'][i]:.2f}\", ha='center')\n",
        "\n",
        "plt.tight_layout()\n",
        "plt.show()\n"
      ]
    },
    {
      "cell_type": "code",
      "execution_count": null,
      "metadata": {
        "id": "5cWvKbcqsvbR"
      },
      "outputs": [],
      "source": []
    }
  ],
  "metadata": {
    "_change_revision": 0,
    "_is_fork": false,
    "colab": {
      "provenance": [],
      "gpuType": "T4"
    },
    "kernelspec": {
      "display_name": "Python 3",
      "name": "python3"
    },
    "language_info": {
      "codemirror_mode": {
        "name": "ipython",
        "version": 3
      },
      "file_extension": ".py",
      "mimetype": "text/x-python",
      "name": "python",
      "nbconvert_exporter": "python",
      "pygments_lexer": "ipython3",
      "version": "3.12.3"
    },
    "accelerator": "GPU"
  },
  "nbformat": 4,
  "nbformat_minor": 0
}